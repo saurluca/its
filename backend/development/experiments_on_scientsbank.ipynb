{
 "cells": [
  {
   "cell_type": "code",
   "execution_count": null,
   "id": "aa24bef4-3c6c-4107-92e4-6cfd62918f02",
   "metadata": {},
   "outputs": [
    {
     "name": "stdout",
     "output_type": "stream",
     "text": [
      "train :\n",
      "  correct : 2008\n",
      "  contradictory : 1324\n",
      "  incorrect : 499\n",
      "  irrelevant : 1138\n",
      "  total : 4969\n",
      "test_ua :\n",
      "  correct : 233\n",
      "  contradictory : 113\n",
      "  incorrect : 58\n",
      "  irrelevant : 136\n",
      "  total : 540\n",
      "test_uq :\n",
      "  correct : 301\n",
      "  contradictory : 175\n",
      "  incorrect : 64\n",
      "  irrelevant : 193\n",
      "  total : 733\n",
      "test_ud :\n",
      "  correct : 1917\n",
      "  contradictory : 986\n",
      "  incorrect : 417\n",
      "  irrelevant : 1242\n",
      "  total : 4562\n"
     ]
    }
   ],
   "source": [
    "def print_label_dist(dataset):\n",
    "    for split_name in dataset:\n",
    "        print(split_name, \":\")\n",
    "        num_examples = 0\n",
    "        for label in dataset[split_name].features[\"label\"].names:\n",
    "            count = dataset[split_name][\"label\"].count(\n",
    "                dataset[split_name].features[\"label\"].str2int(label)\n",
    "            )\n",
    "            print(\" \", label, \":\", count)\n",
    "            num_examples += count\n",
    "        print(\"  total :\", num_examples)\n",
    "\n",
    "\n",
    "print_label_dist(dataset)"
   ]
  },
  {
   "cell_type": "code",
   "execution_count": null,
   "id": "c8a1f518-d994-46bf-9e3e-0a896398f232",
   "metadata": {},
   "outputs": [
    {
     "ename": "NameError",
     "evalue": "name 'ds' is not defined",
     "output_type": "error",
     "traceback": [
      "\u001b[31m---------------------------------------------------------------------------\u001b[39m",
      "\u001b[31mNameError\u001b[39m                                 Traceback (most recent call last)",
      "\u001b[36mCell\u001b[39m\u001b[36m \u001b[39m\u001b[32mIn[6]\u001b[39m\u001b[32m, line 39\u001b[39m\n\u001b[32m     34\u001b[39m dataset = dataset.cast_column(\n\u001b[32m     35\u001b[39m     \u001b[33m\"\u001b[39m\u001b[33mlabel\u001b[39m\u001b[33m\"\u001b[39m, ClassLabel(names=[\u001b[33m\"\u001b[39m\u001b[33mcorrect\u001b[39m\u001b[33m\"\u001b[39m, \u001b[33m\"\u001b[39m\u001b[33mcontradictory\u001b[39m\u001b[33m\"\u001b[39m, \u001b[33m\"\u001b[39m\u001b[33mincorrect\u001b[39m\u001b[33m\"\u001b[39m, \u001b[33m\"\u001b[39m\u001b[33mirrelevant\u001b[39m\u001b[33m\"\u001b[39m])\n\u001b[32m     36\u001b[39m )\n\u001b[32m     38\u001b[39m \u001b[38;5;66;03m# shuffle ds\u001b[39;00m\n\u001b[32m---> \u001b[39m\u001b[32m39\u001b[39m ds = \u001b[43mds\u001b[49m.shuffle(seed=\u001b[32m42\u001b[39m)\n\u001b[32m     41\u001b[39m dataset[\u001b[33m\"\u001b[39m\u001b[33mtrain\u001b[39m\u001b[33m\"\u001b[39m][\u001b[32m0\u001b[39m]\n",
      "\u001b[31mNameError\u001b[39m: name 'ds' is not defined"
     ]
    }
   ],
   "source": [
    "from datasets import load_dataset\n",
    "from datasets import ClassLabel\n",
    "import dspy\n",
    "import os\n",
    "from dotenv import load_dotenv\n",
    "\n",
    "load_dotenv()\n",
    "\n",
    "\n",
    "azure_api_key = os.getenv(\"AZURE_API_KEY\")\n",
    "azure_api_base = os.getenv(\"AZURE_API_BASE\")\n",
    "\n",
    "lm = dspy.LM(\n",
    "    \"azure/gpt-4o-mini\",\n",
    "    api_base=azure_api_base,\n",
    "    api_key=azure_api_key,\n",
    "    api_version=\"2024-12-01-preview\",\n",
    ")\n",
    "\n",
    "dataset = load_dataset(\"nkazi/SciEntsBank\")\n",
    "\n",
    "# convert to 4 way classification\n",
    "dataset = dataset.align_labels_with_mapping(\n",
    "    {\n",
    "        \"correct\": 0,\n",
    "        \"partially_correct_incomplete\": 1,\n",
    "        \"contradictory\": 2,\n",
    "        \"irrelevant\": 3,\n",
    "        \"non_domain\": 3,\n",
    "    },\n",
    "    \"label\",\n",
    ")\n",
    "dataset = dataset.cast_column(\n",
    "    \"label\", ClassLabel(names=[\"correct\", \"contradictory\", \"incorrect\", \"irrelevant\"])\n",
    ")\n",
    "\n",
    "# shuffle ds\n",
    "ds = ds.shuffle(seed=42)\n",
    "\n",
    "dataset[\"train\"][0]"
   ]
  },
  {
   "cell_type": "code",
   "execution_count": null,
   "id": "64b4c1b1-f305-49dc-bcd7-8f1f3ca63daf",
   "metadata": {},
   "outputs": [
    {
     "data": {
      "text/plain": [
       "{'id': 'ME.79.207.1',\n",
       " 'question': \"Kurt was investigating which objects stick to magnets. He made an entry in his science notebook and drew a picture to help explain what he did. Look what I did! I picked up a paperclip with a magnet. Then that paperclip picked up another one, and then another one. And they weren't hooked together either. All they had to do was touch each other. Explain to Kurt why he was able to pick up all those paperclips, even though the magnet was only touching the first one.\",\n",
       " 'reference_answer': 'When a paperclip sticks to a magnet, the paperclip turns into a temporary magnet, so the paperclip can stick to other paperclips and other things made of iron.',\n",
       " 'student_answer': 'The magnet sends magnet through one paperclip to another.',\n",
       " 'label': 1}"
      ]
     },
     "execution_count": 7,
     "metadata": {},
     "output_type": "execute_result"
    }
   ],
   "source": [
    "from datasets import load_dataset\n",
    "from datasets import ClassLabel\n",
    "import dspy\n",
    "import os\n",
    "from dotenv import load_dotenv\n",
    "\n",
    "load_dotenv()\n",
    "\n",
    "\n",
    "azure_api_key = os.getenv(\"AZURE_API_KEY\")\n",
    "azure_api_base = os.getenv(\"AZURE_API_BASE\")\n",
    "\n",
    "lm = dspy.LM(\n",
    "    \"azure/gpt-4o-mini\",\n",
    "    api_base=azure_api_base,\n",
    "    api_key=azure_api_key,\n",
    "    api_version=\"2024-12-01-preview\",\n",
    ")\n",
    "\n",
    "dataset = load_dataset(\"nkazi/SciEntsBank\")\n",
    "\n",
    "# convert to 4 way classification\n",
    "dataset = dataset.align_labels_with_mapping(\n",
    "    {\n",
    "        \"correct\": 0,\n",
    "        \"partially_correct_incomplete\": 1,\n",
    "        \"contradictory\": 2,\n",
    "        \"irrelevant\": 3,\n",
    "        \"non_domain\": 3,\n",
    "    },\n",
    "    \"label\",\n",
    ")\n",
    "dataset = dataset.cast_column(\n",
    "    \"label\", ClassLabel(names=[\"correct\", \"contradictory\", \"incorrect\", \"irrelevant\"])\n",
    ")\n",
    "\n",
    "# shuffle ds\n",
    "dataset = dataset.shuffle(seed=42)\n",
    "\n",
    "dataset[\"train\"][0]"
   ]
  },
  {
   "cell_type": "code",
   "execution_count": null,
   "id": "5953e614-4beb-47ee-8e3f-9e54cc2d716a",
   "metadata": {},
   "outputs": [
    {
     "name": "stdout",
     "output_type": "stream",
     "text": [
      "train :\n",
      "  correct : 2008\n",
      "  contradictory : 1324\n",
      "  incorrect : 499\n",
      "  irrelevant : 1138\n",
      "  total : 4969\n",
      "test_ua :\n",
      "  correct : 233\n",
      "  contradictory : 113\n",
      "  incorrect : 58\n",
      "  irrelevant : 136\n",
      "  total : 540\n",
      "test_uq :\n",
      "  correct : 301\n",
      "  contradictory : 175\n",
      "  incorrect : 64\n",
      "  irrelevant : 193\n",
      "  total : 733\n",
      "test_ud :\n",
      "  correct : 1917\n",
      "  contradictory : 986\n",
      "  incorrect : 417\n",
      "  irrelevant : 1242\n",
      "  total : 4562\n"
     ]
    }
   ],
   "source": [
    "def print_label_dist(dataset):\n",
    "    for split_name in dataset:\n",
    "        print(split_name, \":\")\n",
    "        num_examples = 0\n",
    "        for label in dataset[split_name].features[\"label\"].names:\n",
    "            count = dataset[split_name][\"label\"].count(\n",
    "                dataset[split_name].features[\"label\"].str2int(label)\n",
    "            )\n",
    "            print(\" \", label, \":\", count)\n",
    "            num_examples += count\n",
    "        print(\"  total :\", num_examples)\n",
    "\n",
    "\n",
    "print_label_dist(dataset)"
   ]
  },
  {
   "cell_type": "code",
   "execution_count": null,
   "id": "dc946d54-803c-4f41-8a75-1a57fe29ee8b",
   "metadata": {},
   "outputs": [],
   "source": [
    "def metric(gold, pred, trace=None):\n",
    "    # gold is a DSPy Example with targets, pred is the model output\n",
    "    gold_score = gold.label\n",
    "    pred_score = pred.score\n",
    "\n",
    "    return float(pred_score == gold_score)\n",
    "\n",
    "\n",
    "evaluator = dspy.Evaluate(devset=dataset[\"train\"], num_threads=8, display_progress=True)\n",
    "\n",
    "teacher = dspy.Predict(TeacherFreeText4Way)"
   ]
  },
  {
   "cell_type": "code",
   "execution_count": null,
   "id": "e8b9b858-887b-428f-a62a-321e17621d62",
   "metadata": {},
   "outputs": [],
   "source": [
    "def metric(gold, pred, trace=None):\n",
    "    # gold is a DSPy Example with targets, pred is the model output\n",
    "    gold_score = gold.label\n",
    "    pred_score = pred.score\n",
    "\n",
    "    return float(pred_score == gold_score)\n",
    "\n",
    "\n",
    "evaluator = dspy.Evaluate(\n",
    "    devset=dataset[\"train\"][:20], num_threads=8, display_progress=True\n",
    ")\n",
    "\n",
    "teacher = dspy.Predict(TeacherFreeText4Way)"
   ]
  },
  {
   "cell_type": "code",
   "execution_count": null,
   "id": "83b46df4-b35d-4cd0-a209-1c7cb5235f2d",
   "metadata": {},
   "outputs": [
    {
     "name": "stderr",
     "output_type": "stream",
     "text": [
      "2025/08/20 15:37:30 ERROR dspy.utils.parallelizer: Error for id: 'str' object has no attribute 'inputs'. Set `provide_traceback=True` for traceback.\n",
      "2025/08/20 15:37:30 ERROR dspy.utils.parallelizer: Error for question: 'str' object has no attribute 'inputs'. Set `provide_traceback=True` for traceback.\n",
      "2025/08/20 15:37:30 ERROR dspy.utils.parallelizer: Error for reference_answer: 'str' object has no attribute 'inputs'. Set `provide_traceback=True` for traceback.\n",
      "2025/08/20 15:37:30 ERROR dspy.utils.parallelizer: Error for student_answer: 'str' object has no attribute 'inputs'. Set `provide_traceback=True` for traceback.\n",
      "2025/08/20 15:37:30 ERROR dspy.utils.parallelizer: Error for label: 'str' object has no attribute 'inputs'. Set `provide_traceback=True` for traceback.\n"
     ]
    },
    {
     "name": "stdout",
     "output_type": "stream",
     "text": [
      "Average Metric: 0.00 / 0 (0%): 100%|██████████| 5/5 [00:00<00:00, 1959.41it/s]"
     ]
    },
    {
     "name": "stderr",
     "output_type": "stream",
     "text": [
      "2025/08/20 15:37:30 INFO dspy.evaluate.evaluate: Average Metric: 0.0 / 5 (0.0%)\n"
     ]
    },
    {
     "name": "stdout",
     "output_type": "stream",
     "text": [
      "\n"
     ]
    },
    {
     "ename": "AttributeError",
     "evalue": "'str' object has no attribute 'items'",
     "output_type": "error",
     "traceback": [
      "\u001b[31m---------------------------------------------------------------------------\u001b[39m",
      "\u001b[31mAttributeError\u001b[39m                            Traceback (most recent call last)",
      "\u001b[36mCell\u001b[39m\u001b[36m \u001b[39m\u001b[32mIn[11]\u001b[39m\u001b[32m, line 5\u001b[39m\n\u001b[32m      1\u001b[39m \u001b[38;5;66;03m# %%\u001b[39;00m\n\u001b[32m----> \u001b[39m\u001b[32m5\u001b[39m \u001b[43mevaluator\u001b[49m\u001b[43m(\u001b[49m\u001b[43mteacher\u001b[49m\u001b[43m,\u001b[49m\u001b[43m \u001b[49m\u001b[43mmetric\u001b[49m\u001b[43m=\u001b[49m\u001b[43mmetric\u001b[49m\u001b[43m,\u001b[49m\u001b[43m \u001b[49m\u001b[43mdisplay_table\u001b[49m\u001b[43m=\u001b[49m\u001b[32;43m5\u001b[39;49m\u001b[43m)\u001b[49m\n",
      "\u001b[36mFile \u001b[39m\u001b[32m~/Coding/its/backend/.venv/lib/python3.12/site-packages/dspy/utils/callback.py:326\u001b[39m, in \u001b[36mwith_callbacks.<locals>.sync_wrapper\u001b[39m\u001b[34m(instance, *args, **kwargs)\u001b[39m\n\u001b[32m    324\u001b[39m callbacks = _get_active_callbacks(instance)\n\u001b[32m    325\u001b[39m \u001b[38;5;28;01mif\u001b[39;00m \u001b[38;5;129;01mnot\u001b[39;00m callbacks:\n\u001b[32m--> \u001b[39m\u001b[32m326\u001b[39m     \u001b[38;5;28;01mreturn\u001b[39;00m \u001b[43mfn\u001b[49m\u001b[43m(\u001b[49m\u001b[43minstance\u001b[49m\u001b[43m,\u001b[49m\u001b[43m \u001b[49m\u001b[43m*\u001b[49m\u001b[43margs\u001b[49m\u001b[43m,\u001b[49m\u001b[43m \u001b[49m\u001b[43m*\u001b[49m\u001b[43m*\u001b[49m\u001b[43mkwargs\u001b[49m\u001b[43m)\u001b[49m\n\u001b[32m    328\u001b[39m call_id = uuid.uuid4().hex\n\u001b[32m    330\u001b[39m _execute_start_callbacks(instance, fn, call_id, callbacks, args, kwargs)\n",
      "\u001b[36mFile \u001b[39m\u001b[32m~/Coding/its/backend/.venv/lib/python3.12/site-packages/dspy/evaluate/evaluate.py:176\u001b[39m, in \u001b[36mEvaluate.__call__\u001b[39m\u001b[34m(self, program, metric, devset, num_threads, display_progress, display_table, callback_metadata)\u001b[39m\n\u001b[32m    174\u001b[39m     metric_name = metric.\u001b[34m__name__\u001b[39m \u001b[38;5;28;01mif\u001b[39;00m \u001b[38;5;28misinstance\u001b[39m(metric, types.FunctionType) \u001b[38;5;28;01melse\u001b[39;00m metric.\u001b[34m__class__\u001b[39m.\u001b[34m__name__\u001b[39m\n\u001b[32m    175\u001b[39m     \u001b[38;5;66;03m# Construct a pandas DataFrame from the results\u001b[39;00m\n\u001b[32m--> \u001b[39m\u001b[32m176\u001b[39m     result_df = \u001b[38;5;28;43mself\u001b[39;49m\u001b[43m.\u001b[49m\u001b[43m_construct_result_table\u001b[49m\u001b[43m(\u001b[49m\u001b[43mresults\u001b[49m\u001b[43m,\u001b[49m\u001b[43m \u001b[49m\u001b[43mmetric_name\u001b[49m\u001b[43m)\u001b[49m\n\u001b[32m    178\u001b[39m     \u001b[38;5;28mself\u001b[39m._display_result_table(result_df, display_table, metric_name)\n\u001b[32m    179\u001b[39m \u001b[38;5;28;01melse\u001b[39;00m:\n",
      "\u001b[36mFile \u001b[39m\u001b[32m~/Coding/its/backend/.venv/lib/python3.12/site-packages/dspy/evaluate/evaluate.py:205\u001b[39m, in \u001b[36mEvaluate._construct_result_table\u001b[39m\u001b[34m(self, results, metric_name)\u001b[39m\n\u001b[32m    190\u001b[39m \u001b[38;5;250m\u001b[39m\u001b[33;03m\"\"\"\u001b[39;00m\n\u001b[32m    191\u001b[39m \u001b[33;03mConstruct a pandas DataFrame from the specified result list.\u001b[39;00m\n\u001b[32m    192\u001b[39m \u001b[33;03mLet's not try to change the name of this method as it may be patched by external tracing tools.\u001b[39;00m\n\u001b[32m   (...)\u001b[39m\u001b[32m    199\u001b[39m \u001b[33;03m    The constructed pandas DataFrame.\u001b[39;00m\n\u001b[32m    200\u001b[39m \u001b[33;03m\"\"\"\u001b[39;00m\n\u001b[32m    201\u001b[39m \u001b[38;5;28;01mimport\u001b[39;00m\u001b[38;5;250m \u001b[39m\u001b[34;01mpandas\u001b[39;00m\u001b[38;5;250m \u001b[39m\u001b[38;5;28;01mas\u001b[39;00m\u001b[38;5;250m \u001b[39m\u001b[34;01mpd\u001b[39;00m\n\u001b[32m    203\u001b[39m data = [\n\u001b[32m    204\u001b[39m     (\n\u001b[32m--> \u001b[39m\u001b[32m205\u001b[39m         \u001b[43mmerge_dicts\u001b[49m\u001b[43m(\u001b[49m\u001b[43mexample\u001b[49m\u001b[43m,\u001b[49m\u001b[43m \u001b[49m\u001b[43mprediction\u001b[49m\u001b[43m)\u001b[49m | {\u001b[33m\"\u001b[39m\u001b[33mcorrect\u001b[39m\u001b[33m\"\u001b[39m: score}\n\u001b[32m    206\u001b[39m         \u001b[38;5;28;01mif\u001b[39;00m prediction_is_dictlike(prediction)\n\u001b[32m    207\u001b[39m         \u001b[38;5;28;01melse\u001b[39;00m \u001b[38;5;28mdict\u001b[39m(example) | {\u001b[33m\"\u001b[39m\u001b[33mprediction\u001b[39m\u001b[33m\"\u001b[39m: prediction, \u001b[33m\"\u001b[39m\u001b[33mcorrect\u001b[39m\u001b[33m\"\u001b[39m: score}\n\u001b[32m    208\u001b[39m     )\n\u001b[32m    209\u001b[39m     \u001b[38;5;28;01mfor\u001b[39;00m example, prediction, score \u001b[38;5;129;01min\u001b[39;00m results\n\u001b[32m    210\u001b[39m ]\n\u001b[32m    212\u001b[39m \u001b[38;5;66;03m# Truncate every cell in the DataFrame (DataFrame.applymap was renamed to DataFrame.map in Pandas 2.1.0)\u001b[39;00m\n\u001b[32m    213\u001b[39m result_df = pd.DataFrame(data)\n",
      "\u001b[36mFile \u001b[39m\u001b[32m~/Coding/its/backend/.venv/lib/python3.12/site-packages/dspy/evaluate/evaluate.py:262\u001b[39m, in \u001b[36mmerge_dicts\u001b[39m\u001b[34m(d1, d2)\u001b[39m\n\u001b[32m    260\u001b[39m \u001b[38;5;28;01mdef\u001b[39;00m\u001b[38;5;250m \u001b[39m\u001b[34mmerge_dicts\u001b[39m(d1, d2) -> \u001b[38;5;28mdict\u001b[39m:\n\u001b[32m    261\u001b[39m     merged = {}\n\u001b[32m--> \u001b[39m\u001b[32m262\u001b[39m     \u001b[38;5;28;01mfor\u001b[39;00m k, v \u001b[38;5;129;01min\u001b[39;00m \u001b[43md1\u001b[49m\u001b[43m.\u001b[49m\u001b[43mitems\u001b[49m():\n\u001b[32m    263\u001b[39m         \u001b[38;5;28;01mif\u001b[39;00m k \u001b[38;5;129;01min\u001b[39;00m d2:\n\u001b[32m    264\u001b[39m             merged[\u001b[33mf\u001b[39m\u001b[33m\"\u001b[39m\u001b[33mexample_\u001b[39m\u001b[38;5;132;01m{\u001b[39;00mk\u001b[38;5;132;01m}\u001b[39;00m\u001b[33m\"\u001b[39m] = v\n",
      "\u001b[31mAttributeError\u001b[39m: 'str' object has no attribute 'items'"
     ]
    }
   ],
   "source": [
    "evaluator(teacher, metric=metric, display_table=5)"
   ]
  },
  {
   "cell_type": "code",
   "execution_count": null,
   "id": "a19b7b70-e999-4a8b-801f-4be4e47b7d3c",
   "metadata": {},
   "outputs": [],
   "source": [
    "def metric(gold, pred, trace=None):\n",
    "    # gold is a DSPy Example with targets, pred is the model output\n",
    "    gold_score = gold.label\n",
    "    pred_score = pred.score\n",
    "\n",
    "    return float(pred_score == gold_score)\n",
    "\n",
    "\n",
    "evaluator = dspy.Evaluate(\n",
    "    devset=dataset[\"train\"][:20], num_threads=8, display_progress=True\n",
    ")\n",
    "\n",
    "teacher = dspy.Predict(TeacherFreeText4Way)"
   ]
  },
  {
   "cell_type": "code",
   "execution_count": null,
   "id": "0ad3570b-7047-42e2-8335-77a3975fc3f3",
   "metadata": {},
   "outputs": [
    {
     "name": "stderr",
     "output_type": "stream",
     "text": [
      "2025/08/20 15:37:40 ERROR dspy.utils.parallelizer: Error for id: 'str' object has no attribute 'inputs'. Set `provide_traceback=True` for traceback.\n",
      "2025/08/20 15:37:40 ERROR dspy.utils.parallelizer: Error for question: 'str' object has no attribute 'inputs'. Set `provide_traceback=True` for traceback.\n",
      "2025/08/20 15:37:40 ERROR dspy.utils.parallelizer: Error for reference_answer: 'str' object has no attribute 'inputs'. Set `provide_traceback=True` for traceback.\n",
      "2025/08/20 15:37:40 ERROR dspy.utils.parallelizer: Error for student_answer: 'str' object has no attribute 'inputs'. Set `provide_traceback=True` for traceback.\n"
     ]
    },
    {
     "name": "stdout",
     "output_type": "stream",
     "text": [
      "Average Metric: 0.00 / 0 (0%):   0%|          | 0/5 [00:00<?, ?it/s]"
     ]
    },
    {
     "name": "stderr",
     "output_type": "stream",
     "text": [
      "2025/08/20 15:37:40 ERROR dspy.utils.parallelizer: Error for label: 'str' object has no attribute 'inputs'. Set `provide_traceback=True` for traceback.\n"
     ]
    },
    {
     "name": "stdout",
     "output_type": "stream",
     "text": [
      "Average Metric: 0.00 / 0 (0%): 100%|██████████| 5/5 [00:00<00:00, 3011.85it/s]"
     ]
    },
    {
     "name": "stderr",
     "output_type": "stream",
     "text": [
      "2025/08/20 15:37:40 INFO dspy.evaluate.evaluate: Average Metric: 0.0 / 5 (0.0%)\n"
     ]
    },
    {
     "name": "stdout",
     "output_type": "stream",
     "text": [
      "\n"
     ]
    },
    {
     "ename": "AttributeError",
     "evalue": "'str' object has no attribute 'items'",
     "output_type": "error",
     "traceback": [
      "\u001b[31m---------------------------------------------------------------------------\u001b[39m",
      "\u001b[31mAttributeError\u001b[39m                            Traceback (most recent call last)",
      "\u001b[36mCell\u001b[39m\u001b[36m \u001b[39m\u001b[32mIn[13]\u001b[39m\u001b[32m, line 3\u001b[39m\n\u001b[32m      1\u001b[39m \u001b[38;5;66;03m# %%\u001b[39;00m\n\u001b[32m----> \u001b[39m\u001b[32m3\u001b[39m \u001b[43mevaluator\u001b[49m\u001b[43m(\u001b[49m\u001b[43mteacher\u001b[49m\u001b[43m,\u001b[49m\u001b[43m \u001b[49m\u001b[43mmetric\u001b[49m\u001b[43m=\u001b[49m\u001b[43mmetric\u001b[49m\u001b[43m,\u001b[49m\u001b[43m \u001b[49m\u001b[43mdisplay_table\u001b[49m\u001b[43m=\u001b[49m\u001b[32;43m5\u001b[39;49m\u001b[43m)\u001b[49m\n",
      "\u001b[36mFile \u001b[39m\u001b[32m~/Coding/its/backend/.venv/lib/python3.12/site-packages/dspy/utils/callback.py:326\u001b[39m, in \u001b[36mwith_callbacks.<locals>.sync_wrapper\u001b[39m\u001b[34m(instance, *args, **kwargs)\u001b[39m\n\u001b[32m    324\u001b[39m callbacks = _get_active_callbacks(instance)\n\u001b[32m    325\u001b[39m \u001b[38;5;28;01mif\u001b[39;00m \u001b[38;5;129;01mnot\u001b[39;00m callbacks:\n\u001b[32m--> \u001b[39m\u001b[32m326\u001b[39m     \u001b[38;5;28;01mreturn\u001b[39;00m \u001b[43mfn\u001b[49m\u001b[43m(\u001b[49m\u001b[43minstance\u001b[49m\u001b[43m,\u001b[49m\u001b[43m \u001b[49m\u001b[43m*\u001b[49m\u001b[43margs\u001b[49m\u001b[43m,\u001b[49m\u001b[43m \u001b[49m\u001b[43m*\u001b[49m\u001b[43m*\u001b[49m\u001b[43mkwargs\u001b[49m\u001b[43m)\u001b[49m\n\u001b[32m    328\u001b[39m call_id = uuid.uuid4().hex\n\u001b[32m    330\u001b[39m _execute_start_callbacks(instance, fn, call_id, callbacks, args, kwargs)\n",
      "\u001b[36mFile \u001b[39m\u001b[32m~/Coding/its/backend/.venv/lib/python3.12/site-packages/dspy/evaluate/evaluate.py:176\u001b[39m, in \u001b[36mEvaluate.__call__\u001b[39m\u001b[34m(self, program, metric, devset, num_threads, display_progress, display_table, callback_metadata)\u001b[39m\n\u001b[32m    174\u001b[39m     metric_name = metric.\u001b[34m__name__\u001b[39m \u001b[38;5;28;01mif\u001b[39;00m \u001b[38;5;28misinstance\u001b[39m(metric, types.FunctionType) \u001b[38;5;28;01melse\u001b[39;00m metric.\u001b[34m__class__\u001b[39m.\u001b[34m__name__\u001b[39m\n\u001b[32m    175\u001b[39m     \u001b[38;5;66;03m# Construct a pandas DataFrame from the results\u001b[39;00m\n\u001b[32m--> \u001b[39m\u001b[32m176\u001b[39m     result_df = \u001b[38;5;28;43mself\u001b[39;49m\u001b[43m.\u001b[49m\u001b[43m_construct_result_table\u001b[49m\u001b[43m(\u001b[49m\u001b[43mresults\u001b[49m\u001b[43m,\u001b[49m\u001b[43m \u001b[49m\u001b[43mmetric_name\u001b[49m\u001b[43m)\u001b[49m\n\u001b[32m    178\u001b[39m     \u001b[38;5;28mself\u001b[39m._display_result_table(result_df, display_table, metric_name)\n\u001b[32m    179\u001b[39m \u001b[38;5;28;01melse\u001b[39;00m:\n",
      "\u001b[36mFile \u001b[39m\u001b[32m~/Coding/its/backend/.venv/lib/python3.12/site-packages/dspy/evaluate/evaluate.py:205\u001b[39m, in \u001b[36mEvaluate._construct_result_table\u001b[39m\u001b[34m(self, results, metric_name)\u001b[39m\n\u001b[32m    190\u001b[39m \u001b[38;5;250m\u001b[39m\u001b[33;03m\"\"\"\u001b[39;00m\n\u001b[32m    191\u001b[39m \u001b[33;03mConstruct a pandas DataFrame from the specified result list.\u001b[39;00m\n\u001b[32m    192\u001b[39m \u001b[33;03mLet's not try to change the name of this method as it may be patched by external tracing tools.\u001b[39;00m\n\u001b[32m   (...)\u001b[39m\u001b[32m    199\u001b[39m \u001b[33;03m    The constructed pandas DataFrame.\u001b[39;00m\n\u001b[32m    200\u001b[39m \u001b[33;03m\"\"\"\u001b[39;00m\n\u001b[32m    201\u001b[39m \u001b[38;5;28;01mimport\u001b[39;00m\u001b[38;5;250m \u001b[39m\u001b[34;01mpandas\u001b[39;00m\u001b[38;5;250m \u001b[39m\u001b[38;5;28;01mas\u001b[39;00m\u001b[38;5;250m \u001b[39m\u001b[34;01mpd\u001b[39;00m\n\u001b[32m    203\u001b[39m data = [\n\u001b[32m    204\u001b[39m     (\n\u001b[32m--> \u001b[39m\u001b[32m205\u001b[39m         \u001b[43mmerge_dicts\u001b[49m\u001b[43m(\u001b[49m\u001b[43mexample\u001b[49m\u001b[43m,\u001b[49m\u001b[43m \u001b[49m\u001b[43mprediction\u001b[49m\u001b[43m)\u001b[49m | {\u001b[33m\"\u001b[39m\u001b[33mcorrect\u001b[39m\u001b[33m\"\u001b[39m: score}\n\u001b[32m    206\u001b[39m         \u001b[38;5;28;01mif\u001b[39;00m prediction_is_dictlike(prediction)\n\u001b[32m    207\u001b[39m         \u001b[38;5;28;01melse\u001b[39;00m \u001b[38;5;28mdict\u001b[39m(example) | {\u001b[33m\"\u001b[39m\u001b[33mprediction\u001b[39m\u001b[33m\"\u001b[39m: prediction, \u001b[33m\"\u001b[39m\u001b[33mcorrect\u001b[39m\u001b[33m\"\u001b[39m: score}\n\u001b[32m    208\u001b[39m     )\n\u001b[32m    209\u001b[39m     \u001b[38;5;28;01mfor\u001b[39;00m example, prediction, score \u001b[38;5;129;01min\u001b[39;00m results\n\u001b[32m    210\u001b[39m ]\n\u001b[32m    212\u001b[39m \u001b[38;5;66;03m# Truncate every cell in the DataFrame (DataFrame.applymap was renamed to DataFrame.map in Pandas 2.1.0)\u001b[39;00m\n\u001b[32m    213\u001b[39m result_df = pd.DataFrame(data)\n",
      "\u001b[36mFile \u001b[39m\u001b[32m~/Coding/its/backend/.venv/lib/python3.12/site-packages/dspy/evaluate/evaluate.py:262\u001b[39m, in \u001b[36mmerge_dicts\u001b[39m\u001b[34m(d1, d2)\u001b[39m\n\u001b[32m    260\u001b[39m \u001b[38;5;28;01mdef\u001b[39;00m\u001b[38;5;250m \u001b[39m\u001b[34mmerge_dicts\u001b[39m(d1, d2) -> \u001b[38;5;28mdict\u001b[39m:\n\u001b[32m    261\u001b[39m     merged = {}\n\u001b[32m--> \u001b[39m\u001b[32m262\u001b[39m     \u001b[38;5;28;01mfor\u001b[39;00m k, v \u001b[38;5;129;01min\u001b[39;00m \u001b[43md1\u001b[49m\u001b[43m.\u001b[49m\u001b[43mitems\u001b[49m():\n\u001b[32m    263\u001b[39m         \u001b[38;5;28;01mif\u001b[39;00m k \u001b[38;5;129;01min\u001b[39;00m d2:\n\u001b[32m    264\u001b[39m             merged[\u001b[33mf\u001b[39m\u001b[33m\"\u001b[39m\u001b[33mexample_\u001b[39m\u001b[38;5;132;01m{\u001b[39;00mk\u001b[38;5;132;01m}\u001b[39;00m\u001b[33m\"\u001b[39m] = v\n",
      "\u001b[31mAttributeError\u001b[39m: 'str' object has no attribute 'items'"
     ]
    }
   ],
   "source": [
    "evaluator(teacher, metric=metric, display_table=5)"
   ]
  },
  {
   "cell_type": "code",
   "execution_count": null,
   "id": "3f1f495a-d666-4e47-80dd-3b7d733e95d7",
   "metadata": {},
   "outputs": [
    {
     "data": {
      "text/plain": [
       "{'id': 'ME.79.207.1',\n",
       " 'question': \"Kurt was investigating which objects stick to magnets. He made an entry in his science notebook and drew a picture to help explain what he did. Look what I did! I picked up a paperclip with a magnet. Then that paperclip picked up another one, and then another one. And they weren't hooked together either. All they had to do was touch each other. Explain to Kurt why he was able to pick up all those paperclips, even though the magnet was only touching the first one.\",\n",
       " 'reference_answer': 'When a paperclip sticks to a magnet, the paperclip turns into a temporary magnet, so the paperclip can stick to other paperclips and other things made of iron.',\n",
       " 'student_answer': 'The magnet sends magnet through one paperclip to another.',\n",
       " 'label': 1}"
      ]
     },
     "execution_count": 14,
     "metadata": {},
     "output_type": "execute_result"
    }
   ],
   "source": [
    "from datasets import load_dataset\n",
    "from datasets import ClassLabel\n",
    "import dspy\n",
    "import os\n",
    "from dotenv import load_dotenv\n",
    "\n",
    "load_dotenv()\n",
    "\n",
    "\n",
    "azure_api_key = os.getenv(\"AZURE_API_KEY\")\n",
    "azure_api_base = os.getenv(\"AZURE_API_BASE\")\n",
    "\n",
    "lm = dspy.LM(\n",
    "    \"azure/gpt-4o-mini\",\n",
    "    api_base=azure_api_base,\n",
    "    api_key=azure_api_key,\n",
    "    api_version=\"2024-12-01-preview\",\n",
    ")\n",
    "\n",
    "dataset = load_dataset(\"nkazi/SciEntsBank\")\n",
    "\n",
    "# convert to 4 way classification\n",
    "dataset = dataset.align_labels_with_mapping(\n",
    "    {\n",
    "        \"correct\": 0,\n",
    "        \"partially_correct_incomplete\": 1,\n",
    "        \"contradictory\": 2,\n",
    "        \"irrelevant\": 3,\n",
    "        \"non_domain\": 3,\n",
    "    },\n",
    "    \"label\",\n",
    ")\n",
    "dataset = dataset.cast_column(\n",
    "    \"label\", ClassLabel(names=[\"correct\", \"contradictory\", \"incorrect\", \"irrelevant\"])\n",
    ")\n",
    "\n",
    "# shuffle ds\n",
    "dataset = dataset.shuffle(seed=42)\n",
    "\n",
    "dataset[\"train\"][0]"
   ]
  },
  {
   "cell_type": "code",
   "execution_count": null,
   "id": "c92c4cde-5dc7-4490-bd8a-aade87465034",
   "metadata": {},
   "outputs": [
    {
     "name": "stderr",
     "output_type": "stream",
     "text": [
      "Generating train split: 100%|██████████| 4969/4969 [00:00<00:00, 1058911.52 examples/s]\n",
      "Generating test_ua split: 100%|██████████| 540/540 [00:00<00:00, 317705.73 examples/s]\n",
      "Generating test_uq split: 100%|██████████| 733/733 [00:00<00:00, 446994.01 examples/s]\n",
      "Generating test_ud split: 100%|██████████| 4562/4562 [00:00<00:00, 1304144.96 examples/s]\n",
      "Aligning the labels: 100%|██████████| 4969/4969 [00:00<00:00, 497529.16 examples/s]\n",
      "Aligning the labels: 100%|██████████| 540/540 [00:00<00:00, 185224.42 examples/s]\n",
      "Aligning the labels: 100%|██████████| 733/733 [00:00<00:00, 233069.88 examples/s]\n",
      "Aligning the labels: 100%|██████████| 4562/4562 [00:00<00:00, 544503.99 examples/s]\n",
      "Casting the dataset: 100%|██████████| 4969/4969 [00:00<00:00, 954062.56 examples/s]\n",
      "Casting the dataset: 100%|██████████| 540/540 [00:00<00:00, 238840.47 examples/s]\n",
      "Casting the dataset: 100%|██████████| 733/733 [00:00<00:00, 323215.39 examples/s]\n",
      "Casting the dataset: 100%|██████████| 4562/4562 [00:00<00:00, 899934.85 examples/s]\n"
     ]
    },
    {
     "data": {
      "text/plain": [
       "{'id': 'ME.79.207.1',\n",
       " 'question': \"Kurt was investigating which objects stick to magnets. He made an entry in his science notebook and drew a picture to help explain what he did. Look what I did! I picked up a paperclip with a magnet. Then that paperclip picked up another one, and then another one. And they weren't hooked together either. All they had to do was touch each other. Explain to Kurt why he was able to pick up all those paperclips, even though the magnet was only touching the first one.\",\n",
       " 'reference_answer': 'When a paperclip sticks to a magnet, the paperclip turns into a temporary magnet, so the paperclip can stick to other paperclips and other things made of iron.',\n",
       " 'student_answer': 'The magnet sends magnet through one paperclip to another.',\n",
       " 'label': 1}"
      ]
     },
     "execution_count": 15,
     "metadata": {},
     "output_type": "execute_result"
    }
   ],
   "source": [
    "from datasets import load_dataset\n",
    "from datasets import ClassLabel\n",
    "import dspy\n",
    "import os\n",
    "from dotenv import load_dotenv\n",
    "\n",
    "load_dotenv()\n",
    "\n",
    "\n",
    "azure_api_key = os.getenv(\"AZURE_API_KEY\")\n",
    "azure_api_base = os.getenv(\"AZURE_API_BASE\")\n",
    "\n",
    "lm = dspy.LM(\n",
    "    \"azure/gpt-4o-mini\",\n",
    "    api_base=azure_api_base,\n",
    "    api_key=azure_api_key,\n",
    "    api_version=\"2024-12-01-preview\",\n",
    ")\n",
    "\n",
    "dataset = load_dataset(\"nkazi/SciEntsBank\", cache_dir=\"../data\")\n",
    "\n",
    "# convert to 4 way classification\n",
    "dataset = dataset.align_labels_with_mapping(\n",
    "    {\n",
    "        \"correct\": 0,\n",
    "        \"partially_correct_incomplete\": 1,\n",
    "        \"contradictory\": 2,\n",
    "        \"irrelevant\": 3,\n",
    "        \"non_domain\": 3,\n",
    "    },\n",
    "    \"label\",\n",
    ")\n",
    "dataset = dataset.cast_column(\n",
    "    \"label\", ClassLabel(names=[\"correct\", \"contradictory\", \"incorrect\", \"irrelevant\"])\n",
    ")\n",
    "\n",
    "# shuffle ds\n",
    "dataset = dataset.shuffle(seed=42)\n",
    "\n",
    "dataset[\"train\"][0]"
   ]
  },
  {
   "cell_type": "code",
   "execution_count": null,
   "id": "9aebc21d-d7c9-4982-86d9-1b1faf4644b7",
   "metadata": {},
   "outputs": [
    {
     "data": {
      "text/plain": [
       "{'id': 'ME.79.207.1',\n",
       " 'question': \"Kurt was investigating which objects stick to magnets. He made an entry in his science notebook and drew a picture to help explain what he did. Look what I did! I picked up a paperclip with a magnet. Then that paperclip picked up another one, and then another one. And they weren't hooked together either. All they had to do was touch each other. Explain to Kurt why he was able to pick up all those paperclips, even though the magnet was only touching the first one.\",\n",
       " 'reference_answer': 'When a paperclip sticks to a magnet, the paperclip turns into a temporary magnet, so the paperclip can stick to other paperclips and other things made of iron.',\n",
       " 'student_answer': 'The magnet sends magnet through one paperclip to another.',\n",
       " 'label': 1}"
      ]
     },
     "execution_count": 16,
     "metadata": {},
     "output_type": "execute_result"
    }
   ],
   "source": [
    "from datasets import load_dataset\n",
    "from datasets import ClassLabel\n",
    "import dspy\n",
    "import os\n",
    "from dotenv import load_dotenv\n",
    "\n",
    "load_dotenv()\n",
    "\n",
    "\n",
    "azure_api_key = os.getenv(\"AZURE_API_KEY\")\n",
    "azure_api_base = os.getenv(\"AZURE_API_BASE\")\n",
    "\n",
    "lm = dspy.LM(\n",
    "    \"azure/gpt-4o-mini\",\n",
    "    api_base=azure_api_base,\n",
    "    api_key=azure_api_key,\n",
    "    api_version=\"2024-12-01-preview\",\n",
    ")\n",
    "\n",
    "dataset = load_dataset(\"nkazi/SciEntsBank\", cache_dir=\"../data\")\n",
    "\n",
    "# convert to 4 way classification\n",
    "dataset = dataset.align_labels_with_mapping(\n",
    "    {\n",
    "        \"correct\": 0,\n",
    "        \"partially_correct_incomplete\": 1,\n",
    "        \"contradictory\": 2,\n",
    "        \"irrelevant\": 3,\n",
    "        \"non_domain\": 3,\n",
    "    },\n",
    "    \"label\",\n",
    ")\n",
    "dataset = dataset.cast_column(\n",
    "    \"label\", ClassLabel(names=[\"correct\", \"contradictory\", \"incorrect\", \"irrelevant\"])\n",
    ")\n",
    "\n",
    "# shuffle ds\n",
    "dataset = dataset.shuffle(seed=42)\n",
    "\n",
    "dataset[\"train\"][0]"
   ]
  },
  {
   "cell_type": "code",
   "execution_count": null,
   "id": "996fb9fa-2933-409b-8b38-661a569c551e",
   "metadata": {},
   "outputs": [],
   "source": [
    "class TeacherFreeText4Way(dspy.Signature):\n",
    "    \"\"\"You are a teacher for undergraduate students.\n",
    "    Your job is to evaluate the student's answers to a short answer-question and provide short and concise feedback.\n",
    "\n",
    "    Students have been asked this question:  {question}\n",
    "\n",
    "    A correct answer to this question is: {correct_answer}\n",
    "\n",
    "    Your task is to decide if the student’s answer is correct, partially correct but incomplete, irrelevant or contradictory.\n",
    "    Answer based on the provided correct answer only.\n",
    "\n",
    "    Correct: The student's answer is correct and includes the key points from the correct answer.\n",
    "    If the student response is correct, you will respond with score = 0\n",
    "\n",
    "    Partially correct but incomplete: The student's answer correct, but does not include the key points from the correct answer.\n",
    "    If the student response is partially correct but incomplete, you will respond with score = 1\n",
    "\n",
    "    Contradictory: The student's answer contradicts the correct answer. It is not related to the question.\n",
    "    If the student response is contradictory, you will respond with score = 2\n",
    "\n",
    "    Irrelevant: The student's answer is irrelevant to the question.\n",
    "    If the student response is irrelevant, you will respond with score = 3\n",
    "\n",
    "    The feedback should be short and concise, 1 to 2 sentences.\n",
    "    The feedback should explain the reasoning behind the score, e.g. what is missing, what is wrong, what is right in the student's answer.\n",
    "    The feedback should be based on the student's answer and the correct answer.\n",
    "    \"\"\"\n",
    "\n",
    "    question: str = dspy.InputField(description=\"The question asked to the student.\")\n",
    "\n",
    "    reference_answer: str = dspy.InputField(\n",
    "        description=\"The correct answer to the question.\"\n",
    "    )\n",
    "\n",
    "    student_answer: str = dspy.InputField(\n",
    "        description=\"The student's answer to the question.\"\n",
    "    )\n",
    "\n",
    "    score: int = dspy.OutputField(\n",
    "        description=\"0 if the content of the student's answer is correct, 1 if it is partially correct but incomplete, 2 if it is contradictory, 3 if it is irrelevant.\"\n",
    "    )\n",
    "\n",
    "    feedback: str = dspy.OutputField(\n",
    "        description=\"Short and concise feedback for the student based on their answer.\"\n",
    "    )"
   ]
  },
  {
   "cell_type": "code",
   "execution_count": null,
   "id": "351654b0-e896-4622-b354-2e2c386f1aef",
   "metadata": {},
   "outputs": [
    {
     "data": {
      "text/plain": [
       "{'id': 'ME.79.207.1',\n",
       " 'question': \"Kurt was investigating which objects stick to magnets. He made an entry in his science notebook and drew a picture to help explain what he did. Look what I did! I picked up a paperclip with a magnet. Then that paperclip picked up another one, and then another one. And they weren't hooked together either. All they had to do was touch each other. Explain to Kurt why he was able to pick up all those paperclips, even though the magnet was only touching the first one.\",\n",
       " 'reference_answer': 'When a paperclip sticks to a magnet, the paperclip turns into a temporary magnet, so the paperclip can stick to other paperclips and other things made of iron.',\n",
       " 'student_answer': 'The magnet sends magnet through one paperclip to another.',\n",
       " 'label': 1}"
      ]
     },
     "execution_count": 18,
     "metadata": {},
     "output_type": "execute_result"
    }
   ],
   "source": [
    "from datasets import load_dataset\n",
    "from datasets import ClassLabel\n",
    "import dspy\n",
    "import os\n",
    "from dotenv import load_dotenv\n",
    "\n",
    "load_dotenv()\n",
    "\n",
    "\n",
    "azure_api_key = os.getenv(\"AZURE_API_KEY\")\n",
    "azure_api_base = os.getenv(\"AZURE_API_BASE\")\n",
    "\n",
    "lm = dspy.LM(\n",
    "    \"azure/gpt-4o-mini\",\n",
    "    api_base=azure_api_base,\n",
    "    api_key=azure_api_key,\n",
    "    api_version=\"2024-12-01-preview\",\n",
    ")\n",
    "\n",
    "dataset = load_dataset(\"nkazi/SciEntsBank\", cache_dir=\"../data\")\n",
    "\n",
    "# convert to 4 way classification\n",
    "dataset = dataset.align_labels_with_mapping(\n",
    "    {\n",
    "        \"correct\": 0,\n",
    "        \"partially_correct_incomplete\": 1,\n",
    "        \"contradictory\": 2,\n",
    "        \"irrelevant\": 3,\n",
    "        \"non_domain\": 3,\n",
    "    },\n",
    "    \"label\",\n",
    ")\n",
    "dataset = dataset.cast_column(\n",
    "    \"label\", ClassLabel(names=[\"correct\", \"contradictory\", \"incorrect\", \"irrelevant\"])\n",
    ")\n",
    "\n",
    "# shuffle ds\n",
    "dataset = dataset.shuffle(seed=42)\n",
    "\n",
    "dataset[\"train\"][0]"
   ]
  },
  {
   "cell_type": "code",
   "execution_count": null,
   "id": "44ce8baf-5b75-40f0-81c8-57e364d36656",
   "metadata": {},
   "outputs": [],
   "source": [
    "class TeacherFreeText4Way(dspy.Signature):\n",
    "    \"\"\"You are a teacher for undergraduate students.\n",
    "    Your job is to evaluate the student's answers to a short answer-question and provide short and concise feedback.\n",
    "\n",
    "    Students have been asked this question:  {question}\n",
    "\n",
    "    A correct answer to this question is: {correct_answer}\n",
    "\n",
    "    Your task is to decide if the student’s answer is correct, partially correct but incomplete, irrelevant or contradictory.\n",
    "    Answer based on the provided correct answer only.\n",
    "\n",
    "    Correct: The student's answer is correct and includes the key points from the correct answer.\n",
    "    If the student response is correct, you will respond with score = 0\n",
    "\n",
    "    Partially correct but incomplete: The student's answer correct, but does not include the key points from the correct answer.\n",
    "    If the student response is partially correct but incomplete, you will respond with score = 1\n",
    "\n",
    "    Contradictory: The student's answer contradicts the correct answer. It is not related to the question.\n",
    "    If the student response is contradictory, you will respond with score = 2\n",
    "\n",
    "    Irrelevant: The student's answer is irrelevant to the question.\n",
    "    If the student response is irrelevant, you will respond with score = 3\n",
    "\n",
    "    The feedback should be short and concise, 1 to 2 sentences.\n",
    "    The feedback should explain the reasoning behind the score, e.g. what is missing, what is wrong, what is right in the student's answer.\n",
    "    The feedback should be based on the student's answer and the correct answer.\n",
    "    \"\"\"\n",
    "\n",
    "    question: str = dspy.InputField(description=\"The question asked to the student.\")\n",
    "\n",
    "    reference_answer: str = dspy.InputField(\n",
    "        description=\"The correct answer to the question.\"\n",
    "    )\n",
    "\n",
    "    student_answer: str = dspy.InputField(\n",
    "        description=\"The student's answer to the question.\"\n",
    "    )\n",
    "\n",
    "    score: int = dspy.OutputField(\n",
    "        description=\"0 if the content of the student's answer is correct, 1 if it is partially correct but incomplete, 2 if it is contradictory, 3 if it is irrelevant.\"\n",
    "    )\n",
    "\n",
    "    feedback: str = dspy.OutputField(\n",
    "        description=\"Short and concise feedback for the student based on their answer.\"\n",
    "    )"
   ]
  },
  {
   "cell_type": "code",
   "execution_count": null,
   "id": "c20c3f71-a083-4fcf-beff-72a70a537f67",
   "metadata": {},
   "outputs": [
    {
     "name": "stdout",
     "output_type": "stream",
     "text": [
      "train :\n",
      "  correct : 2008\n",
      "  contradictory : 1324\n",
      "  incorrect : 499\n",
      "  irrelevant : 1138\n",
      "  total : 4969\n",
      "test_ua :\n",
      "  correct : 233\n",
      "  contradictory : 113\n",
      "  incorrect : 58\n",
      "  irrelevant : 136\n",
      "  total : 540\n",
      "test_uq :\n",
      "  correct : 301\n",
      "  contradictory : 175\n",
      "  incorrect : 64\n",
      "  irrelevant : 193\n",
      "  total : 733\n",
      "test_ud :\n",
      "  correct : 1917\n",
      "  contradictory : 986\n",
      "  incorrect : 417\n",
      "  irrelevant : 1242\n",
      "  total : 4562\n"
     ]
    }
   ],
   "source": [
    "def print_label_dist(dataset):\n",
    "    for split_name in dataset:\n",
    "        print(split_name, \":\")\n",
    "        num_examples = 0\n",
    "        for label in dataset[split_name].features[\"label\"].names:\n",
    "            count = dataset[split_name][\"label\"].count(\n",
    "                dataset[split_name].features[\"label\"].str2int(label)\n",
    "            )\n",
    "            print(\" \", label, \":\", count)\n",
    "            num_examples += count\n",
    "        print(\"  total :\", num_examples)\n",
    "\n",
    "\n",
    "print_label_dist(dataset)"
   ]
  },
  {
   "cell_type": "code",
   "execution_count": null,
   "id": "9895051a-ad9f-40f0-94bf-98254654087a",
   "metadata": {},
   "outputs": [],
   "source": [
    "def metric(gold, pred, trace=None):\n",
    "    # gold is a DSPy Example with targets, pred is the model output\n",
    "    gold_score = gold.label\n",
    "    pred_score = pred.score\n",
    "\n",
    "    return float(pred_score == gold_score)\n",
    "\n",
    "\n",
    "evaluator = dspy.Evaluate(\n",
    "    devset=dataset[\"train\"][:20], num_threads=8, display_progress=True\n",
    ")\n",
    "\n",
    "teacher = dspy.Predict(TeacherFreeText4Way)"
   ]
  },
  {
   "cell_type": "code",
   "execution_count": null,
   "id": "f836c0b6-284d-4865-a0ae-59bf7e2bacb9",
   "metadata": {},
   "outputs": [
    {
     "name": "stderr",
     "output_type": "stream",
     "text": [
      "2025/08/20 15:39:23 ERROR dspy.utils.parallelizer: Error for id: 'str' object has no attribute 'inputs'. Set `provide_traceback=True` for traceback.\n",
      "2025/08/20 15:39:23 ERROR dspy.utils.parallelizer: Error for question: 'str' object has no attribute 'inputs'. Set `provide_traceback=True` for traceback.\n",
      "2025/08/20 15:39:23 ERROR dspy.utils.parallelizer: Error for reference_answer: 'str' object has no attribute 'inputs'. Set `provide_traceback=True` for traceback.\n",
      "2025/08/20 15:39:23 ERROR dspy.utils.parallelizer: Error for student_answer: 'str' object has no attribute 'inputs'. Set `provide_traceback=True` for traceback.\n"
     ]
    },
    {
     "name": "stdout",
     "output_type": "stream",
     "text": [
      "  0%|          | 0/5 [00:00<?, ?it/s]"
     ]
    },
    {
     "name": "stderr",
     "output_type": "stream",
     "text": [
      "2025/08/20 15:39:23 ERROR dspy.utils.parallelizer: Error for label: 'str' object has no attribute 'inputs'. Set `provide_traceback=True` for traceback.\n"
     ]
    },
    {
     "name": "stdout",
     "output_type": "stream",
     "text": [
      "Average Metric: 0.00 / 0 (0%): 100%|██████████| 5/5 [00:00<00:00, 2638.26it/s]"
     ]
    },
    {
     "name": "stderr",
     "output_type": "stream",
     "text": [
      "2025/08/20 15:39:23 INFO dspy.evaluate.evaluate: Average Metric: 0.0 / 5 (0.0%)\n"
     ]
    },
    {
     "name": "stdout",
     "output_type": "stream",
     "text": [
      "\n"
     ]
    },
    {
     "ename": "AttributeError",
     "evalue": "'str' object has no attribute 'items'",
     "output_type": "error",
     "traceback": [
      "\u001b[31m---------------------------------------------------------------------------\u001b[39m",
      "\u001b[31mAttributeError\u001b[39m                            Traceback (most recent call last)",
      "\u001b[36mCell\u001b[39m\u001b[36m \u001b[39m\u001b[32mIn[22]\u001b[39m\u001b[32m, line 3\u001b[39m\n\u001b[32m      1\u001b[39m \u001b[38;5;66;03m# %%\u001b[39;00m\n\u001b[32m----> \u001b[39m\u001b[32m3\u001b[39m \u001b[43mevaluator\u001b[49m\u001b[43m(\u001b[49m\u001b[43mteacher\u001b[49m\u001b[43m,\u001b[49m\u001b[43m \u001b[49m\u001b[43mmetric\u001b[49m\u001b[43m=\u001b[49m\u001b[43mmetric\u001b[49m\u001b[43m,\u001b[49m\u001b[43m \u001b[49m\u001b[43mdisplay_table\u001b[49m\u001b[43m=\u001b[49m\u001b[32;43m5\u001b[39;49m\u001b[43m)\u001b[49m\n",
      "\u001b[36mFile \u001b[39m\u001b[32m~/Coding/its/backend/.venv/lib/python3.12/site-packages/dspy/utils/callback.py:326\u001b[39m, in \u001b[36mwith_callbacks.<locals>.sync_wrapper\u001b[39m\u001b[34m(instance, *args, **kwargs)\u001b[39m\n\u001b[32m    324\u001b[39m callbacks = _get_active_callbacks(instance)\n\u001b[32m    325\u001b[39m \u001b[38;5;28;01mif\u001b[39;00m \u001b[38;5;129;01mnot\u001b[39;00m callbacks:\n\u001b[32m--> \u001b[39m\u001b[32m326\u001b[39m     \u001b[38;5;28;01mreturn\u001b[39;00m \u001b[43mfn\u001b[49m\u001b[43m(\u001b[49m\u001b[43minstance\u001b[49m\u001b[43m,\u001b[49m\u001b[43m \u001b[49m\u001b[43m*\u001b[49m\u001b[43margs\u001b[49m\u001b[43m,\u001b[49m\u001b[43m \u001b[49m\u001b[43m*\u001b[49m\u001b[43m*\u001b[49m\u001b[43mkwargs\u001b[49m\u001b[43m)\u001b[49m\n\u001b[32m    328\u001b[39m call_id = uuid.uuid4().hex\n\u001b[32m    330\u001b[39m _execute_start_callbacks(instance, fn, call_id, callbacks, args, kwargs)\n",
      "\u001b[36mFile \u001b[39m\u001b[32m~/Coding/its/backend/.venv/lib/python3.12/site-packages/dspy/evaluate/evaluate.py:176\u001b[39m, in \u001b[36mEvaluate.__call__\u001b[39m\u001b[34m(self, program, metric, devset, num_threads, display_progress, display_table, callback_metadata)\u001b[39m\n\u001b[32m    174\u001b[39m     metric_name = metric.\u001b[34m__name__\u001b[39m \u001b[38;5;28;01mif\u001b[39;00m \u001b[38;5;28misinstance\u001b[39m(metric, types.FunctionType) \u001b[38;5;28;01melse\u001b[39;00m metric.\u001b[34m__class__\u001b[39m.\u001b[34m__name__\u001b[39m\n\u001b[32m    175\u001b[39m     \u001b[38;5;66;03m# Construct a pandas DataFrame from the results\u001b[39;00m\n\u001b[32m--> \u001b[39m\u001b[32m176\u001b[39m     result_df = \u001b[38;5;28;43mself\u001b[39;49m\u001b[43m.\u001b[49m\u001b[43m_construct_result_table\u001b[49m\u001b[43m(\u001b[49m\u001b[43mresults\u001b[49m\u001b[43m,\u001b[49m\u001b[43m \u001b[49m\u001b[43mmetric_name\u001b[49m\u001b[43m)\u001b[49m\n\u001b[32m    178\u001b[39m     \u001b[38;5;28mself\u001b[39m._display_result_table(result_df, display_table, metric_name)\n\u001b[32m    179\u001b[39m \u001b[38;5;28;01melse\u001b[39;00m:\n",
      "\u001b[36mFile \u001b[39m\u001b[32m~/Coding/its/backend/.venv/lib/python3.12/site-packages/dspy/evaluate/evaluate.py:205\u001b[39m, in \u001b[36mEvaluate._construct_result_table\u001b[39m\u001b[34m(self, results, metric_name)\u001b[39m\n\u001b[32m    190\u001b[39m \u001b[38;5;250m\u001b[39m\u001b[33;03m\"\"\"\u001b[39;00m\n\u001b[32m    191\u001b[39m \u001b[33;03mConstruct a pandas DataFrame from the specified result list.\u001b[39;00m\n\u001b[32m    192\u001b[39m \u001b[33;03mLet's not try to change the name of this method as it may be patched by external tracing tools.\u001b[39;00m\n\u001b[32m   (...)\u001b[39m\u001b[32m    199\u001b[39m \u001b[33;03m    The constructed pandas DataFrame.\u001b[39;00m\n\u001b[32m    200\u001b[39m \u001b[33;03m\"\"\"\u001b[39;00m\n\u001b[32m    201\u001b[39m \u001b[38;5;28;01mimport\u001b[39;00m\u001b[38;5;250m \u001b[39m\u001b[34;01mpandas\u001b[39;00m\u001b[38;5;250m \u001b[39m\u001b[38;5;28;01mas\u001b[39;00m\u001b[38;5;250m \u001b[39m\u001b[34;01mpd\u001b[39;00m\n\u001b[32m    203\u001b[39m data = [\n\u001b[32m    204\u001b[39m     (\n\u001b[32m--> \u001b[39m\u001b[32m205\u001b[39m         \u001b[43mmerge_dicts\u001b[49m\u001b[43m(\u001b[49m\u001b[43mexample\u001b[49m\u001b[43m,\u001b[49m\u001b[43m \u001b[49m\u001b[43mprediction\u001b[49m\u001b[43m)\u001b[49m | {\u001b[33m\"\u001b[39m\u001b[33mcorrect\u001b[39m\u001b[33m\"\u001b[39m: score}\n\u001b[32m    206\u001b[39m         \u001b[38;5;28;01mif\u001b[39;00m prediction_is_dictlike(prediction)\n\u001b[32m    207\u001b[39m         \u001b[38;5;28;01melse\u001b[39;00m \u001b[38;5;28mdict\u001b[39m(example) | {\u001b[33m\"\u001b[39m\u001b[33mprediction\u001b[39m\u001b[33m\"\u001b[39m: prediction, \u001b[33m\"\u001b[39m\u001b[33mcorrect\u001b[39m\u001b[33m\"\u001b[39m: score}\n\u001b[32m    208\u001b[39m     )\n\u001b[32m    209\u001b[39m     \u001b[38;5;28;01mfor\u001b[39;00m example, prediction, score \u001b[38;5;129;01min\u001b[39;00m results\n\u001b[32m    210\u001b[39m ]\n\u001b[32m    212\u001b[39m \u001b[38;5;66;03m# Truncate every cell in the DataFrame (DataFrame.applymap was renamed to DataFrame.map in Pandas 2.1.0)\u001b[39;00m\n\u001b[32m    213\u001b[39m result_df = pd.DataFrame(data)\n",
      "\u001b[36mFile \u001b[39m\u001b[32m~/Coding/its/backend/.venv/lib/python3.12/site-packages/dspy/evaluate/evaluate.py:262\u001b[39m, in \u001b[36mmerge_dicts\u001b[39m\u001b[34m(d1, d2)\u001b[39m\n\u001b[32m    260\u001b[39m \u001b[38;5;28;01mdef\u001b[39;00m\u001b[38;5;250m \u001b[39m\u001b[34mmerge_dicts\u001b[39m(d1, d2) -> \u001b[38;5;28mdict\u001b[39m:\n\u001b[32m    261\u001b[39m     merged = {}\n\u001b[32m--> \u001b[39m\u001b[32m262\u001b[39m     \u001b[38;5;28;01mfor\u001b[39;00m k, v \u001b[38;5;129;01min\u001b[39;00m \u001b[43md1\u001b[49m\u001b[43m.\u001b[49m\u001b[43mitems\u001b[49m():\n\u001b[32m    263\u001b[39m         \u001b[38;5;28;01mif\u001b[39;00m k \u001b[38;5;129;01min\u001b[39;00m d2:\n\u001b[32m    264\u001b[39m             merged[\u001b[33mf\u001b[39m\u001b[33m\"\u001b[39m\u001b[33mexample_\u001b[39m\u001b[38;5;132;01m{\u001b[39;00mk\u001b[38;5;132;01m}\u001b[39;00m\u001b[33m\"\u001b[39m] = v\n",
      "\u001b[31mAttributeError\u001b[39m: 'str' object has no attribute 'items'"
     ]
    }
   ],
   "source": [
    "evaluator(teacher, metric=metric, display_table=5)"
   ]
  },
  {
   "cell_type": "code",
   "execution_count": null,
   "id": "fc9c1bcb-f2db-4259-bb0c-d38cc6147311",
   "metadata": {},
   "outputs": [
    {
     "ename": "TypeError",
     "evalue": "string indices must be integers, not 'str'",
     "output_type": "error",
     "traceback": [
      "\u001b[31m---------------------------------------------------------------------------\u001b[39m",
      "\u001b[31mTypeError\u001b[39m                                 Traceback (most recent call last)",
      "\u001b[36mCell\u001b[39m\u001b[36m \u001b[39m\u001b[32mIn[23]\u001b[39m\u001b[32m, line 9\u001b[39m\n\u001b[32m      5\u001b[39m scores = []\n\u001b[32m      7\u001b[39m \u001b[38;5;28;01mfor\u001b[39;00m example \u001b[38;5;129;01min\u001b[39;00m dataset[\u001b[33m\"\u001b[39m\u001b[33mtrain\u001b[39m\u001b[33m\"\u001b[39m][:\u001b[32m20\u001b[39m]:\n\u001b[32m      8\u001b[39m     pred = teacher(\n\u001b[32m----> \u001b[39m\u001b[32m9\u001b[39m         question=\u001b[43mexample\u001b[49m\u001b[43m[\u001b[49m\u001b[33;43m\"\u001b[39;49m\u001b[33;43mquestion\u001b[39;49m\u001b[33;43m\"\u001b[39;49m\u001b[43m]\u001b[49m,\n\u001b[32m     10\u001b[39m         reference_answer=example[\u001b[33m\"\u001b[39m\u001b[33mreference_answer\u001b[39m\u001b[33m\"\u001b[39m],\n\u001b[32m     11\u001b[39m         student_answer=example[\u001b[33m\"\u001b[39m\u001b[33mstudent_answer\u001b[39m\u001b[33m\"\u001b[39m],\n\u001b[32m     12\u001b[39m     )\n\u001b[32m     13\u001b[39m     gold_score = example[\u001b[33m\"\u001b[39m\u001b[33mlabel\u001b[39m\u001b[33m\"\u001b[39m]\n\u001b[32m     14\u001b[39m     pred_score = pred.score\n",
      "\u001b[31mTypeError\u001b[39m: string indices must be integers, not 'str'"
     ]
    }
   ],
   "source": [
    "# evaluator(teacher, metric=metric, display_table=5)\n",
    "\n",
    "scores = []\n",
    "\n",
    "for example in dataset[\"train\"][:20]:\n",
    "    pred = teacher(\n",
    "        question=example[\"question\"],\n",
    "        reference_answer=example[\"reference_answer\"],\n",
    "        student_answer=example[\"student_answer\"],\n",
    "    )\n",
    "    gold_score = example[\"label\"]\n",
    "    pred_score = pred.score\n",
    "    scores.append(float(pred_score == gold_score))\n",
    "\n",
    "print(f\"Average score: {sum(scores) / len(scores)}\")"
   ]
  },
  {
   "cell_type": "code",
   "execution_count": null,
   "id": "f993b5e8-3ed5-44ec-bae8-78d5c9060d32",
   "metadata": {},
   "outputs": [
    {
     "data": {
      "text/plain": [
       "{'id': 'ME.79.207.1',\n",
       " 'question': \"Kurt was investigating which objects stick to magnets. He made an entry in his science notebook and drew a picture to help explain what he did. Look what I did! I picked up a paperclip with a magnet. Then that paperclip picked up another one, and then another one. And they weren't hooked together either. All they had to do was touch each other. Explain to Kurt why he was able to pick up all those paperclips, even though the magnet was only touching the first one.\",\n",
       " 'reference_answer': 'When a paperclip sticks to a magnet, the paperclip turns into a temporary magnet, so the paperclip can stick to other paperclips and other things made of iron.',\n",
       " 'student_answer': 'The magnet sends magnet through one paperclip to another.',\n",
       " 'label': 1}"
      ]
     },
     "execution_count": 24,
     "metadata": {},
     "output_type": "execute_result"
    }
   ],
   "source": [
    "from datasets import load_dataset\n",
    "from datasets import ClassLabel\n",
    "import dspy\n",
    "import os\n",
    "from dotenv import load_dotenv\n",
    "from tqdm import tqdm\n",
    "\n",
    "load_dotenv()\n",
    "\n",
    "\n",
    "azure_api_key = os.getenv(\"AZURE_API_KEY\")\n",
    "azure_api_base = os.getenv(\"AZURE_API_BASE\")\n",
    "\n",
    "lm = dspy.LM(\n",
    "    \"azure/gpt-4o-mini\",\n",
    "    api_base=azure_api_base,\n",
    "    api_key=azure_api_key,\n",
    "    api_version=\"2024-12-01-preview\",\n",
    ")\n",
    "\n",
    "dataset = load_dataset(\"nkazi/SciEntsBank\", cache_dir=\"../data\")\n",
    "\n",
    "# convert to 4 way classification\n",
    "dataset = dataset.align_labels_with_mapping(\n",
    "    {\n",
    "        \"correct\": 0,\n",
    "        \"partially_correct_incomplete\": 1,\n",
    "        \"contradictory\": 2,\n",
    "        \"irrelevant\": 3,\n",
    "        \"non_domain\": 3,\n",
    "    },\n",
    "    \"label\",\n",
    ")\n",
    "dataset = dataset.cast_column(\n",
    "    \"label\", ClassLabel(names=[\"correct\", \"contradictory\", \"incorrect\", \"irrelevant\"])\n",
    ")\n",
    "\n",
    "# shuffle ds\n",
    "dataset = dataset.shuffle(seed=42)\n",
    "\n",
    "dataset[\"train\"][0]"
   ]
  },
  {
   "cell_type": "code",
   "execution_count": null,
   "id": "aa7ce1cb-d8ab-457c-ad92-79562fa84503",
   "metadata": {},
   "outputs": [
    {
     "name": "stderr",
     "output_type": "stream",
     "text": [
      "  0%|          | 0/5 [00:00<?, ?it/s]"
     ]
    },
    {
     "name": "stdout",
     "output_type": "stream",
     "text": [
      "id\n"
     ]
    },
    {
     "name": "stderr",
     "output_type": "stream",
     "text": [
      "\n"
     ]
    },
    {
     "ename": "TypeError",
     "evalue": "string indices must be integers, not 'str'",
     "output_type": "error",
     "traceback": [
      "\u001b[31m---------------------------------------------------------------------------\u001b[39m",
      "\u001b[31mTypeError\u001b[39m                                 Traceback (most recent call last)",
      "\u001b[36mCell\u001b[39m\u001b[36m \u001b[39m\u001b[32mIn[25]\u001b[39m\u001b[32m, line 10\u001b[39m\n\u001b[32m      7\u001b[39m \u001b[38;5;28;01mfor\u001b[39;00m example \u001b[38;5;129;01min\u001b[39;00m tqdm(dataset[\u001b[33m\"\u001b[39m\u001b[33mtrain\u001b[39m\u001b[33m\"\u001b[39m][:\u001b[32m20\u001b[39m]):\n\u001b[32m      8\u001b[39m     \u001b[38;5;28mprint\u001b[39m(example)\n\u001b[32m      9\u001b[39m     pred = teacher(\n\u001b[32m---> \u001b[39m\u001b[32m10\u001b[39m         question=\u001b[43mexample\u001b[49m\u001b[43m[\u001b[49m\u001b[33;43m\"\u001b[39;49m\u001b[33;43mquestion\u001b[39;49m\u001b[33;43m\"\u001b[39;49m\u001b[43m]\u001b[49m,\n\u001b[32m     11\u001b[39m         reference_answer=example[\u001b[33m\"\u001b[39m\u001b[33mreference_answer\u001b[39m\u001b[33m\"\u001b[39m],\n\u001b[32m     12\u001b[39m         student_answer=example[\u001b[33m\"\u001b[39m\u001b[33mstudent_answer\u001b[39m\u001b[33m\"\u001b[39m],\n\u001b[32m     13\u001b[39m     )\n\u001b[32m     14\u001b[39m     gold_score = example[\u001b[33m\"\u001b[39m\u001b[33mlabel\u001b[39m\u001b[33m\"\u001b[39m]\n\u001b[32m     15\u001b[39m     pred_score = pred.score\n",
      "\u001b[31mTypeError\u001b[39m: string indices must be integers, not 'str'"
     ]
    }
   ],
   "source": [
    "# evaluator(teacher, metric=metric, display_table=5)\n",
    "\n",
    "scores = []\n",
    "\n",
    "for example in tqdm(dataset[\"train\"][:20]):\n",
    "    print(example)\n",
    "    pred = teacher(\n",
    "        question=example[\"question\"],\n",
    "        reference_answer=example[\"reference_answer\"],\n",
    "        student_answer=example[\"student_answer\"],\n",
    "    )\n",
    "    gold_score = example[\"label\"]\n",
    "    pred_score = pred.score\n",
    "    scores.append(float(pred_score == gold_score))\n",
    "\n",
    "print(f\"Average score: {sum(scores) / len(scores)}\")"
   ]
  },
  {
   "cell_type": "code",
   "execution_count": null,
   "id": "c3cfbd4c-fedb-47ad-b9b3-514fa4dfe255",
   "metadata": {},
   "outputs": [
    {
     "name": "stderr",
     "output_type": "stream",
     "text": [
      "  0%|          | 0/4969 [00:00<?, ?it/s]"
     ]
    },
    {
     "name": "stdout",
     "output_type": "stream",
     "text": [
      "{'id': 'ME.79.207.1', 'question': \"Kurt was investigating which objects stick to magnets. He made an entry in his science notebook and drew a picture to help explain what he did. Look what I did! I picked up a paperclip with a magnet. Then that paperclip picked up another one, and then another one. And they weren't hooked together either. All they had to do was touch each other. Explain to Kurt why he was able to pick up all those paperclips, even though the magnet was only touching the first one.\", 'reference_answer': 'When a paperclip sticks to a magnet, the paperclip turns into a temporary magnet, so the paperclip can stick to other paperclips and other things made of iron.', 'student_answer': 'The magnet sends magnet through one paperclip to another.', 'label': 1}\n"
     ]
    },
    {
     "name": "stderr",
     "output_type": "stream",
     "text": [
      "\n"
     ]
    },
    {
     "ename": "ValueError",
     "evalue": "No LM is loaded. Please configure the LM using `dspy.configure(lm=dspy.LM(...))`. e.g, `dspy.configure(lm=dspy.LM('openai/gpt-4o-mini'))`",
     "output_type": "error",
     "traceback": [
      "\u001b[31m---------------------------------------------------------------------------\u001b[39m",
      "\u001b[31mValueError\u001b[39m                                Traceback (most recent call last)",
      "\u001b[36mCell\u001b[39m\u001b[36m \u001b[39m\u001b[32mIn[26]\u001b[39m\u001b[32m, line 9\u001b[39m\n\u001b[32m      7\u001b[39m \u001b[38;5;28;01mfor\u001b[39;00m example \u001b[38;5;129;01min\u001b[39;00m tqdm(dataset[\u001b[33m\"\u001b[39m\u001b[33mtrain\u001b[39m\u001b[33m\"\u001b[39m]):\n\u001b[32m      8\u001b[39m     \u001b[38;5;28mprint\u001b[39m(example)\n\u001b[32m----> \u001b[39m\u001b[32m9\u001b[39m     pred = \u001b[43mteacher\u001b[49m\u001b[43m(\u001b[49m\n\u001b[32m     10\u001b[39m \u001b[43m        \u001b[49m\u001b[43mquestion\u001b[49m\u001b[43m=\u001b[49m\u001b[43mexample\u001b[49m\u001b[43m[\u001b[49m\u001b[33;43m\"\u001b[39;49m\u001b[33;43mquestion\u001b[39;49m\u001b[33;43m\"\u001b[39;49m\u001b[43m]\u001b[49m\u001b[43m,\u001b[49m\n\u001b[32m     11\u001b[39m \u001b[43m        \u001b[49m\u001b[43mreference_answer\u001b[49m\u001b[43m=\u001b[49m\u001b[43mexample\u001b[49m\u001b[43m[\u001b[49m\u001b[33;43m\"\u001b[39;49m\u001b[33;43mreference_answer\u001b[39;49m\u001b[33;43m\"\u001b[39;49m\u001b[43m]\u001b[49m\u001b[43m,\u001b[49m\n\u001b[32m     12\u001b[39m \u001b[43m        \u001b[49m\u001b[43mstudent_answer\u001b[49m\u001b[43m=\u001b[49m\u001b[43mexample\u001b[49m\u001b[43m[\u001b[49m\u001b[33;43m\"\u001b[39;49m\u001b[33;43mstudent_answer\u001b[39;49m\u001b[33;43m\"\u001b[39;49m\u001b[43m]\u001b[49m\u001b[43m,\u001b[49m\n\u001b[32m     13\u001b[39m \u001b[43m    \u001b[49m\u001b[43m)\u001b[49m\n\u001b[32m     14\u001b[39m     gold_score = example[\u001b[33m\"\u001b[39m\u001b[33mlabel\u001b[39m\u001b[33m\"\u001b[39m]\n\u001b[32m     15\u001b[39m     pred_score = pred.score\n",
      "\u001b[36mFile \u001b[39m\u001b[32m~/Coding/its/backend/.venv/lib/python3.12/site-packages/dspy/predict/predict.py:86\u001b[39m, in \u001b[36mPredict.__call__\u001b[39m\u001b[34m(self, *args, **kwargs)\u001b[39m\n\u001b[32m     83\u001b[39m \u001b[38;5;28;01mif\u001b[39;00m args:\n\u001b[32m     84\u001b[39m     \u001b[38;5;28;01mraise\u001b[39;00m \u001b[38;5;167;01mValueError\u001b[39;00m(\u001b[38;5;28mself\u001b[39m._get_positional_args_error_message())\n\u001b[32m---> \u001b[39m\u001b[32m86\u001b[39m \u001b[38;5;28;01mreturn\u001b[39;00m \u001b[38;5;28;43msuper\u001b[39;49m\u001b[43m(\u001b[49m\u001b[43m)\u001b[49m\u001b[43m.\u001b[49m\u001b[34;43m__call__\u001b[39;49m\u001b[43m(\u001b[49m\u001b[43m*\u001b[49m\u001b[43m*\u001b[49m\u001b[43mkwargs\u001b[49m\u001b[43m)\u001b[49m\n",
      "\u001b[36mFile \u001b[39m\u001b[32m~/Coding/its/backend/.venv/lib/python3.12/site-packages/dspy/utils/callback.py:326\u001b[39m, in \u001b[36mwith_callbacks.<locals>.sync_wrapper\u001b[39m\u001b[34m(instance, *args, **kwargs)\u001b[39m\n\u001b[32m    324\u001b[39m callbacks = _get_active_callbacks(instance)\n\u001b[32m    325\u001b[39m \u001b[38;5;28;01mif\u001b[39;00m \u001b[38;5;129;01mnot\u001b[39;00m callbacks:\n\u001b[32m--> \u001b[39m\u001b[32m326\u001b[39m     \u001b[38;5;28;01mreturn\u001b[39;00m \u001b[43mfn\u001b[49m\u001b[43m(\u001b[49m\u001b[43minstance\u001b[49m\u001b[43m,\u001b[49m\u001b[43m \u001b[49m\u001b[43m*\u001b[49m\u001b[43margs\u001b[49m\u001b[43m,\u001b[49m\u001b[43m \u001b[49m\u001b[43m*\u001b[49m\u001b[43m*\u001b[49m\u001b[43mkwargs\u001b[49m\u001b[43m)\u001b[49m\n\u001b[32m    328\u001b[39m call_id = uuid.uuid4().hex\n\u001b[32m    330\u001b[39m _execute_start_callbacks(instance, fn, call_id, callbacks, args, kwargs)\n",
      "\u001b[36mFile \u001b[39m\u001b[32m~/Coding/its/backend/.venv/lib/python3.12/site-packages/dspy/primitives/module.py:77\u001b[39m, in \u001b[36mModule.__call__\u001b[39m\u001b[34m(self, *args, **kwargs)\u001b[39m\n\u001b[32m     74\u001b[39m     output.set_lm_usage(usage_tracker.get_total_tokens())\n\u001b[32m     75\u001b[39m     \u001b[38;5;28;01mreturn\u001b[39;00m output\n\u001b[32m---> \u001b[39m\u001b[32m77\u001b[39m \u001b[38;5;28;01mreturn\u001b[39;00m \u001b[38;5;28;43mself\u001b[39;49m\u001b[43m.\u001b[49m\u001b[43mforward\u001b[49m\u001b[43m(\u001b[49m\u001b[43m*\u001b[49m\u001b[43margs\u001b[49m\u001b[43m,\u001b[49m\u001b[43m \u001b[49m\u001b[43m*\u001b[49m\u001b[43m*\u001b[49m\u001b[43mkwargs\u001b[49m\u001b[43m)\u001b[49m\n",
      "\u001b[36mFile \u001b[39m\u001b[32m~/Coding/its/backend/.venv/lib/python3.12/site-packages/dspy/predict/predict.py:166\u001b[39m, in \u001b[36mPredict.forward\u001b[39m\u001b[34m(self, **kwargs)\u001b[39m\n\u001b[32m    165\u001b[39m \u001b[38;5;28;01mdef\u001b[39;00m\u001b[38;5;250m \u001b[39m\u001b[34mforward\u001b[39m(\u001b[38;5;28mself\u001b[39m, **kwargs):\n\u001b[32m--> \u001b[39m\u001b[32m166\u001b[39m     lm, config, signature, demos, kwargs = \u001b[38;5;28;43mself\u001b[39;49m\u001b[43m.\u001b[49m\u001b[43m_forward_preprocess\u001b[49m\u001b[43m(\u001b[49m\u001b[43m*\u001b[49m\u001b[43m*\u001b[49m\u001b[43mkwargs\u001b[49m\u001b[43m)\u001b[49m\n\u001b[32m    168\u001b[39m     adapter = settings.adapter \u001b[38;5;129;01mor\u001b[39;00m ChatAdapter()\n\u001b[32m    170\u001b[39m     \u001b[38;5;28;01mif\u001b[39;00m \u001b[38;5;28mself\u001b[39m._should_stream():\n",
      "\u001b[36mFile \u001b[39m\u001b[32m~/Coding/its/backend/.venv/lib/python3.12/site-packages/dspy/predict/predict.py:105\u001b[39m, in \u001b[36mPredict._forward_preprocess\u001b[39m\u001b[34m(self, **kwargs)\u001b[39m\n\u001b[32m    102\u001b[39m lm = kwargs.pop(\u001b[33m\"\u001b[39m\u001b[33mlm\u001b[39m\u001b[33m\"\u001b[39m, \u001b[38;5;28mself\u001b[39m.lm) \u001b[38;5;129;01mor\u001b[39;00m settings.lm\n\u001b[32m    104\u001b[39m \u001b[38;5;28;01mif\u001b[39;00m lm \u001b[38;5;129;01mis\u001b[39;00m \u001b[38;5;28;01mNone\u001b[39;00m:\n\u001b[32m--> \u001b[39m\u001b[32m105\u001b[39m     \u001b[38;5;28;01mraise\u001b[39;00m \u001b[38;5;167;01mValueError\u001b[39;00m(\n\u001b[32m    106\u001b[39m         \u001b[33m\"\u001b[39m\u001b[33mNo LM is loaded. Please configure the LM using `dspy.configure(lm=dspy.LM(...))`. e.g, \u001b[39m\u001b[33m\"\u001b[39m\n\u001b[32m    107\u001b[39m         \u001b[33m\"\u001b[39m\u001b[33m`dspy.configure(lm=dspy.LM(\u001b[39m\u001b[33m'\u001b[39m\u001b[33mopenai/gpt-4o-mini\u001b[39m\u001b[33m'\u001b[39m\u001b[33m))`\u001b[39m\u001b[33m\"\u001b[39m\n\u001b[32m    108\u001b[39m     )\n\u001b[32m    110\u001b[39m \u001b[38;5;28;01mif\u001b[39;00m \u001b[38;5;28misinstance\u001b[39m(lm, \u001b[38;5;28mstr\u001b[39m):\n\u001b[32m    111\u001b[39m     \u001b[38;5;66;03m# Many users mistakenly use `dspy.configure(lm=\"openai/gpt-4o-mini\")` instead of\u001b[39;00m\n\u001b[32m    112\u001b[39m     \u001b[38;5;66;03m# `dspy.configure(lm=dspy.LM(\"openai/gpt-4o-mini\"))`, so we are providing a specific error message.\u001b[39;00m\n\u001b[32m    113\u001b[39m     \u001b[38;5;28;01mraise\u001b[39;00m \u001b[38;5;167;01mValueError\u001b[39;00m(\n\u001b[32m    114\u001b[39m         \u001b[33mf\u001b[39m\u001b[33m\"\u001b[39m\u001b[33mLM must be an instance of `dspy.BaseLM`, not a string. Instead of using a string like \u001b[39m\u001b[33m\"\u001b[39m\n\u001b[32m    115\u001b[39m         \u001b[33mf\u001b[39m\u001b[33m\"\u001b[39m\u001b[33m'\u001b[39m\u001b[33mdspy.configure(lm=\u001b[39m\u001b[38;5;130;01m\\\"\u001b[39;00m\u001b[38;5;132;01m{\u001b[39;00mlm\u001b[38;5;132;01m}\u001b[39;00m\u001b[38;5;130;01m\\\"\u001b[39;00m\u001b[33m)\u001b[39m\u001b[33m'\u001b[39m\u001b[33m, please configure the LM like \u001b[39m\u001b[33m'\u001b[39m\u001b[33mdspy.configure(lm=dspy.LM(\u001b[39m\u001b[38;5;130;01m\\\"\u001b[39;00m\u001b[38;5;132;01m{\u001b[39;00mlm\u001b[38;5;132;01m}\u001b[39;00m\u001b[38;5;130;01m\\\"\u001b[39;00m\u001b[33m))\u001b[39m\u001b[33m'\u001b[39m\u001b[33m\"\u001b[39m\n\u001b[32m    116\u001b[39m     )\n",
      "\u001b[31mValueError\u001b[39m: No LM is loaded. Please configure the LM using `dspy.configure(lm=dspy.LM(...))`. e.g, `dspy.configure(lm=dspy.LM('openai/gpt-4o-mini'))`"
     ]
    }
   ],
   "source": [
    "# evaluator(teacher, metric=metric, display_table=5)\n",
    "\n",
    "scores = []\n",
    "\n",
    "for example in tqdm(dataset[\"train\"]):\n",
    "    print(example)\n",
    "    pred = teacher(\n",
    "        question=example[\"question\"],\n",
    "        reference_answer=example[\"reference_answer\"],\n",
    "        student_answer=example[\"student_answer\"],\n",
    "    )\n",
    "    gold_score = example[\"label\"]\n",
    "    pred_score = pred.score\n",
    "    scores.append(float(pred_score == gold_score))\n",
    "\n",
    "print(f\"Average score: {sum(scores) / len(scores)}\")"
   ]
  },
  {
   "cell_type": "code",
   "execution_count": null,
   "id": "71e8b0e3-fc9e-4fa2-9884-988d93f52d79",
   "metadata": {},
   "outputs": [
    {
     "name": "stderr",
     "output_type": "stream",
     "text": [
      "  0%|          | 0/4969 [00:00<?, ?it/s]\n"
     ]
    },
    {
     "ename": "ValueError",
     "evalue": "No LM is loaded. Please configure the LM using `dspy.configure(lm=dspy.LM(...))`. e.g, `dspy.configure(lm=dspy.LM('openai/gpt-4o-mini'))`",
     "output_type": "error",
     "traceback": [
      "\u001b[31m---------------------------------------------------------------------------\u001b[39m",
      "\u001b[31mValueError\u001b[39m                                Traceback (most recent call last)",
      "\u001b[36mCell\u001b[39m\u001b[36m \u001b[39m\u001b[32mIn[27]\u001b[39m\u001b[32m, line 9\u001b[39m\n\u001b[32m      5\u001b[39m scores = []\n\u001b[32m      7\u001b[39m \u001b[38;5;28;01mfor\u001b[39;00m example \u001b[38;5;129;01min\u001b[39;00m tqdm(dataset[\u001b[33m\"\u001b[39m\u001b[33mtrain\u001b[39m\u001b[33m\"\u001b[39m]):\n\u001b[32m      8\u001b[39m     \u001b[38;5;66;03m# print(example)\u001b[39;00m\n\u001b[32m----> \u001b[39m\u001b[32m9\u001b[39m     pred = \u001b[43mteacher\u001b[49m\u001b[43m(\u001b[49m\n\u001b[32m     10\u001b[39m \u001b[43m        \u001b[49m\u001b[43mquestion\u001b[49m\u001b[43m=\u001b[49m\u001b[43mexample\u001b[49m\u001b[43m[\u001b[49m\u001b[33;43m\"\u001b[39;49m\u001b[33;43mquestion\u001b[39;49m\u001b[33;43m\"\u001b[39;49m\u001b[43m]\u001b[49m\u001b[43m,\u001b[49m\n\u001b[32m     11\u001b[39m \u001b[43m        \u001b[49m\u001b[43mreference_answer\u001b[49m\u001b[43m=\u001b[49m\u001b[43mexample\u001b[49m\u001b[43m[\u001b[49m\u001b[33;43m\"\u001b[39;49m\u001b[33;43mreference_answer\u001b[39;49m\u001b[33;43m\"\u001b[39;49m\u001b[43m]\u001b[49m\u001b[43m,\u001b[49m\n\u001b[32m     12\u001b[39m \u001b[43m        \u001b[49m\u001b[43mstudent_answer\u001b[49m\u001b[43m=\u001b[49m\u001b[43mexample\u001b[49m\u001b[43m[\u001b[49m\u001b[33;43m\"\u001b[39;49m\u001b[33;43mstudent_answer\u001b[39;49m\u001b[33;43m\"\u001b[39;49m\u001b[43m]\u001b[49m\u001b[43m,\u001b[49m\n\u001b[32m     13\u001b[39m \u001b[43m    \u001b[49m\u001b[43m)\u001b[49m\n\u001b[32m     14\u001b[39m     gold_score = example[\u001b[33m\"\u001b[39m\u001b[33mlabel\u001b[39m\u001b[33m\"\u001b[39m]\n\u001b[32m     15\u001b[39m     pred_score = pred.score\n",
      "\u001b[36mFile \u001b[39m\u001b[32m~/Coding/its/backend/.venv/lib/python3.12/site-packages/dspy/predict/predict.py:86\u001b[39m, in \u001b[36mPredict.__call__\u001b[39m\u001b[34m(self, *args, **kwargs)\u001b[39m\n\u001b[32m     83\u001b[39m \u001b[38;5;28;01mif\u001b[39;00m args:\n\u001b[32m     84\u001b[39m     \u001b[38;5;28;01mraise\u001b[39;00m \u001b[38;5;167;01mValueError\u001b[39;00m(\u001b[38;5;28mself\u001b[39m._get_positional_args_error_message())\n\u001b[32m---> \u001b[39m\u001b[32m86\u001b[39m \u001b[38;5;28;01mreturn\u001b[39;00m \u001b[38;5;28;43msuper\u001b[39;49m\u001b[43m(\u001b[49m\u001b[43m)\u001b[49m\u001b[43m.\u001b[49m\u001b[34;43m__call__\u001b[39;49m\u001b[43m(\u001b[49m\u001b[43m*\u001b[49m\u001b[43m*\u001b[49m\u001b[43mkwargs\u001b[49m\u001b[43m)\u001b[49m\n",
      "\u001b[36mFile \u001b[39m\u001b[32m~/Coding/its/backend/.venv/lib/python3.12/site-packages/dspy/utils/callback.py:326\u001b[39m, in \u001b[36mwith_callbacks.<locals>.sync_wrapper\u001b[39m\u001b[34m(instance, *args, **kwargs)\u001b[39m\n\u001b[32m    324\u001b[39m callbacks = _get_active_callbacks(instance)\n\u001b[32m    325\u001b[39m \u001b[38;5;28;01mif\u001b[39;00m \u001b[38;5;129;01mnot\u001b[39;00m callbacks:\n\u001b[32m--> \u001b[39m\u001b[32m326\u001b[39m     \u001b[38;5;28;01mreturn\u001b[39;00m \u001b[43mfn\u001b[49m\u001b[43m(\u001b[49m\u001b[43minstance\u001b[49m\u001b[43m,\u001b[49m\u001b[43m \u001b[49m\u001b[43m*\u001b[49m\u001b[43margs\u001b[49m\u001b[43m,\u001b[49m\u001b[43m \u001b[49m\u001b[43m*\u001b[49m\u001b[43m*\u001b[49m\u001b[43mkwargs\u001b[49m\u001b[43m)\u001b[49m\n\u001b[32m    328\u001b[39m call_id = uuid.uuid4().hex\n\u001b[32m    330\u001b[39m _execute_start_callbacks(instance, fn, call_id, callbacks, args, kwargs)\n",
      "\u001b[36mFile \u001b[39m\u001b[32m~/Coding/its/backend/.venv/lib/python3.12/site-packages/dspy/primitives/module.py:77\u001b[39m, in \u001b[36mModule.__call__\u001b[39m\u001b[34m(self, *args, **kwargs)\u001b[39m\n\u001b[32m     74\u001b[39m     output.set_lm_usage(usage_tracker.get_total_tokens())\n\u001b[32m     75\u001b[39m     \u001b[38;5;28;01mreturn\u001b[39;00m output\n\u001b[32m---> \u001b[39m\u001b[32m77\u001b[39m \u001b[38;5;28;01mreturn\u001b[39;00m \u001b[38;5;28;43mself\u001b[39;49m\u001b[43m.\u001b[49m\u001b[43mforward\u001b[49m\u001b[43m(\u001b[49m\u001b[43m*\u001b[49m\u001b[43margs\u001b[49m\u001b[43m,\u001b[49m\u001b[43m \u001b[49m\u001b[43m*\u001b[49m\u001b[43m*\u001b[49m\u001b[43mkwargs\u001b[49m\u001b[43m)\u001b[49m\n",
      "\u001b[36mFile \u001b[39m\u001b[32m~/Coding/its/backend/.venv/lib/python3.12/site-packages/dspy/predict/predict.py:166\u001b[39m, in \u001b[36mPredict.forward\u001b[39m\u001b[34m(self, **kwargs)\u001b[39m\n\u001b[32m    165\u001b[39m \u001b[38;5;28;01mdef\u001b[39;00m\u001b[38;5;250m \u001b[39m\u001b[34mforward\u001b[39m(\u001b[38;5;28mself\u001b[39m, **kwargs):\n\u001b[32m--> \u001b[39m\u001b[32m166\u001b[39m     lm, config, signature, demos, kwargs = \u001b[38;5;28;43mself\u001b[39;49m\u001b[43m.\u001b[49m\u001b[43m_forward_preprocess\u001b[49m\u001b[43m(\u001b[49m\u001b[43m*\u001b[49m\u001b[43m*\u001b[49m\u001b[43mkwargs\u001b[49m\u001b[43m)\u001b[49m\n\u001b[32m    168\u001b[39m     adapter = settings.adapter \u001b[38;5;129;01mor\u001b[39;00m ChatAdapter()\n\u001b[32m    170\u001b[39m     \u001b[38;5;28;01mif\u001b[39;00m \u001b[38;5;28mself\u001b[39m._should_stream():\n",
      "\u001b[36mFile \u001b[39m\u001b[32m~/Coding/its/backend/.venv/lib/python3.12/site-packages/dspy/predict/predict.py:105\u001b[39m, in \u001b[36mPredict._forward_preprocess\u001b[39m\u001b[34m(self, **kwargs)\u001b[39m\n\u001b[32m    102\u001b[39m lm = kwargs.pop(\u001b[33m\"\u001b[39m\u001b[33mlm\u001b[39m\u001b[33m\"\u001b[39m, \u001b[38;5;28mself\u001b[39m.lm) \u001b[38;5;129;01mor\u001b[39;00m settings.lm\n\u001b[32m    104\u001b[39m \u001b[38;5;28;01mif\u001b[39;00m lm \u001b[38;5;129;01mis\u001b[39;00m \u001b[38;5;28;01mNone\u001b[39;00m:\n\u001b[32m--> \u001b[39m\u001b[32m105\u001b[39m     \u001b[38;5;28;01mraise\u001b[39;00m \u001b[38;5;167;01mValueError\u001b[39;00m(\n\u001b[32m    106\u001b[39m         \u001b[33m\"\u001b[39m\u001b[33mNo LM is loaded. Please configure the LM using `dspy.configure(lm=dspy.LM(...))`. e.g, \u001b[39m\u001b[33m\"\u001b[39m\n\u001b[32m    107\u001b[39m         \u001b[33m\"\u001b[39m\u001b[33m`dspy.configure(lm=dspy.LM(\u001b[39m\u001b[33m'\u001b[39m\u001b[33mopenai/gpt-4o-mini\u001b[39m\u001b[33m'\u001b[39m\u001b[33m))`\u001b[39m\u001b[33m\"\u001b[39m\n\u001b[32m    108\u001b[39m     )\n\u001b[32m    110\u001b[39m \u001b[38;5;28;01mif\u001b[39;00m \u001b[38;5;28misinstance\u001b[39m(lm, \u001b[38;5;28mstr\u001b[39m):\n\u001b[32m    111\u001b[39m     \u001b[38;5;66;03m# Many users mistakenly use `dspy.configure(lm=\"openai/gpt-4o-mini\")` instead of\u001b[39;00m\n\u001b[32m    112\u001b[39m     \u001b[38;5;66;03m# `dspy.configure(lm=dspy.LM(\"openai/gpt-4o-mini\"))`, so we are providing a specific error message.\u001b[39;00m\n\u001b[32m    113\u001b[39m     \u001b[38;5;28;01mraise\u001b[39;00m \u001b[38;5;167;01mValueError\u001b[39;00m(\n\u001b[32m    114\u001b[39m         \u001b[33mf\u001b[39m\u001b[33m\"\u001b[39m\u001b[33mLM must be an instance of `dspy.BaseLM`, not a string. Instead of using a string like \u001b[39m\u001b[33m\"\u001b[39m\n\u001b[32m    115\u001b[39m         \u001b[33mf\u001b[39m\u001b[33m\"\u001b[39m\u001b[33m'\u001b[39m\u001b[33mdspy.configure(lm=\u001b[39m\u001b[38;5;130;01m\\\"\u001b[39;00m\u001b[38;5;132;01m{\u001b[39;00mlm\u001b[38;5;132;01m}\u001b[39;00m\u001b[38;5;130;01m\\\"\u001b[39;00m\u001b[33m)\u001b[39m\u001b[33m'\u001b[39m\u001b[33m, please configure the LM like \u001b[39m\u001b[33m'\u001b[39m\u001b[33mdspy.configure(lm=dspy.LM(\u001b[39m\u001b[38;5;130;01m\\\"\u001b[39;00m\u001b[38;5;132;01m{\u001b[39;00mlm\u001b[38;5;132;01m}\u001b[39;00m\u001b[38;5;130;01m\\\"\u001b[39;00m\u001b[33m))\u001b[39m\u001b[33m'\u001b[39m\u001b[33m\"\u001b[39m\n\u001b[32m    116\u001b[39m     )\n",
      "\u001b[31mValueError\u001b[39m: No LM is loaded. Please configure the LM using `dspy.configure(lm=dspy.LM(...))`. e.g, `dspy.configure(lm=dspy.LM('openai/gpt-4o-mini'))`"
     ]
    }
   ],
   "source": [
    "# evaluator(teacher, metric=metric, display_table=5)\n",
    "teacher = dspy.Predict(TeacherFreeText4Way)\n",
    "scores = []\n",
    "\n",
    "for example in tqdm(dataset[\"train\"]):\n",
    "    # print(example)\n",
    "    pred = teacher(\n",
    "        question=example[\"question\"],\n",
    "        reference_answer=example[\"reference_answer\"],\n",
    "        student_answer=example[\"student_answer\"],\n",
    "    )\n",
    "    gold_score = example[\"label\"]\n",
    "    pred_score = pred.score\n",
    "    scores.append(float(pred_score == gold_score))\n",
    "\n",
    "print(f\"Average score: {sum(scores) / len(scores)}\")"
   ]
  },
  {
   "cell_type": "code",
   "execution_count": null,
   "id": "9cbf6c59-3130-46a1-9e03-c2f8d584be0c",
   "metadata": {},
   "outputs": [
    {
     "data": {
      "text/plain": [
       "{'id': 'ME.79.207.1',\n",
       " 'question': \"Kurt was investigating which objects stick to magnets. He made an entry in his science notebook and drew a picture to help explain what he did. Look what I did! I picked up a paperclip with a magnet. Then that paperclip picked up another one, and then another one. And they weren't hooked together either. All they had to do was touch each other. Explain to Kurt why he was able to pick up all those paperclips, even though the magnet was only touching the first one.\",\n",
       " 'reference_answer': 'When a paperclip sticks to a magnet, the paperclip turns into a temporary magnet, so the paperclip can stick to other paperclips and other things made of iron.',\n",
       " 'student_answer': 'The magnet sends magnet through one paperclip to another.',\n",
       " 'label': 1}"
      ]
     },
     "execution_count": 28,
     "metadata": {},
     "output_type": "execute_result"
    }
   ],
   "source": [
    "from datasets import load_dataset\n",
    "from datasets import ClassLabel\n",
    "import dspy\n",
    "import os\n",
    "from dotenv import load_dotenv\n",
    "from tqdm import tqdm\n",
    "\n",
    "load_dotenv()\n",
    "\n",
    "\n",
    "azure_api_key = os.getenv(\"AZURE_API_KEY\")\n",
    "azure_api_base = os.getenv(\"AZURE_API_BASE\")\n",
    "\n",
    "lm = dspy.LM(\n",
    "    \"azure/gpt-4o-mini\",\n",
    "    api_base=azure_api_base,\n",
    "    api_key=azure_api_key,\n",
    "    api_version=\"2024-12-01-preview\",\n",
    ")\n",
    "\n",
    "dataset = load_dataset(\"nkazi/SciEntsBank\", cache_dir=\"../data\")\n",
    "\n",
    "# convert to 4 way classification\n",
    "dataset = dataset.align_labels_with_mapping(\n",
    "    {\n",
    "        \"correct\": 0,\n",
    "        \"partially_correct_incomplete\": 1,\n",
    "        \"contradictory\": 2,\n",
    "        \"irrelevant\": 3,\n",
    "        \"non_domain\": 3,\n",
    "    },\n",
    "    \"label\",\n",
    ")\n",
    "dataset = dataset.cast_column(\n",
    "    \"label\", ClassLabel(names=[\"correct\", \"contradictory\", \"incorrect\", \"irrelevant\"])\n",
    ")\n",
    "\n",
    "# shuffle ds\n",
    "dataset = dataset.shuffle(seed=42)\n",
    "\n",
    "dataset[\"train\"][0]"
   ]
  },
  {
   "cell_type": "code",
   "execution_count": null,
   "id": "1d83beb5-1e0d-4919-9869-893c74e51977",
   "metadata": {},
   "outputs": [
    {
     "data": {
      "text/plain": [
       "{'id': 'ME.79.207.1',\n",
       " 'question': \"Kurt was investigating which objects stick to magnets. He made an entry in his science notebook and drew a picture to help explain what he did. Look what I did! I picked up a paperclip with a magnet. Then that paperclip picked up another one, and then another one. And they weren't hooked together either. All they had to do was touch each other. Explain to Kurt why he was able to pick up all those paperclips, even though the magnet was only touching the first one.\",\n",
       " 'reference_answer': 'When a paperclip sticks to a magnet, the paperclip turns into a temporary magnet, so the paperclip can stick to other paperclips and other things made of iron.',\n",
       " 'student_answer': 'The magnet sends magnet through one paperclip to another.',\n",
       " 'label': 1}"
      ]
     },
     "execution_count": 29,
     "metadata": {},
     "output_type": "execute_result"
    }
   ],
   "source": [
    "from datasets import load_dataset\n",
    "from datasets import ClassLabel\n",
    "import dspy\n",
    "import os\n",
    "from dotenv import load_dotenv\n",
    "from tqdm import tqdm\n",
    "\n",
    "load_dotenv()\n",
    "\n",
    "\n",
    "azure_api_key = os.getenv(\"AZURE_API_KEY\")\n",
    "azure_api_base = os.getenv(\"AZURE_API_BASE\")\n",
    "\n",
    "lm = dspy.LM(\n",
    "    \"azure/gpt-4o-mini\",\n",
    "    api_base=azure_api_base,\n",
    "    api_key=azure_api_key,\n",
    "    api_version=\"2024-12-01-preview\",\n",
    ")\n",
    "dspy.configure(lm=lm)\n",
    "\n",
    "dataset = load_dataset(\"nkazi/SciEntsBank\", cache_dir=\"../data\")\n",
    "\n",
    "# convert to 4 way classification\n",
    "dataset = dataset.align_labels_with_mapping(\n",
    "    {\n",
    "        \"correct\": 0,\n",
    "        \"partially_correct_incomplete\": 1,\n",
    "        \"contradictory\": 2,\n",
    "        \"irrelevant\": 3,\n",
    "        \"non_domain\": 3,\n",
    "    },\n",
    "    \"label\",\n",
    ")\n",
    "dataset = dataset.cast_column(\n",
    "    \"label\", ClassLabel(names=[\"correct\", \"contradictory\", \"incorrect\", \"irrelevant\"])\n",
    ")\n",
    "\n",
    "# shuffle ds\n",
    "dataset = dataset.shuffle(seed=42)\n",
    "\n",
    "dataset[\"train\"][0]"
   ]
  },
  {
   "cell_type": "code",
   "execution_count": null,
   "id": "f8bdde10-2be7-41da-8aab-7d662b8673c6",
   "metadata": {},
   "outputs": [
    {
     "name": "stderr",
     "output_type": "stream",
     "text": [
      "  0%|          | 5/4969 [00:05<1:30:56,  1.10s/it]\n"
     ]
    },
    {
     "ename": "KeyboardInterrupt",
     "evalue": "",
     "output_type": "error",
     "traceback": [
      "\u001b[31m---------------------------------------------------------------------------\u001b[39m",
      "\u001b[31mKeyboardInterrupt\u001b[39m                         Traceback (most recent call last)",
      "\u001b[36mCell\u001b[39m\u001b[36m \u001b[39m\u001b[32mIn[30]\u001b[39m\u001b[32m, line 9\u001b[39m\n\u001b[32m      5\u001b[39m scores = []\n\u001b[32m      7\u001b[39m \u001b[38;5;28;01mfor\u001b[39;00m example \u001b[38;5;129;01min\u001b[39;00m tqdm(dataset[\u001b[33m\"\u001b[39m\u001b[33mtrain\u001b[39m\u001b[33m\"\u001b[39m]):\n\u001b[32m      8\u001b[39m     \u001b[38;5;66;03m# print(example)\u001b[39;00m\n\u001b[32m----> \u001b[39m\u001b[32m9\u001b[39m     pred = \u001b[43mteacher\u001b[49m\u001b[43m(\u001b[49m\n\u001b[32m     10\u001b[39m \u001b[43m        \u001b[49m\u001b[43mquestion\u001b[49m\u001b[43m=\u001b[49m\u001b[43mexample\u001b[49m\u001b[43m[\u001b[49m\u001b[33;43m\"\u001b[39;49m\u001b[33;43mquestion\u001b[39;49m\u001b[33;43m\"\u001b[39;49m\u001b[43m]\u001b[49m\u001b[43m,\u001b[49m\n\u001b[32m     11\u001b[39m \u001b[43m        \u001b[49m\u001b[43mreference_answer\u001b[49m\u001b[43m=\u001b[49m\u001b[43mexample\u001b[49m\u001b[43m[\u001b[49m\u001b[33;43m\"\u001b[39;49m\u001b[33;43mreference_answer\u001b[39;49m\u001b[33;43m\"\u001b[39;49m\u001b[43m]\u001b[49m\u001b[43m,\u001b[49m\n\u001b[32m     12\u001b[39m \u001b[43m        \u001b[49m\u001b[43mstudent_answer\u001b[49m\u001b[43m=\u001b[49m\u001b[43mexample\u001b[49m\u001b[43m[\u001b[49m\u001b[33;43m\"\u001b[39;49m\u001b[33;43mstudent_answer\u001b[39;49m\u001b[33;43m\"\u001b[39;49m\u001b[43m]\u001b[49m\u001b[43m,\u001b[49m\n\u001b[32m     13\u001b[39m \u001b[43m    \u001b[49m\u001b[43m)\u001b[49m\n\u001b[32m     14\u001b[39m     gold_score = example[\u001b[33m\"\u001b[39m\u001b[33mlabel\u001b[39m\u001b[33m\"\u001b[39m]\n\u001b[32m     15\u001b[39m     pred_score = pred.score\n",
      "\u001b[36mFile \u001b[39m\u001b[32m~/Coding/its/backend/.venv/lib/python3.12/site-packages/dspy/predict/predict.py:86\u001b[39m, in \u001b[36mPredict.__call__\u001b[39m\u001b[34m(self, *args, **kwargs)\u001b[39m\n\u001b[32m     83\u001b[39m \u001b[38;5;28;01mif\u001b[39;00m args:\n\u001b[32m     84\u001b[39m     \u001b[38;5;28;01mraise\u001b[39;00m \u001b[38;5;167;01mValueError\u001b[39;00m(\u001b[38;5;28mself\u001b[39m._get_positional_args_error_message())\n\u001b[32m---> \u001b[39m\u001b[32m86\u001b[39m \u001b[38;5;28;01mreturn\u001b[39;00m \u001b[38;5;28;43msuper\u001b[39;49m\u001b[43m(\u001b[49m\u001b[43m)\u001b[49m\u001b[43m.\u001b[49m\u001b[34;43m__call__\u001b[39;49m\u001b[43m(\u001b[49m\u001b[43m*\u001b[49m\u001b[43m*\u001b[49m\u001b[43mkwargs\u001b[49m\u001b[43m)\u001b[49m\n",
      "\u001b[36mFile \u001b[39m\u001b[32m~/Coding/its/backend/.venv/lib/python3.12/site-packages/dspy/utils/callback.py:326\u001b[39m, in \u001b[36mwith_callbacks.<locals>.sync_wrapper\u001b[39m\u001b[34m(instance, *args, **kwargs)\u001b[39m\n\u001b[32m    324\u001b[39m callbacks = _get_active_callbacks(instance)\n\u001b[32m    325\u001b[39m \u001b[38;5;28;01mif\u001b[39;00m \u001b[38;5;129;01mnot\u001b[39;00m callbacks:\n\u001b[32m--> \u001b[39m\u001b[32m326\u001b[39m     \u001b[38;5;28;01mreturn\u001b[39;00m \u001b[43mfn\u001b[49m\u001b[43m(\u001b[49m\u001b[43minstance\u001b[49m\u001b[43m,\u001b[49m\u001b[43m \u001b[49m\u001b[43m*\u001b[49m\u001b[43margs\u001b[49m\u001b[43m,\u001b[49m\u001b[43m \u001b[49m\u001b[43m*\u001b[49m\u001b[43m*\u001b[49m\u001b[43mkwargs\u001b[49m\u001b[43m)\u001b[49m\n\u001b[32m    328\u001b[39m call_id = uuid.uuid4().hex\n\u001b[32m    330\u001b[39m _execute_start_callbacks(instance, fn, call_id, callbacks, args, kwargs)\n",
      "\u001b[36mFile \u001b[39m\u001b[32m~/Coding/its/backend/.venv/lib/python3.12/site-packages/dspy/primitives/module.py:77\u001b[39m, in \u001b[36mModule.__call__\u001b[39m\u001b[34m(self, *args, **kwargs)\u001b[39m\n\u001b[32m     74\u001b[39m     output.set_lm_usage(usage_tracker.get_total_tokens())\n\u001b[32m     75\u001b[39m     \u001b[38;5;28;01mreturn\u001b[39;00m output\n\u001b[32m---> \u001b[39m\u001b[32m77\u001b[39m \u001b[38;5;28;01mreturn\u001b[39;00m \u001b[38;5;28;43mself\u001b[39;49m\u001b[43m.\u001b[49m\u001b[43mforward\u001b[49m\u001b[43m(\u001b[49m\u001b[43m*\u001b[49m\u001b[43margs\u001b[49m\u001b[43m,\u001b[49m\u001b[43m \u001b[49m\u001b[43m*\u001b[49m\u001b[43m*\u001b[49m\u001b[43mkwargs\u001b[49m\u001b[43m)\u001b[49m\n",
      "\u001b[36mFile \u001b[39m\u001b[32m~/Coding/its/backend/.venv/lib/python3.12/site-packages/dspy/predict/predict.py:175\u001b[39m, in \u001b[36mPredict.forward\u001b[39m\u001b[34m(self, **kwargs)\u001b[39m\n\u001b[32m    173\u001b[39m \u001b[38;5;28;01melse\u001b[39;00m:\n\u001b[32m    174\u001b[39m     \u001b[38;5;28;01mwith\u001b[39;00m settings.context(send_stream=\u001b[38;5;28;01mNone\u001b[39;00m):\n\u001b[32m--> \u001b[39m\u001b[32m175\u001b[39m         completions = \u001b[43madapter\u001b[49m\u001b[43m(\u001b[49m\u001b[43mlm\u001b[49m\u001b[43m,\u001b[49m\u001b[43m \u001b[49m\u001b[43mlm_kwargs\u001b[49m\u001b[43m=\u001b[49m\u001b[43mconfig\u001b[49m\u001b[43m,\u001b[49m\u001b[43m \u001b[49m\u001b[43msignature\u001b[49m\u001b[43m=\u001b[49m\u001b[43msignature\u001b[49m\u001b[43m,\u001b[49m\u001b[43m \u001b[49m\u001b[43mdemos\u001b[49m\u001b[43m=\u001b[49m\u001b[43mdemos\u001b[49m\u001b[43m,\u001b[49m\u001b[43m \u001b[49m\u001b[43minputs\u001b[49m\u001b[43m=\u001b[49m\u001b[43mkwargs\u001b[49m\u001b[43m)\u001b[49m\n\u001b[32m    177\u001b[39m \u001b[38;5;28;01mreturn\u001b[39;00m \u001b[38;5;28mself\u001b[39m._forward_postprocess(completions, signature, **kwargs)\n",
      "\u001b[36mFile \u001b[39m\u001b[32m~/Coding/its/backend/.venv/lib/python3.12/site-packages/dspy/adapters/chat_adapter.py:38\u001b[39m, in \u001b[36mChatAdapter.__call__\u001b[39m\u001b[34m(self, lm, lm_kwargs, signature, demos, inputs)\u001b[39m\n\u001b[32m     29\u001b[39m \u001b[38;5;28;01mdef\u001b[39;00m\u001b[38;5;250m \u001b[39m\u001b[34m__call__\u001b[39m(\n\u001b[32m     30\u001b[39m     \u001b[38;5;28mself\u001b[39m,\n\u001b[32m     31\u001b[39m     lm: LM,\n\u001b[32m   (...)\u001b[39m\u001b[32m     35\u001b[39m     inputs: \u001b[38;5;28mdict\u001b[39m[\u001b[38;5;28mstr\u001b[39m, Any],\n\u001b[32m     36\u001b[39m ) -> \u001b[38;5;28mlist\u001b[39m[\u001b[38;5;28mdict\u001b[39m[\u001b[38;5;28mstr\u001b[39m, Any]]:\n\u001b[32m     37\u001b[39m     \u001b[38;5;28;01mtry\u001b[39;00m:\n\u001b[32m---> \u001b[39m\u001b[32m38\u001b[39m         \u001b[38;5;28;01mreturn\u001b[39;00m \u001b[38;5;28;43msuper\u001b[39;49m\u001b[43m(\u001b[49m\u001b[43m)\u001b[49m\u001b[43m.\u001b[49m\u001b[34;43m__call__\u001b[39;49m\u001b[43m(\u001b[49m\u001b[43mlm\u001b[49m\u001b[43m,\u001b[49m\u001b[43m \u001b[49m\u001b[43mlm_kwargs\u001b[49m\u001b[43m,\u001b[49m\u001b[43m \u001b[49m\u001b[43msignature\u001b[49m\u001b[43m,\u001b[49m\u001b[43m \u001b[49m\u001b[43mdemos\u001b[49m\u001b[43m,\u001b[49m\u001b[43m \u001b[49m\u001b[43minputs\u001b[49m\u001b[43m)\u001b[49m\n\u001b[32m     39\u001b[39m     \u001b[38;5;28;01mexcept\u001b[39;00m \u001b[38;5;167;01mException\u001b[39;00m \u001b[38;5;28;01mas\u001b[39;00m e:\n\u001b[32m     40\u001b[39m         \u001b[38;5;66;03m# fallback to JSONAdapter\u001b[39;00m\n\u001b[32m     41\u001b[39m         \u001b[38;5;28;01mfrom\u001b[39;00m\u001b[38;5;250m \u001b[39m\u001b[34;01mdspy\u001b[39;00m\u001b[34;01m.\u001b[39;00m\u001b[34;01madapters\u001b[39;00m\u001b[34;01m.\u001b[39;00m\u001b[34;01mjson_adapter\u001b[39;00m\u001b[38;5;250m \u001b[39m\u001b[38;5;28;01mimport\u001b[39;00m JSONAdapter\n",
      "\u001b[36mFile \u001b[39m\u001b[32m~/Coding/its/backend/.venv/lib/python3.12/site-packages/dspy/adapters/base.py:127\u001b[39m, in \u001b[36mAdapter.__call__\u001b[39m\u001b[34m(self, lm, lm_kwargs, signature, demos, inputs)\u001b[39m\n\u001b[32m    124\u001b[39m processed_signature = \u001b[38;5;28mself\u001b[39m._call_preprocess(lm, lm_kwargs, signature, inputs)\n\u001b[32m    125\u001b[39m inputs = \u001b[38;5;28mself\u001b[39m.format(processed_signature, demos, inputs)\n\u001b[32m--> \u001b[39m\u001b[32m127\u001b[39m outputs = \u001b[43mlm\u001b[49m\u001b[43m(\u001b[49m\u001b[43mmessages\u001b[49m\u001b[43m=\u001b[49m\u001b[43minputs\u001b[49m\u001b[43m,\u001b[49m\u001b[43m \u001b[49m\u001b[43m*\u001b[49m\u001b[43m*\u001b[49m\u001b[43mlm_kwargs\u001b[49m\u001b[43m)\u001b[49m\n\u001b[32m    128\u001b[39m \u001b[38;5;28;01mreturn\u001b[39;00m \u001b[38;5;28mself\u001b[39m._call_postprocess(processed_signature, signature, outputs)\n",
      "\u001b[36mFile \u001b[39m\u001b[32m~/Coding/its/backend/.venv/lib/python3.12/site-packages/dspy/utils/callback.py:326\u001b[39m, in \u001b[36mwith_callbacks.<locals>.sync_wrapper\u001b[39m\u001b[34m(instance, *args, **kwargs)\u001b[39m\n\u001b[32m    324\u001b[39m callbacks = _get_active_callbacks(instance)\n\u001b[32m    325\u001b[39m \u001b[38;5;28;01mif\u001b[39;00m \u001b[38;5;129;01mnot\u001b[39;00m callbacks:\n\u001b[32m--> \u001b[39m\u001b[32m326\u001b[39m     \u001b[38;5;28;01mreturn\u001b[39;00m \u001b[43mfn\u001b[49m\u001b[43m(\u001b[49m\u001b[43minstance\u001b[49m\u001b[43m,\u001b[49m\u001b[43m \u001b[49m\u001b[43m*\u001b[49m\u001b[43margs\u001b[49m\u001b[43m,\u001b[49m\u001b[43m \u001b[49m\u001b[43m*\u001b[49m\u001b[43m*\u001b[49m\u001b[43mkwargs\u001b[49m\u001b[43m)\u001b[49m\n\u001b[32m    328\u001b[39m call_id = uuid.uuid4().hex\n\u001b[32m    330\u001b[39m _execute_start_callbacks(instance, fn, call_id, callbacks, args, kwargs)\n",
      "\u001b[36mFile \u001b[39m\u001b[32m~/Coding/its/backend/.venv/lib/python3.12/site-packages/dspy/clients/base_lm.py:94\u001b[39m, in \u001b[36mBaseLM.__call__\u001b[39m\u001b[34m(self, prompt, messages, **kwargs)\u001b[39m\n\u001b[32m     92\u001b[39m \u001b[38;5;129m@with_callbacks\u001b[39m\n\u001b[32m     93\u001b[39m \u001b[38;5;28;01mdef\u001b[39;00m\u001b[38;5;250m \u001b[39m\u001b[34m__call__\u001b[39m(\u001b[38;5;28mself\u001b[39m, prompt=\u001b[38;5;28;01mNone\u001b[39;00m, messages=\u001b[38;5;28;01mNone\u001b[39;00m, **kwargs):\n\u001b[32m---> \u001b[39m\u001b[32m94\u001b[39m     response = \u001b[38;5;28;43mself\u001b[39;49m\u001b[43m.\u001b[49m\u001b[43mforward\u001b[49m\u001b[43m(\u001b[49m\u001b[43mprompt\u001b[49m\u001b[43m=\u001b[49m\u001b[43mprompt\u001b[49m\u001b[43m,\u001b[49m\u001b[43m \u001b[49m\u001b[43mmessages\u001b[49m\u001b[43m=\u001b[49m\u001b[43mmessages\u001b[49m\u001b[43m,\u001b[49m\u001b[43m \u001b[49m\u001b[43m*\u001b[49m\u001b[43m*\u001b[49m\u001b[43mkwargs\u001b[49m\u001b[43m)\u001b[49m\n\u001b[32m     95\u001b[39m     outputs = \u001b[38;5;28mself\u001b[39m._process_lm_response(response, prompt, messages, **kwargs)\n\u001b[32m     97\u001b[39m     \u001b[38;5;28;01mreturn\u001b[39;00m outputs\n",
      "\u001b[36mFile \u001b[39m\u001b[32m~/Coding/its/backend/.venv/lib/python3.12/site-packages/dspy/clients/lm.py:128\u001b[39m, in \u001b[36mLM.forward\u001b[39m\u001b[34m(self, prompt, messages, **kwargs)\u001b[39m\n\u001b[32m    125\u001b[39m completion = litellm_completion \u001b[38;5;28;01mif\u001b[39;00m \u001b[38;5;28mself\u001b[39m.model_type == \u001b[33m\"\u001b[39m\u001b[33mchat\u001b[39m\u001b[33m\"\u001b[39m \u001b[38;5;28;01melse\u001b[39;00m litellm_text_completion\n\u001b[32m    126\u001b[39m completion, litellm_cache_args = \u001b[38;5;28mself\u001b[39m._get_cached_completion_fn(completion, cache, enable_memory_cache)\n\u001b[32m--> \u001b[39m\u001b[32m128\u001b[39m results = \u001b[43mcompletion\u001b[49m\u001b[43m(\u001b[49m\n\u001b[32m    129\u001b[39m \u001b[43m    \u001b[49m\u001b[43mrequest\u001b[49m\u001b[43m=\u001b[49m\u001b[38;5;28;43mdict\u001b[39;49m\u001b[43m(\u001b[49m\u001b[43mmodel\u001b[49m\u001b[43m=\u001b[49m\u001b[38;5;28;43mself\u001b[39;49m\u001b[43m.\u001b[49m\u001b[43mmodel\u001b[49m\u001b[43m,\u001b[49m\u001b[43m \u001b[49m\u001b[43mmessages\u001b[49m\u001b[43m=\u001b[49m\u001b[43mmessages\u001b[49m\u001b[43m,\u001b[49m\u001b[43m \u001b[49m\u001b[43m*\u001b[49m\u001b[43m*\u001b[49m\u001b[43mkwargs\u001b[49m\u001b[43m)\u001b[49m\u001b[43m,\u001b[49m\n\u001b[32m    130\u001b[39m \u001b[43m    \u001b[49m\u001b[43mnum_retries\u001b[49m\u001b[43m=\u001b[49m\u001b[38;5;28;43mself\u001b[39;49m\u001b[43m.\u001b[49m\u001b[43mnum_retries\u001b[49m\u001b[43m,\u001b[49m\n\u001b[32m    131\u001b[39m \u001b[43m    \u001b[49m\u001b[43mcache\u001b[49m\u001b[43m=\u001b[49m\u001b[43mlitellm_cache_args\u001b[49m\u001b[43m,\u001b[49m\n\u001b[32m    132\u001b[39m \u001b[43m\u001b[49m\u001b[43m)\u001b[49m\n\u001b[32m    134\u001b[39m \u001b[38;5;28;01mif\u001b[39;00m \u001b[38;5;28many\u001b[39m(c.finish_reason == \u001b[33m\"\u001b[39m\u001b[33mlength\u001b[39m\u001b[33m\"\u001b[39m \u001b[38;5;28;01mfor\u001b[39;00m c \u001b[38;5;129;01min\u001b[39;00m results[\u001b[33m\"\u001b[39m\u001b[33mchoices\u001b[39m\u001b[33m\"\u001b[39m]):\n\u001b[32m    135\u001b[39m     logger.warning(\n\u001b[32m    136\u001b[39m         \u001b[33mf\u001b[39m\u001b[33m\"\u001b[39m\u001b[33mLM response was truncated due to exceeding max_tokens=\u001b[39m\u001b[38;5;132;01m{\u001b[39;00m\u001b[38;5;28mself\u001b[39m.kwargs[\u001b[33m'\u001b[39m\u001b[33mmax_tokens\u001b[39m\u001b[33m'\u001b[39m]\u001b[38;5;132;01m}\u001b[39;00m\u001b[33m. \u001b[39m\u001b[33m\"\u001b[39m\n\u001b[32m    137\u001b[39m         \u001b[33m\"\u001b[39m\u001b[33mYou can inspect the latest LM interactions with `dspy.inspect_history()`. \u001b[39m\u001b[33m\"\u001b[39m\n\u001b[32m   (...)\u001b[39m\u001b[32m    140\u001b[39m         \u001b[33m\"\u001b[39m\u001b[33m if the reason for truncation is repetition.\u001b[39m\u001b[33m\"\u001b[39m\n\u001b[32m    141\u001b[39m     )\n",
      "\u001b[36mFile \u001b[39m\u001b[32m~/Coding/its/backend/.venv/lib/python3.12/site-packages/dspy/clients/cache.py:234\u001b[39m, in \u001b[36mrequest_cache.<locals>.decorator.<locals>.sync_wrapper\u001b[39m\u001b[34m(*args, **kwargs)\u001b[39m\n\u001b[32m    231\u001b[39m \u001b[38;5;66;03m# Otherwise, compute and store the result\u001b[39;00m\n\u001b[32m    232\u001b[39m \u001b[38;5;66;03m# Make a copy of the original request in case it's modified in place, e.g., deleting some fields\u001b[39;00m\n\u001b[32m    233\u001b[39m original_request = copy.deepcopy(modified_request)\n\u001b[32m--> \u001b[39m\u001b[32m234\u001b[39m result = \u001b[43mfn\u001b[49m\u001b[43m(\u001b[49m\u001b[43m*\u001b[49m\u001b[43margs\u001b[49m\u001b[43m,\u001b[49m\u001b[43m \u001b[49m\u001b[43m*\u001b[49m\u001b[43m*\u001b[49m\u001b[43mkwargs\u001b[49m\u001b[43m)\u001b[49m\n\u001b[32m    235\u001b[39m \u001b[38;5;66;03m# `enable_memory_cache` can be provided at call time to avoid indefinite growth.\u001b[39;00m\n\u001b[32m    236\u001b[39m cache.put(original_request, result, ignored_args_for_cache_key, enable_memory_cache)\n",
      "\u001b[36mFile \u001b[39m\u001b[32m~/Coding/its/backend/.venv/lib/python3.12/site-packages/dspy/clients/lm.py:312\u001b[39m, in \u001b[36mlitellm_completion\u001b[39m\u001b[34m(request, num_retries, cache)\u001b[39m\n\u001b[32m    310\u001b[39m stream_completion = _get_stream_completion_fn(request, cache, sync=\u001b[38;5;28;01mTrue\u001b[39;00m)\n\u001b[32m    311\u001b[39m \u001b[38;5;28;01mif\u001b[39;00m stream_completion \u001b[38;5;129;01mis\u001b[39;00m \u001b[38;5;28;01mNone\u001b[39;00m:\n\u001b[32m--> \u001b[39m\u001b[32m312\u001b[39m     \u001b[38;5;28;01mreturn\u001b[39;00m \u001b[43mlitellm\u001b[49m\u001b[43m.\u001b[49m\u001b[43mcompletion\u001b[49m\u001b[43m(\u001b[49m\n\u001b[32m    313\u001b[39m \u001b[43m        \u001b[49m\u001b[43mcache\u001b[49m\u001b[43m=\u001b[49m\u001b[43mcache\u001b[49m\u001b[43m,\u001b[49m\n\u001b[32m    314\u001b[39m \u001b[43m        \u001b[49m\u001b[43mnum_retries\u001b[49m\u001b[43m=\u001b[49m\u001b[43mnum_retries\u001b[49m\u001b[43m,\u001b[49m\n\u001b[32m    315\u001b[39m \u001b[43m        \u001b[49m\u001b[43mretry_strategy\u001b[49m\u001b[43m=\u001b[49m\u001b[33;43m\"\u001b[39;49m\u001b[33;43mexponential_backoff_retry\u001b[39;49m\u001b[33;43m\"\u001b[39;49m\u001b[43m,\u001b[49m\n\u001b[32m    316\u001b[39m \u001b[43m        \u001b[49m\u001b[43m*\u001b[49m\u001b[43m*\u001b[49m\u001b[43mrequest\u001b[49m\u001b[43m,\u001b[49m\n\u001b[32m    317\u001b[39m \u001b[43m    \u001b[49m\u001b[43m)\u001b[49m\n\u001b[32m    319\u001b[39m \u001b[38;5;28;01mreturn\u001b[39;00m stream_completion()\n",
      "\u001b[36mFile \u001b[39m\u001b[32m~/Coding/its/backend/.venv/lib/python3.12/site-packages/litellm/utils.py:1207\u001b[39m, in \u001b[36mclient.<locals>.wrapper\u001b[39m\u001b[34m(*args, **kwargs)\u001b[39m\n\u001b[32m   1205\u001b[39m         print_verbose(\u001b[33mf\u001b[39m\u001b[33m\"\u001b[39m\u001b[33mError while checking max token limit: \u001b[39m\u001b[38;5;132;01m{\u001b[39;00m\u001b[38;5;28mstr\u001b[39m(e)\u001b[38;5;132;01m}\u001b[39;00m\u001b[33m\"\u001b[39m)\n\u001b[32m   1206\u001b[39m \u001b[38;5;66;03m# MODEL CALL\u001b[39;00m\n\u001b[32m-> \u001b[39m\u001b[32m1207\u001b[39m result = \u001b[43moriginal_function\u001b[49m\u001b[43m(\u001b[49m\u001b[43m*\u001b[49m\u001b[43margs\u001b[49m\u001b[43m,\u001b[49m\u001b[43m \u001b[49m\u001b[43m*\u001b[49m\u001b[43m*\u001b[49m\u001b[43mkwargs\u001b[49m\u001b[43m)\u001b[49m\n\u001b[32m   1208\u001b[39m end_time = datetime.datetime.now()\n\u001b[32m   1209\u001b[39m \u001b[38;5;28;01mif\u001b[39;00m _is_streaming_request(\n\u001b[32m   1210\u001b[39m     kwargs=kwargs,\n\u001b[32m   1211\u001b[39m     call_type=call_type,\n\u001b[32m   1212\u001b[39m ):\n",
      "\u001b[36mFile \u001b[39m\u001b[32m~/Coding/its/backend/.venv/lib/python3.12/site-packages/litellm/main.py:1456\u001b[39m, in \u001b[36mcompletion\u001b[39m\u001b[34m(model, messages, timeout, temperature, top_p, n, stream, stream_options, stop, max_completion_tokens, max_tokens, modalities, prediction, audio, presence_penalty, frequency_penalty, logit_bias, user, reasoning_effort, response_format, seed, tools, tool_choice, logprobs, top_logprobs, parallel_tool_calls, web_search_options, deployment_id, extra_headers, functions, function_call, base_url, api_version, api_key, model_list, thinking, **kwargs)\u001b[39m\n\u001b[32m   1453\u001b[39m             optional_params[k] = v\n\u001b[32m   1455\u001b[39m     \u001b[38;5;66;03m## COMPLETION CALL\u001b[39;00m\n\u001b[32m-> \u001b[39m\u001b[32m1456\u001b[39m     response = \u001b[43mazure_chat_completions\u001b[49m\u001b[43m.\u001b[49m\u001b[43mcompletion\u001b[49m\u001b[43m(\u001b[49m\n\u001b[32m   1457\u001b[39m \u001b[43m        \u001b[49m\u001b[43mmodel\u001b[49m\u001b[43m=\u001b[49m\u001b[43mmodel\u001b[49m\u001b[43m,\u001b[49m\n\u001b[32m   1458\u001b[39m \u001b[43m        \u001b[49m\u001b[43mmessages\u001b[49m\u001b[43m=\u001b[49m\u001b[43mmessages\u001b[49m\u001b[43m,\u001b[49m\n\u001b[32m   1459\u001b[39m \u001b[43m        \u001b[49m\u001b[43mheaders\u001b[49m\u001b[43m=\u001b[49m\u001b[43mheaders\u001b[49m\u001b[43m,\u001b[49m\n\u001b[32m   1460\u001b[39m \u001b[43m        \u001b[49m\u001b[43mapi_key\u001b[49m\u001b[43m=\u001b[49m\u001b[43mapi_key\u001b[49m\u001b[43m,\u001b[49m\n\u001b[32m   1461\u001b[39m \u001b[43m        \u001b[49m\u001b[43mapi_base\u001b[49m\u001b[43m=\u001b[49m\u001b[43mapi_base\u001b[49m\u001b[43m,\u001b[49m\n\u001b[32m   1462\u001b[39m \u001b[43m        \u001b[49m\u001b[43mapi_version\u001b[49m\u001b[43m=\u001b[49m\u001b[43mapi_version\u001b[49m\u001b[43m,\u001b[49m\n\u001b[32m   1463\u001b[39m \u001b[43m        \u001b[49m\u001b[43mapi_type\u001b[49m\u001b[43m=\u001b[49m\u001b[43mapi_type\u001b[49m\u001b[43m,\u001b[49m\n\u001b[32m   1464\u001b[39m \u001b[43m        \u001b[49m\u001b[43mdynamic_params\u001b[49m\u001b[43m=\u001b[49m\u001b[43mdynamic_params\u001b[49m\u001b[43m,\u001b[49m\n\u001b[32m   1465\u001b[39m \u001b[43m        \u001b[49m\u001b[43mazure_ad_token\u001b[49m\u001b[43m=\u001b[49m\u001b[43mazure_ad_token\u001b[49m\u001b[43m,\u001b[49m\n\u001b[32m   1466\u001b[39m \u001b[43m        \u001b[49m\u001b[43mazure_ad_token_provider\u001b[49m\u001b[43m=\u001b[49m\u001b[43mazure_ad_token_provider\u001b[49m\u001b[43m,\u001b[49m\n\u001b[32m   1467\u001b[39m \u001b[43m        \u001b[49m\u001b[43mmodel_response\u001b[49m\u001b[43m=\u001b[49m\u001b[43mmodel_response\u001b[49m\u001b[43m,\u001b[49m\n\u001b[32m   1468\u001b[39m \u001b[43m        \u001b[49m\u001b[43mprint_verbose\u001b[49m\u001b[43m=\u001b[49m\u001b[43mprint_verbose\u001b[49m\u001b[43m,\u001b[49m\n\u001b[32m   1469\u001b[39m \u001b[43m        \u001b[49m\u001b[43moptional_params\u001b[49m\u001b[43m=\u001b[49m\u001b[43moptional_params\u001b[49m\u001b[43m,\u001b[49m\n\u001b[32m   1470\u001b[39m \u001b[43m        \u001b[49m\u001b[43mlitellm_params\u001b[49m\u001b[43m=\u001b[49m\u001b[43mlitellm_params\u001b[49m\u001b[43m,\u001b[49m\n\u001b[32m   1471\u001b[39m \u001b[43m        \u001b[49m\u001b[43mlogger_fn\u001b[49m\u001b[43m=\u001b[49m\u001b[43mlogger_fn\u001b[49m\u001b[43m,\u001b[49m\n\u001b[32m   1472\u001b[39m \u001b[43m        \u001b[49m\u001b[43mlogging_obj\u001b[49m\u001b[43m=\u001b[49m\u001b[43mlogging\u001b[49m\u001b[43m,\u001b[49m\n\u001b[32m   1473\u001b[39m \u001b[43m        \u001b[49m\u001b[43macompletion\u001b[49m\u001b[43m=\u001b[49m\u001b[43macompletion\u001b[49m\u001b[43m,\u001b[49m\n\u001b[32m   1474\u001b[39m \u001b[43m        \u001b[49m\u001b[43mtimeout\u001b[49m\u001b[43m=\u001b[49m\u001b[43mtimeout\u001b[49m\u001b[43m,\u001b[49m\u001b[43m  \u001b[49m\u001b[38;5;66;43;03m# type: ignore\u001b[39;49;00m\n\u001b[32m   1475\u001b[39m \u001b[43m        \u001b[49m\u001b[43mclient\u001b[49m\u001b[43m=\u001b[49m\u001b[43mclient\u001b[49m\u001b[43m,\u001b[49m\u001b[43m  \u001b[49m\u001b[38;5;66;43;03m# pass AsyncAzureOpenAI, AzureOpenAI client\u001b[39;49;00m\n\u001b[32m   1476\u001b[39m \u001b[43m    \u001b[49m\u001b[43m)\u001b[49m\n\u001b[32m   1478\u001b[39m \u001b[38;5;28;01mif\u001b[39;00m optional_params.get(\u001b[33m\"\u001b[39m\u001b[33mstream\u001b[39m\u001b[33m\"\u001b[39m, \u001b[38;5;28;01mFalse\u001b[39;00m):\n\u001b[32m   1479\u001b[39m     \u001b[38;5;66;03m## LOGGING\u001b[39;00m\n\u001b[32m   1480\u001b[39m     logging.post_call(\n\u001b[32m   1481\u001b[39m         \u001b[38;5;28minput\u001b[39m=messages,\n\u001b[32m   1482\u001b[39m         api_key=api_key,\n\u001b[32m   (...)\u001b[39m\u001b[32m   1488\u001b[39m         },\n\u001b[32m   1489\u001b[39m     )\n",
      "\u001b[36mFile \u001b[39m\u001b[32m~/Coding/its/backend/.venv/lib/python3.12/site-packages/litellm/llms/azure/azure.py:336\u001b[39m, in \u001b[36mAzureChatCompletion.completion\u001b[39m\u001b[34m(self, model, messages, model_response, api_key, api_base, api_version, api_type, azure_ad_token, azure_ad_token_provider, dynamic_params, print_verbose, timeout, logging_obj, optional_params, litellm_params, logger_fn, acompletion, headers, client)\u001b[39m\n\u001b[32m    330\u001b[39m \u001b[38;5;28;01mif\u001b[39;00m \u001b[38;5;129;01mnot\u001b[39;00m \u001b[38;5;28misinstance\u001b[39m(azure_client, AzureOpenAI):\n\u001b[32m    331\u001b[39m     \u001b[38;5;28;01mraise\u001b[39;00m AzureOpenAIError(\n\u001b[32m    332\u001b[39m         status_code=\u001b[32m500\u001b[39m,\n\u001b[32m    333\u001b[39m         message=\u001b[33m\"\u001b[39m\u001b[33mazure_client is not an instance of AzureOpenAI\u001b[39m\u001b[33m\"\u001b[39m,\n\u001b[32m    334\u001b[39m     )\n\u001b[32m--> \u001b[39m\u001b[32m336\u001b[39m headers, response = \u001b[38;5;28;43mself\u001b[39;49m\u001b[43m.\u001b[49m\u001b[43mmake_sync_azure_openai_chat_completion_request\u001b[49m\u001b[43m(\u001b[49m\n\u001b[32m    337\u001b[39m \u001b[43m    \u001b[49m\u001b[43mazure_client\u001b[49m\u001b[43m=\u001b[49m\u001b[43mazure_client\u001b[49m\u001b[43m,\u001b[49m\u001b[43m \u001b[49m\u001b[43mdata\u001b[49m\u001b[43m=\u001b[49m\u001b[43mdata\u001b[49m\u001b[43m,\u001b[49m\u001b[43m \u001b[49m\u001b[43mtimeout\u001b[49m\u001b[43m=\u001b[49m\u001b[43mtimeout\u001b[49m\n\u001b[32m    338\u001b[39m \u001b[43m\u001b[49m\u001b[43m)\u001b[49m\n\u001b[32m    339\u001b[39m stringified_response = response.model_dump()\n\u001b[32m    340\u001b[39m \u001b[38;5;66;03m## LOGGING\u001b[39;00m\n",
      "\u001b[36mFile \u001b[39m\u001b[32m~/Coding/its/backend/.venv/lib/python3.12/site-packages/litellm/llms/azure/azure.py:140\u001b[39m, in \u001b[36mAzureChatCompletion.make_sync_azure_openai_chat_completion_request\u001b[39m\u001b[34m(self, azure_client, data, timeout)\u001b[39m\n\u001b[32m    134\u001b[39m \u001b[38;5;250m\u001b[39m\u001b[33;03m\"\"\"\u001b[39;00m\n\u001b[32m    135\u001b[39m \u001b[33;03mHelper to:\u001b[39;00m\n\u001b[32m    136\u001b[39m \u001b[33;03m- call chat.completions.create.with_raw_response when litellm.return_response_headers is True\u001b[39;00m\n\u001b[32m    137\u001b[39m \u001b[33;03m- call chat.completions.create by default\u001b[39;00m\n\u001b[32m    138\u001b[39m \u001b[33;03m\"\"\"\u001b[39;00m\n\u001b[32m    139\u001b[39m \u001b[38;5;28;01mtry\u001b[39;00m:\n\u001b[32m--> \u001b[39m\u001b[32m140\u001b[39m     raw_response = \u001b[43mazure_client\u001b[49m\u001b[43m.\u001b[49m\u001b[43mchat\u001b[49m\u001b[43m.\u001b[49m\u001b[43mcompletions\u001b[49m\u001b[43m.\u001b[49m\u001b[43mwith_raw_response\u001b[49m\u001b[43m.\u001b[49m\u001b[43mcreate\u001b[49m\u001b[43m(\u001b[49m\n\u001b[32m    141\u001b[39m \u001b[43m        \u001b[49m\u001b[43m*\u001b[49m\u001b[43m*\u001b[49m\u001b[43mdata\u001b[49m\u001b[43m,\u001b[49m\u001b[43m \u001b[49m\u001b[43mtimeout\u001b[49m\u001b[43m=\u001b[49m\u001b[43mtimeout\u001b[49m\n\u001b[32m    142\u001b[39m \u001b[43m    \u001b[49m\u001b[43m)\u001b[49m\n\u001b[32m    144\u001b[39m     headers = \u001b[38;5;28mdict\u001b[39m(raw_response.headers)\n\u001b[32m    145\u001b[39m     response = raw_response.parse()\n",
      "\u001b[36mFile \u001b[39m\u001b[32m~/Coding/its/backend/.venv/lib/python3.12/site-packages/openai/_legacy_response.py:364\u001b[39m, in \u001b[36mto_raw_response_wrapper.<locals>.wrapped\u001b[39m\u001b[34m(*args, **kwargs)\u001b[39m\n\u001b[32m    360\u001b[39m extra_headers[RAW_RESPONSE_HEADER] = \u001b[33m\"\u001b[39m\u001b[33mtrue\u001b[39m\u001b[33m\"\u001b[39m\n\u001b[32m    362\u001b[39m kwargs[\u001b[33m\"\u001b[39m\u001b[33mextra_headers\u001b[39m\u001b[33m\"\u001b[39m] = extra_headers\n\u001b[32m--> \u001b[39m\u001b[32m364\u001b[39m \u001b[38;5;28;01mreturn\u001b[39;00m cast(LegacyAPIResponse[R], \u001b[43mfunc\u001b[49m\u001b[43m(\u001b[49m\u001b[43m*\u001b[49m\u001b[43margs\u001b[49m\u001b[43m,\u001b[49m\u001b[43m \u001b[49m\u001b[43m*\u001b[49m\u001b[43m*\u001b[49m\u001b[43mkwargs\u001b[49m\u001b[43m)\u001b[49m)\n",
      "\u001b[36mFile \u001b[39m\u001b[32m~/Coding/its/backend/.venv/lib/python3.12/site-packages/openai/_utils/_utils.py:287\u001b[39m, in \u001b[36mrequired_args.<locals>.inner.<locals>.wrapper\u001b[39m\u001b[34m(*args, **kwargs)\u001b[39m\n\u001b[32m    285\u001b[39m             msg = \u001b[33mf\u001b[39m\u001b[33m\"\u001b[39m\u001b[33mMissing required argument: \u001b[39m\u001b[38;5;132;01m{\u001b[39;00mquote(missing[\u001b[32m0\u001b[39m])\u001b[38;5;132;01m}\u001b[39;00m\u001b[33m\"\u001b[39m\n\u001b[32m    286\u001b[39m     \u001b[38;5;28;01mraise\u001b[39;00m \u001b[38;5;167;01mTypeError\u001b[39;00m(msg)\n\u001b[32m--> \u001b[39m\u001b[32m287\u001b[39m \u001b[38;5;28;01mreturn\u001b[39;00m \u001b[43mfunc\u001b[49m\u001b[43m(\u001b[49m\u001b[43m*\u001b[49m\u001b[43margs\u001b[49m\u001b[43m,\u001b[49m\u001b[43m \u001b[49m\u001b[43m*\u001b[49m\u001b[43m*\u001b[49m\u001b[43mkwargs\u001b[49m\u001b[43m)\u001b[49m\n",
      "\u001b[36mFile \u001b[39m\u001b[32m~/Coding/its/backend/.venv/lib/python3.12/site-packages/openai/resources/chat/completions/completions.py:1150\u001b[39m, in \u001b[36mCompletions.create\u001b[39m\u001b[34m(self, messages, model, audio, frequency_penalty, function_call, functions, logit_bias, logprobs, max_completion_tokens, max_tokens, metadata, modalities, n, parallel_tool_calls, prediction, presence_penalty, prompt_cache_key, reasoning_effort, response_format, safety_identifier, seed, service_tier, stop, store, stream, stream_options, temperature, tool_choice, tools, top_logprobs, top_p, user, verbosity, web_search_options, extra_headers, extra_query, extra_body, timeout)\u001b[39m\n\u001b[32m   1104\u001b[39m \u001b[38;5;129m@required_args\u001b[39m([\u001b[33m\"\u001b[39m\u001b[33mmessages\u001b[39m\u001b[33m\"\u001b[39m, \u001b[33m\"\u001b[39m\u001b[33mmodel\u001b[39m\u001b[33m\"\u001b[39m], [\u001b[33m\"\u001b[39m\u001b[33mmessages\u001b[39m\u001b[33m\"\u001b[39m, \u001b[33m\"\u001b[39m\u001b[33mmodel\u001b[39m\u001b[33m\"\u001b[39m, \u001b[33m\"\u001b[39m\u001b[33mstream\u001b[39m\u001b[33m\"\u001b[39m])\n\u001b[32m   1105\u001b[39m \u001b[38;5;28;01mdef\u001b[39;00m\u001b[38;5;250m \u001b[39m\u001b[34mcreate\u001b[39m(\n\u001b[32m   1106\u001b[39m     \u001b[38;5;28mself\u001b[39m,\n\u001b[32m   (...)\u001b[39m\u001b[32m   1147\u001b[39m     timeout: \u001b[38;5;28mfloat\u001b[39m | httpx.Timeout | \u001b[38;5;28;01mNone\u001b[39;00m | NotGiven = NOT_GIVEN,\n\u001b[32m   1148\u001b[39m ) -> ChatCompletion | Stream[ChatCompletionChunk]:\n\u001b[32m   1149\u001b[39m     validate_response_format(response_format)\n\u001b[32m-> \u001b[39m\u001b[32m1150\u001b[39m     \u001b[38;5;28;01mreturn\u001b[39;00m \u001b[38;5;28;43mself\u001b[39;49m\u001b[43m.\u001b[49m\u001b[43m_post\u001b[49m\u001b[43m(\u001b[49m\n\u001b[32m   1151\u001b[39m \u001b[43m        \u001b[49m\u001b[33;43m\"\u001b[39;49m\u001b[33;43m/chat/completions\u001b[39;49m\u001b[33;43m\"\u001b[39;49m\u001b[43m,\u001b[49m\n\u001b[32m   1152\u001b[39m \u001b[43m        \u001b[49m\u001b[43mbody\u001b[49m\u001b[43m=\u001b[49m\u001b[43mmaybe_transform\u001b[49m\u001b[43m(\u001b[49m\n\u001b[32m   1153\u001b[39m \u001b[43m            \u001b[49m\u001b[43m{\u001b[49m\n\u001b[32m   1154\u001b[39m \u001b[43m                \u001b[49m\u001b[33;43m\"\u001b[39;49m\u001b[33;43mmessages\u001b[39;49m\u001b[33;43m\"\u001b[39;49m\u001b[43m:\u001b[49m\u001b[43m \u001b[49m\u001b[43mmessages\u001b[49m\u001b[43m,\u001b[49m\n\u001b[32m   1155\u001b[39m \u001b[43m                \u001b[49m\u001b[33;43m\"\u001b[39;49m\u001b[33;43mmodel\u001b[39;49m\u001b[33;43m\"\u001b[39;49m\u001b[43m:\u001b[49m\u001b[43m \u001b[49m\u001b[43mmodel\u001b[49m\u001b[43m,\u001b[49m\n\u001b[32m   1156\u001b[39m \u001b[43m                \u001b[49m\u001b[33;43m\"\u001b[39;49m\u001b[33;43maudio\u001b[39;49m\u001b[33;43m\"\u001b[39;49m\u001b[43m:\u001b[49m\u001b[43m \u001b[49m\u001b[43maudio\u001b[49m\u001b[43m,\u001b[49m\n\u001b[32m   1157\u001b[39m \u001b[43m                \u001b[49m\u001b[33;43m\"\u001b[39;49m\u001b[33;43mfrequency_penalty\u001b[39;49m\u001b[33;43m\"\u001b[39;49m\u001b[43m:\u001b[49m\u001b[43m \u001b[49m\u001b[43mfrequency_penalty\u001b[49m\u001b[43m,\u001b[49m\n\u001b[32m   1158\u001b[39m \u001b[43m                \u001b[49m\u001b[33;43m\"\u001b[39;49m\u001b[33;43mfunction_call\u001b[39;49m\u001b[33;43m\"\u001b[39;49m\u001b[43m:\u001b[49m\u001b[43m \u001b[49m\u001b[43mfunction_call\u001b[49m\u001b[43m,\u001b[49m\n\u001b[32m   1159\u001b[39m \u001b[43m                \u001b[49m\u001b[33;43m\"\u001b[39;49m\u001b[33;43mfunctions\u001b[39;49m\u001b[33;43m\"\u001b[39;49m\u001b[43m:\u001b[49m\u001b[43m \u001b[49m\u001b[43mfunctions\u001b[49m\u001b[43m,\u001b[49m\n\u001b[32m   1160\u001b[39m \u001b[43m                \u001b[49m\u001b[33;43m\"\u001b[39;49m\u001b[33;43mlogit_bias\u001b[39;49m\u001b[33;43m\"\u001b[39;49m\u001b[43m:\u001b[49m\u001b[43m \u001b[49m\u001b[43mlogit_bias\u001b[49m\u001b[43m,\u001b[49m\n\u001b[32m   1161\u001b[39m \u001b[43m                \u001b[49m\u001b[33;43m\"\u001b[39;49m\u001b[33;43mlogprobs\u001b[39;49m\u001b[33;43m\"\u001b[39;49m\u001b[43m:\u001b[49m\u001b[43m \u001b[49m\u001b[43mlogprobs\u001b[49m\u001b[43m,\u001b[49m\n\u001b[32m   1162\u001b[39m \u001b[43m                \u001b[49m\u001b[33;43m\"\u001b[39;49m\u001b[33;43mmax_completion_tokens\u001b[39;49m\u001b[33;43m\"\u001b[39;49m\u001b[43m:\u001b[49m\u001b[43m \u001b[49m\u001b[43mmax_completion_tokens\u001b[49m\u001b[43m,\u001b[49m\n\u001b[32m   1163\u001b[39m \u001b[43m                \u001b[49m\u001b[33;43m\"\u001b[39;49m\u001b[33;43mmax_tokens\u001b[39;49m\u001b[33;43m\"\u001b[39;49m\u001b[43m:\u001b[49m\u001b[43m \u001b[49m\u001b[43mmax_tokens\u001b[49m\u001b[43m,\u001b[49m\n\u001b[32m   1164\u001b[39m \u001b[43m                \u001b[49m\u001b[33;43m\"\u001b[39;49m\u001b[33;43mmetadata\u001b[39;49m\u001b[33;43m\"\u001b[39;49m\u001b[43m:\u001b[49m\u001b[43m \u001b[49m\u001b[43mmetadata\u001b[49m\u001b[43m,\u001b[49m\n\u001b[32m   1165\u001b[39m \u001b[43m                \u001b[49m\u001b[33;43m\"\u001b[39;49m\u001b[33;43mmodalities\u001b[39;49m\u001b[33;43m\"\u001b[39;49m\u001b[43m:\u001b[49m\u001b[43m \u001b[49m\u001b[43mmodalities\u001b[49m\u001b[43m,\u001b[49m\n\u001b[32m   1166\u001b[39m \u001b[43m                \u001b[49m\u001b[33;43m\"\u001b[39;49m\u001b[33;43mn\u001b[39;49m\u001b[33;43m\"\u001b[39;49m\u001b[43m:\u001b[49m\u001b[43m \u001b[49m\u001b[43mn\u001b[49m\u001b[43m,\u001b[49m\n\u001b[32m   1167\u001b[39m \u001b[43m                \u001b[49m\u001b[33;43m\"\u001b[39;49m\u001b[33;43mparallel_tool_calls\u001b[39;49m\u001b[33;43m\"\u001b[39;49m\u001b[43m:\u001b[49m\u001b[43m \u001b[49m\u001b[43mparallel_tool_calls\u001b[49m\u001b[43m,\u001b[49m\n\u001b[32m   1168\u001b[39m \u001b[43m                \u001b[49m\u001b[33;43m\"\u001b[39;49m\u001b[33;43mprediction\u001b[39;49m\u001b[33;43m\"\u001b[39;49m\u001b[43m:\u001b[49m\u001b[43m \u001b[49m\u001b[43mprediction\u001b[49m\u001b[43m,\u001b[49m\n\u001b[32m   1169\u001b[39m \u001b[43m                \u001b[49m\u001b[33;43m\"\u001b[39;49m\u001b[33;43mpresence_penalty\u001b[39;49m\u001b[33;43m\"\u001b[39;49m\u001b[43m:\u001b[49m\u001b[43m \u001b[49m\u001b[43mpresence_penalty\u001b[49m\u001b[43m,\u001b[49m\n\u001b[32m   1170\u001b[39m \u001b[43m                \u001b[49m\u001b[33;43m\"\u001b[39;49m\u001b[33;43mprompt_cache_key\u001b[39;49m\u001b[33;43m\"\u001b[39;49m\u001b[43m:\u001b[49m\u001b[43m \u001b[49m\u001b[43mprompt_cache_key\u001b[49m\u001b[43m,\u001b[49m\n\u001b[32m   1171\u001b[39m \u001b[43m                \u001b[49m\u001b[33;43m\"\u001b[39;49m\u001b[33;43mreasoning_effort\u001b[39;49m\u001b[33;43m\"\u001b[39;49m\u001b[43m:\u001b[49m\u001b[43m \u001b[49m\u001b[43mreasoning_effort\u001b[49m\u001b[43m,\u001b[49m\n\u001b[32m   1172\u001b[39m \u001b[43m                \u001b[49m\u001b[33;43m\"\u001b[39;49m\u001b[33;43mresponse_format\u001b[39;49m\u001b[33;43m\"\u001b[39;49m\u001b[43m:\u001b[49m\u001b[43m \u001b[49m\u001b[43mresponse_format\u001b[49m\u001b[43m,\u001b[49m\n\u001b[32m   1173\u001b[39m \u001b[43m                \u001b[49m\u001b[33;43m\"\u001b[39;49m\u001b[33;43msafety_identifier\u001b[39;49m\u001b[33;43m\"\u001b[39;49m\u001b[43m:\u001b[49m\u001b[43m \u001b[49m\u001b[43msafety_identifier\u001b[49m\u001b[43m,\u001b[49m\n\u001b[32m   1174\u001b[39m \u001b[43m                \u001b[49m\u001b[33;43m\"\u001b[39;49m\u001b[33;43mseed\u001b[39;49m\u001b[33;43m\"\u001b[39;49m\u001b[43m:\u001b[49m\u001b[43m \u001b[49m\u001b[43mseed\u001b[49m\u001b[43m,\u001b[49m\n\u001b[32m   1175\u001b[39m \u001b[43m                \u001b[49m\u001b[33;43m\"\u001b[39;49m\u001b[33;43mservice_tier\u001b[39;49m\u001b[33;43m\"\u001b[39;49m\u001b[43m:\u001b[49m\u001b[43m \u001b[49m\u001b[43mservice_tier\u001b[49m\u001b[43m,\u001b[49m\n\u001b[32m   1176\u001b[39m \u001b[43m                \u001b[49m\u001b[33;43m\"\u001b[39;49m\u001b[33;43mstop\u001b[39;49m\u001b[33;43m\"\u001b[39;49m\u001b[43m:\u001b[49m\u001b[43m \u001b[49m\u001b[43mstop\u001b[49m\u001b[43m,\u001b[49m\n\u001b[32m   1177\u001b[39m \u001b[43m                \u001b[49m\u001b[33;43m\"\u001b[39;49m\u001b[33;43mstore\u001b[39;49m\u001b[33;43m\"\u001b[39;49m\u001b[43m:\u001b[49m\u001b[43m \u001b[49m\u001b[43mstore\u001b[49m\u001b[43m,\u001b[49m\n\u001b[32m   1178\u001b[39m \u001b[43m                \u001b[49m\u001b[33;43m\"\u001b[39;49m\u001b[33;43mstream\u001b[39;49m\u001b[33;43m\"\u001b[39;49m\u001b[43m:\u001b[49m\u001b[43m \u001b[49m\u001b[43mstream\u001b[49m\u001b[43m,\u001b[49m\n\u001b[32m   1179\u001b[39m \u001b[43m                \u001b[49m\u001b[33;43m\"\u001b[39;49m\u001b[33;43mstream_options\u001b[39;49m\u001b[33;43m\"\u001b[39;49m\u001b[43m:\u001b[49m\u001b[43m \u001b[49m\u001b[43mstream_options\u001b[49m\u001b[43m,\u001b[49m\n\u001b[32m   1180\u001b[39m \u001b[43m                \u001b[49m\u001b[33;43m\"\u001b[39;49m\u001b[33;43mtemperature\u001b[39;49m\u001b[33;43m\"\u001b[39;49m\u001b[43m:\u001b[49m\u001b[43m \u001b[49m\u001b[43mtemperature\u001b[49m\u001b[43m,\u001b[49m\n\u001b[32m   1181\u001b[39m \u001b[43m                \u001b[49m\u001b[33;43m\"\u001b[39;49m\u001b[33;43mtool_choice\u001b[39;49m\u001b[33;43m\"\u001b[39;49m\u001b[43m:\u001b[49m\u001b[43m \u001b[49m\u001b[43mtool_choice\u001b[49m\u001b[43m,\u001b[49m\n\u001b[32m   1182\u001b[39m \u001b[43m                \u001b[49m\u001b[33;43m\"\u001b[39;49m\u001b[33;43mtools\u001b[39;49m\u001b[33;43m\"\u001b[39;49m\u001b[43m:\u001b[49m\u001b[43m \u001b[49m\u001b[43mtools\u001b[49m\u001b[43m,\u001b[49m\n\u001b[32m   1183\u001b[39m \u001b[43m                \u001b[49m\u001b[33;43m\"\u001b[39;49m\u001b[33;43mtop_logprobs\u001b[39;49m\u001b[33;43m\"\u001b[39;49m\u001b[43m:\u001b[49m\u001b[43m \u001b[49m\u001b[43mtop_logprobs\u001b[49m\u001b[43m,\u001b[49m\n\u001b[32m   1184\u001b[39m \u001b[43m                \u001b[49m\u001b[33;43m\"\u001b[39;49m\u001b[33;43mtop_p\u001b[39;49m\u001b[33;43m\"\u001b[39;49m\u001b[43m:\u001b[49m\u001b[43m \u001b[49m\u001b[43mtop_p\u001b[49m\u001b[43m,\u001b[49m\n\u001b[32m   1185\u001b[39m \u001b[43m                \u001b[49m\u001b[33;43m\"\u001b[39;49m\u001b[33;43muser\u001b[39;49m\u001b[33;43m\"\u001b[39;49m\u001b[43m:\u001b[49m\u001b[43m \u001b[49m\u001b[43muser\u001b[49m\u001b[43m,\u001b[49m\n\u001b[32m   1186\u001b[39m \u001b[43m                \u001b[49m\u001b[33;43m\"\u001b[39;49m\u001b[33;43mverbosity\u001b[39;49m\u001b[33;43m\"\u001b[39;49m\u001b[43m:\u001b[49m\u001b[43m \u001b[49m\u001b[43mverbosity\u001b[49m\u001b[43m,\u001b[49m\n\u001b[32m   1187\u001b[39m \u001b[43m                \u001b[49m\u001b[33;43m\"\u001b[39;49m\u001b[33;43mweb_search_options\u001b[39;49m\u001b[33;43m\"\u001b[39;49m\u001b[43m:\u001b[49m\u001b[43m \u001b[49m\u001b[43mweb_search_options\u001b[49m\u001b[43m,\u001b[49m\n\u001b[32m   1188\u001b[39m \u001b[43m            \u001b[49m\u001b[43m}\u001b[49m\u001b[43m,\u001b[49m\n\u001b[32m   1189\u001b[39m \u001b[43m            \u001b[49m\u001b[43mcompletion_create_params\u001b[49m\u001b[43m.\u001b[49m\u001b[43mCompletionCreateParamsStreaming\u001b[49m\n\u001b[32m   1190\u001b[39m \u001b[43m            \u001b[49m\u001b[38;5;28;43;01mif\u001b[39;49;00m\u001b[43m \u001b[49m\u001b[43mstream\u001b[49m\n\u001b[32m   1191\u001b[39m \u001b[43m            \u001b[49m\u001b[38;5;28;43;01melse\u001b[39;49;00m\u001b[43m \u001b[49m\u001b[43mcompletion_create_params\u001b[49m\u001b[43m.\u001b[49m\u001b[43mCompletionCreateParamsNonStreaming\u001b[49m\u001b[43m,\u001b[49m\n\u001b[32m   1192\u001b[39m \u001b[43m        \u001b[49m\u001b[43m)\u001b[49m\u001b[43m,\u001b[49m\n\u001b[32m   1193\u001b[39m \u001b[43m        \u001b[49m\u001b[43moptions\u001b[49m\u001b[43m=\u001b[49m\u001b[43mmake_request_options\u001b[49m\u001b[43m(\u001b[49m\n\u001b[32m   1194\u001b[39m \u001b[43m            \u001b[49m\u001b[43mextra_headers\u001b[49m\u001b[43m=\u001b[49m\u001b[43mextra_headers\u001b[49m\u001b[43m,\u001b[49m\u001b[43m \u001b[49m\u001b[43mextra_query\u001b[49m\u001b[43m=\u001b[49m\u001b[43mextra_query\u001b[49m\u001b[43m,\u001b[49m\u001b[43m \u001b[49m\u001b[43mextra_body\u001b[49m\u001b[43m=\u001b[49m\u001b[43mextra_body\u001b[49m\u001b[43m,\u001b[49m\u001b[43m \u001b[49m\u001b[43mtimeout\u001b[49m\u001b[43m=\u001b[49m\u001b[43mtimeout\u001b[49m\n\u001b[32m   1195\u001b[39m \u001b[43m        \u001b[49m\u001b[43m)\u001b[49m\u001b[43m,\u001b[49m\n\u001b[32m   1196\u001b[39m \u001b[43m        \u001b[49m\u001b[43mcast_to\u001b[49m\u001b[43m=\u001b[49m\u001b[43mChatCompletion\u001b[49m\u001b[43m,\u001b[49m\n\u001b[32m   1197\u001b[39m \u001b[43m        \u001b[49m\u001b[43mstream\u001b[49m\u001b[43m=\u001b[49m\u001b[43mstream\u001b[49m\u001b[43m \u001b[49m\u001b[38;5;129;43;01mor\u001b[39;49;00m\u001b[43m \u001b[49m\u001b[38;5;28;43;01mFalse\u001b[39;49;00m\u001b[43m,\u001b[49m\n\u001b[32m   1198\u001b[39m \u001b[43m        \u001b[49m\u001b[43mstream_cls\u001b[49m\u001b[43m=\u001b[49m\u001b[43mStream\u001b[49m\u001b[43m[\u001b[49m\u001b[43mChatCompletionChunk\u001b[49m\u001b[43m]\u001b[49m\u001b[43m,\u001b[49m\n\u001b[32m   1199\u001b[39m \u001b[43m    \u001b[49m\u001b[43m)\u001b[49m\n",
      "\u001b[36mFile \u001b[39m\u001b[32m~/Coding/its/backend/.venv/lib/python3.12/site-packages/openai/_base_client.py:1259\u001b[39m, in \u001b[36mSyncAPIClient.post\u001b[39m\u001b[34m(self, path, cast_to, body, options, files, stream, stream_cls)\u001b[39m\n\u001b[32m   1245\u001b[39m \u001b[38;5;28;01mdef\u001b[39;00m\u001b[38;5;250m \u001b[39m\u001b[34mpost\u001b[39m(\n\u001b[32m   1246\u001b[39m     \u001b[38;5;28mself\u001b[39m,\n\u001b[32m   1247\u001b[39m     path: \u001b[38;5;28mstr\u001b[39m,\n\u001b[32m   (...)\u001b[39m\u001b[32m   1254\u001b[39m     stream_cls: \u001b[38;5;28mtype\u001b[39m[_StreamT] | \u001b[38;5;28;01mNone\u001b[39;00m = \u001b[38;5;28;01mNone\u001b[39;00m,\n\u001b[32m   1255\u001b[39m ) -> ResponseT | _StreamT:\n\u001b[32m   1256\u001b[39m     opts = FinalRequestOptions.construct(\n\u001b[32m   1257\u001b[39m         method=\u001b[33m\"\u001b[39m\u001b[33mpost\u001b[39m\u001b[33m\"\u001b[39m, url=path, json_data=body, files=to_httpx_files(files), **options\n\u001b[32m   1258\u001b[39m     )\n\u001b[32m-> \u001b[39m\u001b[32m1259\u001b[39m     \u001b[38;5;28;01mreturn\u001b[39;00m cast(ResponseT, \u001b[38;5;28;43mself\u001b[39;49m\u001b[43m.\u001b[49m\u001b[43mrequest\u001b[49m\u001b[43m(\u001b[49m\u001b[43mcast_to\u001b[49m\u001b[43m,\u001b[49m\u001b[43m \u001b[49m\u001b[43mopts\u001b[49m\u001b[43m,\u001b[49m\u001b[43m \u001b[49m\u001b[43mstream\u001b[49m\u001b[43m=\u001b[49m\u001b[43mstream\u001b[49m\u001b[43m,\u001b[49m\u001b[43m \u001b[49m\u001b[43mstream_cls\u001b[49m\u001b[43m=\u001b[49m\u001b[43mstream_cls\u001b[49m\u001b[43m)\u001b[49m)\n",
      "\u001b[36mFile \u001b[39m\u001b[32m~/Coding/its/backend/.venv/lib/python3.12/site-packages/openai/_base_client.py:982\u001b[39m, in \u001b[36mSyncAPIClient.request\u001b[39m\u001b[34m(self, cast_to, options, stream, stream_cls)\u001b[39m\n\u001b[32m    980\u001b[39m response = \u001b[38;5;28;01mNone\u001b[39;00m\n\u001b[32m    981\u001b[39m \u001b[38;5;28;01mtry\u001b[39;00m:\n\u001b[32m--> \u001b[39m\u001b[32m982\u001b[39m     response = \u001b[38;5;28;43mself\u001b[39;49m\u001b[43m.\u001b[49m\u001b[43m_client\u001b[49m\u001b[43m.\u001b[49m\u001b[43msend\u001b[49m\u001b[43m(\u001b[49m\n\u001b[32m    983\u001b[39m \u001b[43m        \u001b[49m\u001b[43mrequest\u001b[49m\u001b[43m,\u001b[49m\n\u001b[32m    984\u001b[39m \u001b[43m        \u001b[49m\u001b[43mstream\u001b[49m\u001b[43m=\u001b[49m\u001b[43mstream\u001b[49m\u001b[43m \u001b[49m\u001b[38;5;129;43;01mor\u001b[39;49;00m\u001b[43m \u001b[49m\u001b[38;5;28;43mself\u001b[39;49m\u001b[43m.\u001b[49m\u001b[43m_should_stream_response_body\u001b[49m\u001b[43m(\u001b[49m\u001b[43mrequest\u001b[49m\u001b[43m=\u001b[49m\u001b[43mrequest\u001b[49m\u001b[43m)\u001b[49m\u001b[43m,\u001b[49m\n\u001b[32m    985\u001b[39m \u001b[43m        \u001b[49m\u001b[43m*\u001b[49m\u001b[43m*\u001b[49m\u001b[43mkwargs\u001b[49m\u001b[43m,\u001b[49m\n\u001b[32m    986\u001b[39m \u001b[43m    \u001b[49m\u001b[43m)\u001b[49m\n\u001b[32m    987\u001b[39m \u001b[38;5;28;01mexcept\u001b[39;00m httpx.TimeoutException \u001b[38;5;28;01mas\u001b[39;00m err:\n\u001b[32m    988\u001b[39m     log.debug(\u001b[33m\"\u001b[39m\u001b[33mEncountered httpx.TimeoutException\u001b[39m\u001b[33m\"\u001b[39m, exc_info=\u001b[38;5;28;01mTrue\u001b[39;00m)\n",
      "\u001b[36mFile \u001b[39m\u001b[32m~/Coding/its/backend/.venv/lib/python3.12/site-packages/httpx/_client.py:914\u001b[39m, in \u001b[36mClient.send\u001b[39m\u001b[34m(self, request, stream, auth, follow_redirects)\u001b[39m\n\u001b[32m    910\u001b[39m \u001b[38;5;28mself\u001b[39m._set_timeout(request)\n\u001b[32m    912\u001b[39m auth = \u001b[38;5;28mself\u001b[39m._build_request_auth(request, auth)\n\u001b[32m--> \u001b[39m\u001b[32m914\u001b[39m response = \u001b[38;5;28;43mself\u001b[39;49m\u001b[43m.\u001b[49m\u001b[43m_send_handling_auth\u001b[49m\u001b[43m(\u001b[49m\n\u001b[32m    915\u001b[39m \u001b[43m    \u001b[49m\u001b[43mrequest\u001b[49m\u001b[43m,\u001b[49m\n\u001b[32m    916\u001b[39m \u001b[43m    \u001b[49m\u001b[43mauth\u001b[49m\u001b[43m=\u001b[49m\u001b[43mauth\u001b[49m\u001b[43m,\u001b[49m\n\u001b[32m    917\u001b[39m \u001b[43m    \u001b[49m\u001b[43mfollow_redirects\u001b[49m\u001b[43m=\u001b[49m\u001b[43mfollow_redirects\u001b[49m\u001b[43m,\u001b[49m\n\u001b[32m    918\u001b[39m \u001b[43m    \u001b[49m\u001b[43mhistory\u001b[49m\u001b[43m=\u001b[49m\u001b[43m[\u001b[49m\u001b[43m]\u001b[49m\u001b[43m,\u001b[49m\n\u001b[32m    919\u001b[39m \u001b[43m\u001b[49m\u001b[43m)\u001b[49m\n\u001b[32m    920\u001b[39m \u001b[38;5;28;01mtry\u001b[39;00m:\n\u001b[32m    921\u001b[39m     \u001b[38;5;28;01mif\u001b[39;00m \u001b[38;5;129;01mnot\u001b[39;00m stream:\n",
      "\u001b[36mFile \u001b[39m\u001b[32m~/Coding/its/backend/.venv/lib/python3.12/site-packages/httpx/_client.py:942\u001b[39m, in \u001b[36mClient._send_handling_auth\u001b[39m\u001b[34m(self, request, auth, follow_redirects, history)\u001b[39m\n\u001b[32m    939\u001b[39m request = \u001b[38;5;28mnext\u001b[39m(auth_flow)\n\u001b[32m    941\u001b[39m \u001b[38;5;28;01mwhile\u001b[39;00m \u001b[38;5;28;01mTrue\u001b[39;00m:\n\u001b[32m--> \u001b[39m\u001b[32m942\u001b[39m     response = \u001b[38;5;28;43mself\u001b[39;49m\u001b[43m.\u001b[49m\u001b[43m_send_handling_redirects\u001b[49m\u001b[43m(\u001b[49m\n\u001b[32m    943\u001b[39m \u001b[43m        \u001b[49m\u001b[43mrequest\u001b[49m\u001b[43m,\u001b[49m\n\u001b[32m    944\u001b[39m \u001b[43m        \u001b[49m\u001b[43mfollow_redirects\u001b[49m\u001b[43m=\u001b[49m\u001b[43mfollow_redirects\u001b[49m\u001b[43m,\u001b[49m\n\u001b[32m    945\u001b[39m \u001b[43m        \u001b[49m\u001b[43mhistory\u001b[49m\u001b[43m=\u001b[49m\u001b[43mhistory\u001b[49m\u001b[43m,\u001b[49m\n\u001b[32m    946\u001b[39m \u001b[43m    \u001b[49m\u001b[43m)\u001b[49m\n\u001b[32m    947\u001b[39m     \u001b[38;5;28;01mtry\u001b[39;00m:\n\u001b[32m    948\u001b[39m         \u001b[38;5;28;01mtry\u001b[39;00m:\n",
      "\u001b[36mFile \u001b[39m\u001b[32m~/Coding/its/backend/.venv/lib/python3.12/site-packages/httpx/_client.py:979\u001b[39m, in \u001b[36mClient._send_handling_redirects\u001b[39m\u001b[34m(self, request, follow_redirects, history)\u001b[39m\n\u001b[32m    976\u001b[39m \u001b[38;5;28;01mfor\u001b[39;00m hook \u001b[38;5;129;01min\u001b[39;00m \u001b[38;5;28mself\u001b[39m._event_hooks[\u001b[33m\"\u001b[39m\u001b[33mrequest\u001b[39m\u001b[33m\"\u001b[39m]:\n\u001b[32m    977\u001b[39m     hook(request)\n\u001b[32m--> \u001b[39m\u001b[32m979\u001b[39m response = \u001b[38;5;28;43mself\u001b[39;49m\u001b[43m.\u001b[49m\u001b[43m_send_single_request\u001b[49m\u001b[43m(\u001b[49m\u001b[43mrequest\u001b[49m\u001b[43m)\u001b[49m\n\u001b[32m    980\u001b[39m \u001b[38;5;28;01mtry\u001b[39;00m:\n\u001b[32m    981\u001b[39m     \u001b[38;5;28;01mfor\u001b[39;00m hook \u001b[38;5;129;01min\u001b[39;00m \u001b[38;5;28mself\u001b[39m._event_hooks[\u001b[33m\"\u001b[39m\u001b[33mresponse\u001b[39m\u001b[33m\"\u001b[39m]:\n",
      "\u001b[36mFile \u001b[39m\u001b[32m~/Coding/its/backend/.venv/lib/python3.12/site-packages/httpx/_client.py:1014\u001b[39m, in \u001b[36mClient._send_single_request\u001b[39m\u001b[34m(self, request)\u001b[39m\n\u001b[32m   1009\u001b[39m     \u001b[38;5;28;01mraise\u001b[39;00m \u001b[38;5;167;01mRuntimeError\u001b[39;00m(\n\u001b[32m   1010\u001b[39m         \u001b[33m\"\u001b[39m\u001b[33mAttempted to send an async request with a sync Client instance.\u001b[39m\u001b[33m\"\u001b[39m\n\u001b[32m   1011\u001b[39m     )\n\u001b[32m   1013\u001b[39m \u001b[38;5;28;01mwith\u001b[39;00m request_context(request=request):\n\u001b[32m-> \u001b[39m\u001b[32m1014\u001b[39m     response = \u001b[43mtransport\u001b[49m\u001b[43m.\u001b[49m\u001b[43mhandle_request\u001b[49m\u001b[43m(\u001b[49m\u001b[43mrequest\u001b[49m\u001b[43m)\u001b[49m\n\u001b[32m   1016\u001b[39m \u001b[38;5;28;01massert\u001b[39;00m \u001b[38;5;28misinstance\u001b[39m(response.stream, SyncByteStream)\n\u001b[32m   1018\u001b[39m response.request = request\n",
      "\u001b[36mFile \u001b[39m\u001b[32m~/Coding/its/backend/.venv/lib/python3.12/site-packages/httpx/_transports/default.py:250\u001b[39m, in \u001b[36mHTTPTransport.handle_request\u001b[39m\u001b[34m(self, request)\u001b[39m\n\u001b[32m    237\u001b[39m req = httpcore.Request(\n\u001b[32m    238\u001b[39m     method=request.method,\n\u001b[32m    239\u001b[39m     url=httpcore.URL(\n\u001b[32m   (...)\u001b[39m\u001b[32m    247\u001b[39m     extensions=request.extensions,\n\u001b[32m    248\u001b[39m )\n\u001b[32m    249\u001b[39m \u001b[38;5;28;01mwith\u001b[39;00m map_httpcore_exceptions():\n\u001b[32m--> \u001b[39m\u001b[32m250\u001b[39m     resp = \u001b[38;5;28;43mself\u001b[39;49m\u001b[43m.\u001b[49m\u001b[43m_pool\u001b[49m\u001b[43m.\u001b[49m\u001b[43mhandle_request\u001b[49m\u001b[43m(\u001b[49m\u001b[43mreq\u001b[49m\u001b[43m)\u001b[49m\n\u001b[32m    252\u001b[39m \u001b[38;5;28;01massert\u001b[39;00m \u001b[38;5;28misinstance\u001b[39m(resp.stream, typing.Iterable)\n\u001b[32m    254\u001b[39m \u001b[38;5;28;01mreturn\u001b[39;00m Response(\n\u001b[32m    255\u001b[39m     status_code=resp.status,\n\u001b[32m    256\u001b[39m     headers=resp.headers,\n\u001b[32m    257\u001b[39m     stream=ResponseStream(resp.stream),\n\u001b[32m    258\u001b[39m     extensions=resp.extensions,\n\u001b[32m    259\u001b[39m )\n",
      "\u001b[36mFile \u001b[39m\u001b[32m~/Coding/its/backend/.venv/lib/python3.12/site-packages/httpcore/_sync/connection_pool.py:256\u001b[39m, in \u001b[36mConnectionPool.handle_request\u001b[39m\u001b[34m(self, request)\u001b[39m\n\u001b[32m    253\u001b[39m         closing = \u001b[38;5;28mself\u001b[39m._assign_requests_to_connections()\n\u001b[32m    255\u001b[39m     \u001b[38;5;28mself\u001b[39m._close_connections(closing)\n\u001b[32m--> \u001b[39m\u001b[32m256\u001b[39m     \u001b[38;5;28;01mraise\u001b[39;00m exc \u001b[38;5;28;01mfrom\u001b[39;00m\u001b[38;5;250m \u001b[39m\u001b[38;5;28;01mNone\u001b[39;00m\n\u001b[32m    258\u001b[39m \u001b[38;5;66;03m# Return the response. Note that in this case we still have to manage\u001b[39;00m\n\u001b[32m    259\u001b[39m \u001b[38;5;66;03m# the point at which the response is closed.\u001b[39;00m\n\u001b[32m    260\u001b[39m \u001b[38;5;28;01massert\u001b[39;00m \u001b[38;5;28misinstance\u001b[39m(response.stream, typing.Iterable)\n",
      "\u001b[36mFile \u001b[39m\u001b[32m~/Coding/its/backend/.venv/lib/python3.12/site-packages/httpcore/_sync/connection_pool.py:236\u001b[39m, in \u001b[36mConnectionPool.handle_request\u001b[39m\u001b[34m(self, request)\u001b[39m\n\u001b[32m    232\u001b[39m connection = pool_request.wait_for_connection(timeout=timeout)\n\u001b[32m    234\u001b[39m \u001b[38;5;28;01mtry\u001b[39;00m:\n\u001b[32m    235\u001b[39m     \u001b[38;5;66;03m# Send the request on the assigned connection.\u001b[39;00m\n\u001b[32m--> \u001b[39m\u001b[32m236\u001b[39m     response = \u001b[43mconnection\u001b[49m\u001b[43m.\u001b[49m\u001b[43mhandle_request\u001b[49m\u001b[43m(\u001b[49m\n\u001b[32m    237\u001b[39m \u001b[43m        \u001b[49m\u001b[43mpool_request\u001b[49m\u001b[43m.\u001b[49m\u001b[43mrequest\u001b[49m\n\u001b[32m    238\u001b[39m \u001b[43m    \u001b[49m\u001b[43m)\u001b[49m\n\u001b[32m    239\u001b[39m \u001b[38;5;28;01mexcept\u001b[39;00m ConnectionNotAvailable:\n\u001b[32m    240\u001b[39m     \u001b[38;5;66;03m# In some cases a connection may initially be available to\u001b[39;00m\n\u001b[32m    241\u001b[39m     \u001b[38;5;66;03m# handle a request, but then become unavailable.\u001b[39;00m\n\u001b[32m    242\u001b[39m     \u001b[38;5;66;03m#\u001b[39;00m\n\u001b[32m    243\u001b[39m     \u001b[38;5;66;03m# In this case we clear the connection and try again.\u001b[39;00m\n\u001b[32m    244\u001b[39m     pool_request.clear_connection()\n",
      "\u001b[36mFile \u001b[39m\u001b[32m~/Coding/its/backend/.venv/lib/python3.12/site-packages/httpcore/_sync/connection.py:103\u001b[39m, in \u001b[36mHTTPConnection.handle_request\u001b[39m\u001b[34m(self, request)\u001b[39m\n\u001b[32m    100\u001b[39m     \u001b[38;5;28mself\u001b[39m._connect_failed = \u001b[38;5;28;01mTrue\u001b[39;00m\n\u001b[32m    101\u001b[39m     \u001b[38;5;28;01mraise\u001b[39;00m exc\n\u001b[32m--> \u001b[39m\u001b[32m103\u001b[39m \u001b[38;5;28;01mreturn\u001b[39;00m \u001b[38;5;28;43mself\u001b[39;49m\u001b[43m.\u001b[49m\u001b[43m_connection\u001b[49m\u001b[43m.\u001b[49m\u001b[43mhandle_request\u001b[49m\u001b[43m(\u001b[49m\u001b[43mrequest\u001b[49m\u001b[43m)\u001b[49m\n",
      "\u001b[36mFile \u001b[39m\u001b[32m~/Coding/its/backend/.venv/lib/python3.12/site-packages/httpcore/_sync/http11.py:136\u001b[39m, in \u001b[36mHTTP11Connection.handle_request\u001b[39m\u001b[34m(self, request)\u001b[39m\n\u001b[32m    134\u001b[39m     \u001b[38;5;28;01mwith\u001b[39;00m Trace(\u001b[33m\"\u001b[39m\u001b[33mresponse_closed\u001b[39m\u001b[33m\"\u001b[39m, logger, request) \u001b[38;5;28;01mas\u001b[39;00m trace:\n\u001b[32m    135\u001b[39m         \u001b[38;5;28mself\u001b[39m._response_closed()\n\u001b[32m--> \u001b[39m\u001b[32m136\u001b[39m \u001b[38;5;28;01mraise\u001b[39;00m exc\n",
      "\u001b[36mFile \u001b[39m\u001b[32m~/Coding/its/backend/.venv/lib/python3.12/site-packages/httpcore/_sync/http11.py:106\u001b[39m, in \u001b[36mHTTP11Connection.handle_request\u001b[39m\u001b[34m(self, request)\u001b[39m\n\u001b[32m     95\u001b[39m     \u001b[38;5;28;01mpass\u001b[39;00m\n\u001b[32m     97\u001b[39m \u001b[38;5;28;01mwith\u001b[39;00m Trace(\n\u001b[32m     98\u001b[39m     \u001b[33m\"\u001b[39m\u001b[33mreceive_response_headers\u001b[39m\u001b[33m\"\u001b[39m, logger, request, kwargs\n\u001b[32m     99\u001b[39m ) \u001b[38;5;28;01mas\u001b[39;00m trace:\n\u001b[32m    100\u001b[39m     (\n\u001b[32m    101\u001b[39m         http_version,\n\u001b[32m    102\u001b[39m         status,\n\u001b[32m    103\u001b[39m         reason_phrase,\n\u001b[32m    104\u001b[39m         headers,\n\u001b[32m    105\u001b[39m         trailing_data,\n\u001b[32m--> \u001b[39m\u001b[32m106\u001b[39m     ) = \u001b[38;5;28;43mself\u001b[39;49m\u001b[43m.\u001b[49m\u001b[43m_receive_response_headers\u001b[49m\u001b[43m(\u001b[49m\u001b[43m*\u001b[49m\u001b[43m*\u001b[49m\u001b[43mkwargs\u001b[49m\u001b[43m)\u001b[49m\n\u001b[32m    107\u001b[39m     trace.return_value = (\n\u001b[32m    108\u001b[39m         http_version,\n\u001b[32m    109\u001b[39m         status,\n\u001b[32m    110\u001b[39m         reason_phrase,\n\u001b[32m    111\u001b[39m         headers,\n\u001b[32m    112\u001b[39m     )\n\u001b[32m    114\u001b[39m network_stream = \u001b[38;5;28mself\u001b[39m._network_stream\n",
      "\u001b[36mFile \u001b[39m\u001b[32m~/Coding/its/backend/.venv/lib/python3.12/site-packages/httpcore/_sync/http11.py:177\u001b[39m, in \u001b[36mHTTP11Connection._receive_response_headers\u001b[39m\u001b[34m(self, request)\u001b[39m\n\u001b[32m    174\u001b[39m timeout = timeouts.get(\u001b[33m\"\u001b[39m\u001b[33mread\u001b[39m\u001b[33m\"\u001b[39m, \u001b[38;5;28;01mNone\u001b[39;00m)\n\u001b[32m    176\u001b[39m \u001b[38;5;28;01mwhile\u001b[39;00m \u001b[38;5;28;01mTrue\u001b[39;00m:\n\u001b[32m--> \u001b[39m\u001b[32m177\u001b[39m     event = \u001b[38;5;28;43mself\u001b[39;49m\u001b[43m.\u001b[49m\u001b[43m_receive_event\u001b[49m\u001b[43m(\u001b[49m\u001b[43mtimeout\u001b[49m\u001b[43m=\u001b[49m\u001b[43mtimeout\u001b[49m\u001b[43m)\u001b[49m\n\u001b[32m    178\u001b[39m     \u001b[38;5;28;01mif\u001b[39;00m \u001b[38;5;28misinstance\u001b[39m(event, h11.Response):\n\u001b[32m    179\u001b[39m         \u001b[38;5;28;01mbreak\u001b[39;00m\n",
      "\u001b[36mFile \u001b[39m\u001b[32m~/Coding/its/backend/.venv/lib/python3.12/site-packages/httpcore/_sync/http11.py:217\u001b[39m, in \u001b[36mHTTP11Connection._receive_event\u001b[39m\u001b[34m(self, timeout)\u001b[39m\n\u001b[32m    214\u001b[39m     event = \u001b[38;5;28mself\u001b[39m._h11_state.next_event()\n\u001b[32m    216\u001b[39m \u001b[38;5;28;01mif\u001b[39;00m event \u001b[38;5;129;01mis\u001b[39;00m h11.NEED_DATA:\n\u001b[32m--> \u001b[39m\u001b[32m217\u001b[39m     data = \u001b[38;5;28;43mself\u001b[39;49m\u001b[43m.\u001b[49m\u001b[43m_network_stream\u001b[49m\u001b[43m.\u001b[49m\u001b[43mread\u001b[49m\u001b[43m(\u001b[49m\n\u001b[32m    218\u001b[39m \u001b[43m        \u001b[49m\u001b[38;5;28;43mself\u001b[39;49m\u001b[43m.\u001b[49m\u001b[43mREAD_NUM_BYTES\u001b[49m\u001b[43m,\u001b[49m\u001b[43m \u001b[49m\u001b[43mtimeout\u001b[49m\u001b[43m=\u001b[49m\u001b[43mtimeout\u001b[49m\n\u001b[32m    219\u001b[39m \u001b[43m    \u001b[49m\u001b[43m)\u001b[49m\n\u001b[32m    221\u001b[39m     \u001b[38;5;66;03m# If we feed this case through h11 we'll raise an exception like:\u001b[39;00m\n\u001b[32m    222\u001b[39m     \u001b[38;5;66;03m#\u001b[39;00m\n\u001b[32m    223\u001b[39m     \u001b[38;5;66;03m#     httpcore.RemoteProtocolError: can't handle event type\u001b[39;00m\n\u001b[32m   (...)\u001b[39m\u001b[32m    227\u001b[39m     \u001b[38;5;66;03m# perspective. Instead we handle this case distinctly and treat\u001b[39;00m\n\u001b[32m    228\u001b[39m     \u001b[38;5;66;03m# it as a ConnectError.\u001b[39;00m\n\u001b[32m    229\u001b[39m     \u001b[38;5;28;01mif\u001b[39;00m data == \u001b[33mb\u001b[39m\u001b[33m\"\u001b[39m\u001b[33m\"\u001b[39m \u001b[38;5;129;01mand\u001b[39;00m \u001b[38;5;28mself\u001b[39m._h11_state.their_state == h11.SEND_RESPONSE:\n",
      "\u001b[36mFile \u001b[39m\u001b[32m~/Coding/its/backend/.venv/lib/python3.12/site-packages/httpcore/_backends/sync.py:128\u001b[39m, in \u001b[36mSyncStream.read\u001b[39m\u001b[34m(self, max_bytes, timeout)\u001b[39m\n\u001b[32m    126\u001b[39m \u001b[38;5;28;01mwith\u001b[39;00m map_exceptions(exc_map):\n\u001b[32m    127\u001b[39m     \u001b[38;5;28mself\u001b[39m._sock.settimeout(timeout)\n\u001b[32m--> \u001b[39m\u001b[32m128\u001b[39m     \u001b[38;5;28;01mreturn\u001b[39;00m \u001b[38;5;28;43mself\u001b[39;49m\u001b[43m.\u001b[49m\u001b[43m_sock\u001b[49m\u001b[43m.\u001b[49m\u001b[43mrecv\u001b[49m\u001b[43m(\u001b[49m\u001b[43mmax_bytes\u001b[49m\u001b[43m)\u001b[49m\n",
      "\u001b[36mFile \u001b[39m\u001b[32m~/.local/share/uv/python/cpython-3.12.9-linux-x86_64-gnu/lib/python3.12/ssl.py:1232\u001b[39m, in \u001b[36mSSLSocket.recv\u001b[39m\u001b[34m(self, buflen, flags)\u001b[39m\n\u001b[32m   1228\u001b[39m     \u001b[38;5;28;01mif\u001b[39;00m flags != \u001b[32m0\u001b[39m:\n\u001b[32m   1229\u001b[39m         \u001b[38;5;28;01mraise\u001b[39;00m \u001b[38;5;167;01mValueError\u001b[39;00m(\n\u001b[32m   1230\u001b[39m             \u001b[33m\"\u001b[39m\u001b[33mnon-zero flags not allowed in calls to recv() on \u001b[39m\u001b[38;5;132;01m%s\u001b[39;00m\u001b[33m\"\u001b[39m %\n\u001b[32m   1231\u001b[39m             \u001b[38;5;28mself\u001b[39m.\u001b[34m__class__\u001b[39m)\n\u001b[32m-> \u001b[39m\u001b[32m1232\u001b[39m     \u001b[38;5;28;01mreturn\u001b[39;00m \u001b[38;5;28;43mself\u001b[39;49m\u001b[43m.\u001b[49m\u001b[43mread\u001b[49m\u001b[43m(\u001b[49m\u001b[43mbuflen\u001b[49m\u001b[43m)\u001b[49m\n\u001b[32m   1233\u001b[39m \u001b[38;5;28;01melse\u001b[39;00m:\n\u001b[32m   1234\u001b[39m     \u001b[38;5;28;01mreturn\u001b[39;00m \u001b[38;5;28msuper\u001b[39m().recv(buflen, flags)\n",
      "\u001b[36mFile \u001b[39m\u001b[32m~/.local/share/uv/python/cpython-3.12.9-linux-x86_64-gnu/lib/python3.12/ssl.py:1105\u001b[39m, in \u001b[36mSSLSocket.read\u001b[39m\u001b[34m(self, len, buffer)\u001b[39m\n\u001b[32m   1103\u001b[39m         \u001b[38;5;28;01mreturn\u001b[39;00m \u001b[38;5;28mself\u001b[39m._sslobj.read(\u001b[38;5;28mlen\u001b[39m, buffer)\n\u001b[32m   1104\u001b[39m     \u001b[38;5;28;01melse\u001b[39;00m:\n\u001b[32m-> \u001b[39m\u001b[32m1105\u001b[39m         \u001b[38;5;28;01mreturn\u001b[39;00m \u001b[38;5;28;43mself\u001b[39;49m\u001b[43m.\u001b[49m\u001b[43m_sslobj\u001b[49m\u001b[43m.\u001b[49m\u001b[43mread\u001b[49m\u001b[43m(\u001b[49m\u001b[38;5;28;43mlen\u001b[39;49m\u001b[43m)\u001b[49m\n\u001b[32m   1106\u001b[39m \u001b[38;5;28;01mexcept\u001b[39;00m SSLError \u001b[38;5;28;01mas\u001b[39;00m x:\n\u001b[32m   1107\u001b[39m     \u001b[38;5;28;01mif\u001b[39;00m x.args[\u001b[32m0\u001b[39m] == SSL_ERROR_EOF \u001b[38;5;129;01mand\u001b[39;00m \u001b[38;5;28mself\u001b[39m.suppress_ragged_eofs:\n",
      "\u001b[31mKeyboardInterrupt\u001b[39m: "
     ]
    }
   ],
   "source": [
    "# evaluator(teacher, metric=metric, display_table=5)\n",
    "teacher = dspy.Predict(TeacherFreeText4Way)\n",
    "scores = []\n",
    "\n",
    "for example in tqdm(dataset[\"train\"]):\n",
    "    # print(example)\n",
    "    pred = teacher(\n",
    "        question=example[\"question\"],\n",
    "        reference_answer=example[\"reference_answer\"],\n",
    "        student_answer=example[\"student_answer\"],\n",
    "    )\n",
    "    gold_score = example[\"label\"]\n",
    "    pred_score = pred.score\n",
    "    scores.append(float(pred_score == gold_score))\n",
    "\n",
    "print(f\"Average score: {sum(scores) / len(scores)}\")"
   ]
  },
  {
   "cell_type": "code",
   "execution_count": null,
   "id": "411c9211-c5a9-4dca-b507-4a264b20bece",
   "metadata": {},
   "outputs": [
    {
     "name": "stderr",
     "output_type": "stream",
     "text": [
      "  0%|          | 10/4969 [00:03<32:30,  2.54it/s]"
     ]
    },
    {
     "name": "stdout",
     "output_type": "stream",
     "text": [
      "Average score: 0.45454545454545453\n"
     ]
    },
    {
     "name": "stderr",
     "output_type": "stream",
     "text": [
      "\n"
     ]
    }
   ],
   "source": [
    "# evaluator(teacher, metric=metric, display_table=5)\n",
    "teacher = dspy.Predict(TeacherFreeText4Way)\n",
    "scores = []\n",
    "\n",
    "for example in tqdm(dataset[\"train\"]):\n",
    "    # print(example)\n",
    "    pred = teacher(\n",
    "        question=example[\"question\"],\n",
    "        reference_answer=example[\"reference_answer\"],\n",
    "        student_answer=example[\"student_answer\"],\n",
    "    )\n",
    "    gold_score = example[\"label\"]\n",
    "    pred_score = pred.score\n",
    "    scores.append(float(pred_score == gold_score))\n",
    "    if len(scores) > 10:\n",
    "        break\n",
    "\n",
    "print(f\"Average score: {sum(scores) / len(scores)}\")"
   ]
  },
  {
   "cell_type": "code",
   "execution_count": null,
   "id": "222fe03d-7ae9-4b87-8614-aeb5b6c377b2",
   "metadata": {},
   "outputs": [
    {
     "data": {
      "text/plain": [
       "{'id': 'ME.79.207.1',\n",
       " 'question': \"Kurt was investigating which objects stick to magnets. He made an entry in his science notebook and drew a picture to help explain what he did. Look what I did! I picked up a paperclip with a magnet. Then that paperclip picked up another one, and then another one. And they weren't hooked together either. All they had to do was touch each other. Explain to Kurt why he was able to pick up all those paperclips, even though the magnet was only touching the first one.\",\n",
       " 'reference_answer': 'When a paperclip sticks to a magnet, the paperclip turns into a temporary magnet, so the paperclip can stick to other paperclips and other things made of iron.',\n",
       " 'student_answer': 'The magnet sends magnet through one paperclip to another.',\n",
       " 'label': 1}"
      ]
     },
     "execution_count": 32,
     "metadata": {},
     "output_type": "execute_result"
    }
   ],
   "source": [
    "from datasets import load_dataset\n",
    "from datasets import ClassLabel\n",
    "import dspy\n",
    "import os\n",
    "from dotenv import load_dotenv\n",
    "from tqdm import tqdm\n",
    "from sklearn.metrics import f1_score, precision_score, accuracy_score\n",
    "\n",
    "load_dotenv()\n",
    "\n",
    "\n",
    "azure_api_key = os.getenv(\"AZURE_API_KEY\")\n",
    "azure_api_base = os.getenv(\"AZURE_API_BASE\")\n",
    "\n",
    "lm = dspy.LM(\n",
    "    \"azure/gpt-4o-mini\",\n",
    "    api_base=azure_api_base,\n",
    "    api_key=azure_api_key,\n",
    "    api_version=\"2024-12-01-preview\",\n",
    ")\n",
    "dspy.configure(lm=lm)\n",
    "\n",
    "dataset = load_dataset(\"nkazi/SciEntsBank\", cache_dir=\"../data\")\n",
    "\n",
    "# convert to 4 way classification\n",
    "dataset = dataset.align_labels_with_mapping(\n",
    "    {\n",
    "        \"correct\": 0,\n",
    "        \"partially_correct_incomplete\": 1,\n",
    "        \"contradictory\": 2,\n",
    "        \"irrelevant\": 3,\n",
    "        \"non_domain\": 3,\n",
    "    },\n",
    "    \"label\",\n",
    ")\n",
    "dataset = dataset.cast_column(\n",
    "    \"label\", ClassLabel(names=[\"correct\", \"contradictory\", \"incorrect\", \"irrelevant\"])\n",
    ")\n",
    "\n",
    "# shuffle ds\n",
    "dataset = dataset.shuffle(seed=42)\n",
    "\n",
    "dataset[\"train\"][0]"
   ]
  },
  {
   "cell_type": "code",
   "execution_count": null,
   "id": "fc81f8a5-24ff-4fd3-a4ff-d9f5eb091df6",
   "metadata": {},
   "outputs": [
    {
     "name": "stderr",
     "output_type": "stream",
     "text": [
      "  0%|          | 20/4969 [00:09<37:46,  2.18it/s]"
     ]
    },
    {
     "name": "stdout",
     "output_type": "stream",
     "text": [
      "Average score: 0.42857142857142855\n",
      "Correct: 9.0 out of 21\n",
      "Accuracy: 0.4286\n",
      "Precision (macro): 0.5667\n",
      "F1 (macro): 0.4719\n"
     ]
    },
    {
     "name": "stderr",
     "output_type": "stream",
     "text": [
      "\n"
     ]
    }
   ],
   "source": [
    "# evaluator(teacher, metric=metric, display_table=5)\n",
    "\n",
    "\n",
    "teacher = dspy.Predict(TeacherFreeText4Way)\n",
    "scores = []\n",
    "y_true = []\n",
    "y_pred = []\n",
    "\n",
    "for example in tqdm(dataset[\"train\"]):\n",
    "    pred = teacher(\n",
    "        question=example[\"question\"],\n",
    "        reference_answer=example[\"reference_answer\"],\n",
    "        student_answer=example[\"student_answer\"],\n",
    "    )\n",
    "    gold_score = example[\"label\"]\n",
    "    pred_score = pred.score\n",
    "    scores.append(float(pred_score == gold_score))\n",
    "    y_true.append(gold_score)\n",
    "    y_pred.append(pred_score)\n",
    "    if len(scores) > 20:\n",
    "        break\n",
    "\n",
    "print(f\"Average score: {sum(scores) / len(scores)}\")\n",
    "print(f\"Correct: {sum(scores)} out of {len(scores)}\")\n",
    "\n",
    "# Calculate and print F1, precision, and accuracy\n",
    "print(f\"Accuracy: {accuracy_score(y_true, y_pred):.4f}\")\n",
    "print(f\"Precision (macro): {precision_score(y_true, y_pred, average='macro'):.4f}\")\n",
    "print(f\"F1 (macro): {f1_score(y_true, y_pred, average='macro'):.4f}\")"
   ]
  },
  {
   "cell_type": "code",
   "execution_count": null,
   "id": "abec1ee0-a525-42ce-bcd9-e64713fd59f0",
   "metadata": {},
   "outputs": [
    {
     "ename": "ModuleNotFoundError",
     "evalue": "No module named 'matplotlib'",
     "output_type": "error",
     "traceback": [
      "\u001b[31m---------------------------------------------------------------------------\u001b[39m",
      "\u001b[31mModuleNotFoundError\u001b[39m                       Traceback (most recent call last)",
      "\u001b[36mCell\u001b[39m\u001b[36m \u001b[39m\u001b[32mIn[34]\u001b[39m\u001b[32m, line 6\u001b[39m\n\u001b[32m      1\u001b[39m \u001b[38;5;66;03m# %%\u001b[39;00m\n\u001b[32m      2\u001b[39m \n\u001b[32m      3\u001b[39m \u001b[38;5;66;03m# evaluator(teacher, metric=metric, display_table=5)\u001b[39;00m\n\u001b[32m----> \u001b[39m\u001b[32m6\u001b[39m \u001b[38;5;28;01mimport\u001b[39;00m\u001b[38;5;250m \u001b[39m\u001b[34;01mmatplotlib\u001b[39;00m\u001b[34;01m.\u001b[39;00m\u001b[34;01mpyplot\u001b[39;00m\u001b[38;5;250m \u001b[39m\u001b[38;5;28;01mas\u001b[39;00m\u001b[38;5;250m \u001b[39m\u001b[34;01mplt\u001b[39;00m\n\u001b[32m      7\u001b[39m \u001b[38;5;28;01mimport\u001b[39;00m\u001b[38;5;250m \u001b[39m\u001b[34;01mseaborn\u001b[39;00m\u001b[38;5;250m \u001b[39m\u001b[38;5;28;01mas\u001b[39;00m\u001b[38;5;250m \u001b[39m\u001b[34;01msns\u001b[39;00m\n\u001b[32m      8\u001b[39m \u001b[38;5;28;01mfrom\u001b[39;00m\u001b[38;5;250m \u001b[39m\u001b[34;01msklearn\u001b[39;00m\u001b[34;01m.\u001b[39;00m\u001b[34;01mmetrics\u001b[39;00m\u001b[38;5;250m \u001b[39m\u001b[38;5;28;01mimport\u001b[39;00m confusion_matrix\n",
      "\u001b[31mModuleNotFoundError\u001b[39m: No module named 'matplotlib'"
     ]
    }
   ],
   "source": [
    "# evaluator(teacher, metric=metric, display_table=5)\n",
    "\n",
    "\n",
    "import matplotlib.pyplot as plt\n",
    "import seaborn as sns\n",
    "from sklearn.metrics import confusion_matrix\n",
    "\n",
    "teacher = dspy.Predict(TeacherFreeText4Way)\n",
    "scores = []\n",
    "y_true = []\n",
    "y_pred = []\n",
    "\n",
    "for example in tqdm(dataset[\"train\"]):\n",
    "    pred = teacher(\n",
    "        question=example[\"question\"],\n",
    "        reference_answer=example[\"reference_answer\"],\n",
    "        student_answer=example[\"student_answer\"],\n",
    "    )\n",
    "    gold_score = example[\"label\"]\n",
    "    pred_score = pred.score\n",
    "    scores.append(float(pred_score == gold_score))\n",
    "    y_true.append(gold_score)\n",
    "    y_pred.append(pred_score)\n",
    "    if len(scores) > 20:\n",
    "        break\n",
    "\n",
    "print(f\"Average score: {sum(scores) / len(scores)}\")\n",
    "print(f\"Correct: {sum(scores)} out of {len(scores)}\")\n",
    "\n",
    "# Calculate and print F1, precision, and accuracy\n",
    "print(f\"Accuracy: {accuracy_score(y_true, y_pred):.4f}\")\n",
    "print(f\"Precision (macro): {precision_score(y_true, y_pred, average='macro'):.4f}\")\n",
    "print(f\"F1 (macro): {f1_score(y_true, y_pred, average='macro'):.4f}\")\n",
    "\n",
    "# Plot confusion matrix\n",
    "labels = dataset[\"train\"].features[\"label\"].names\n",
    "cm = confusion_matrix(y_true, y_pred, labels=range(len(labels)))\n",
    "plt.figure(figsize=(6, 5))\n",
    "sns.heatmap(\n",
    "    cm, annot=True, fmt=\"d\", cmap=\"Blues\", xticklabels=labels, yticklabels=labels\n",
    ")\n",
    "plt.xlabel(\"Predicted label\")\n",
    "plt.ylabel(\"True label\")\n",
    "plt.title(\"Confusion Matrix\")\n",
    "plt.show()"
   ]
  },
  {
   "cell_type": "code",
   "execution_count": null,
   "id": "b48fba1b-103c-427e-8ea4-39a8d0640ce2",
   "metadata": {},
   "outputs": [
    {
     "ename": "ModuleNotFoundError",
     "evalue": "No module named 'seaborn'",
     "output_type": "error",
     "traceback": [
      "\u001b[31m---------------------------------------------------------------------------\u001b[39m",
      "\u001b[31mModuleNotFoundError\u001b[39m                       Traceback (most recent call last)",
      "\u001b[36mCell\u001b[39m\u001b[36m \u001b[39m\u001b[32mIn[35]\u001b[39m\u001b[32m, line 7\u001b[39m\n\u001b[32m      1\u001b[39m \u001b[38;5;66;03m# %%\u001b[39;00m\n\u001b[32m      2\u001b[39m \n\u001b[32m      3\u001b[39m \u001b[38;5;66;03m# evaluator(teacher, metric=metric, display_table=5)\u001b[39;00m\n\u001b[32m      6\u001b[39m \u001b[38;5;28;01mimport\u001b[39;00m\u001b[38;5;250m \u001b[39m\u001b[34;01mmatplotlib\u001b[39;00m\u001b[34;01m.\u001b[39;00m\u001b[34;01mpyplot\u001b[39;00m\u001b[38;5;250m \u001b[39m\u001b[38;5;28;01mas\u001b[39;00m\u001b[38;5;250m \u001b[39m\u001b[34;01mplt\u001b[39;00m\n\u001b[32m----> \u001b[39m\u001b[32m7\u001b[39m \u001b[38;5;28;01mimport\u001b[39;00m\u001b[38;5;250m \u001b[39m\u001b[34;01mseaborn\u001b[39;00m\u001b[38;5;250m \u001b[39m\u001b[38;5;28;01mas\u001b[39;00m\u001b[38;5;250m \u001b[39m\u001b[34;01msns\u001b[39;00m\n\u001b[32m      8\u001b[39m \u001b[38;5;28;01mfrom\u001b[39;00m\u001b[38;5;250m \u001b[39m\u001b[34;01msklearn\u001b[39;00m\u001b[34;01m.\u001b[39;00m\u001b[34;01mmetrics\u001b[39;00m\u001b[38;5;250m \u001b[39m\u001b[38;5;28;01mimport\u001b[39;00m confusion_matrix\n\u001b[32m     10\u001b[39m teacher = dspy.Predict(TeacherFreeText4Way)\n",
      "\u001b[31mModuleNotFoundError\u001b[39m: No module named 'seaborn'"
     ]
    }
   ],
   "source": [
    "# evaluator(teacher, metric=metric, display_table=5)\n",
    "\n",
    "\n",
    "import matplotlib.pyplot as plt\n",
    "import seaborn as sns\n",
    "from sklearn.metrics import confusion_matrix\n",
    "\n",
    "teacher = dspy.Predict(TeacherFreeText4Way)\n",
    "scores = []\n",
    "y_true = []\n",
    "y_pred = []\n",
    "\n",
    "for example in tqdm(dataset[\"train\"]):\n",
    "    pred = teacher(\n",
    "        question=example[\"question\"],\n",
    "        reference_answer=example[\"reference_answer\"],\n",
    "        student_answer=example[\"student_answer\"],\n",
    "    )\n",
    "    gold_score = example[\"label\"]\n",
    "    pred_score = pred.score\n",
    "    scores.append(float(pred_score == gold_score))\n",
    "    y_true.append(gold_score)\n",
    "    y_pred.append(pred_score)\n",
    "    if len(scores) > 20:\n",
    "        break\n",
    "\n",
    "print(f\"Average score: {sum(scores) / len(scores)}\")\n",
    "print(f\"Correct: {sum(scores)} out of {len(scores)}\")\n",
    "\n",
    "# Calculate and print F1, precision, and accuracy\n",
    "print(f\"Accuracy: {accuracy_score(y_true, y_pred):.4f}\")\n",
    "print(f\"Precision (macro): {precision_score(y_true, y_pred, average='macro'):.4f}\")\n",
    "print(f\"F1 (macro): {f1_score(y_true, y_pred, average='macro'):.4f}\")\n",
    "\n",
    "# Plot confusion matrix\n",
    "labels = dataset[\"train\"].features[\"label\"].names\n",
    "cm = confusion_matrix(y_true, y_pred, labels=range(len(labels)))\n",
    "plt.figure(figsize=(6, 5))\n",
    "sns.heatmap(\n",
    "    cm, annot=True, fmt=\"d\", cmap=\"Blues\", xticklabels=labels, yticklabels=labels\n",
    ")\n",
    "plt.xlabel(\"Predicted label\")\n",
    "plt.ylabel(\"True label\")\n",
    "plt.title(\"Confusion Matrix\")\n",
    "plt.show()"
   ]
  },
  {
   "cell_type": "code",
   "execution_count": null,
   "id": "b5133f5b-9c92-4d11-be3a-174cb4a2ab96",
   "metadata": {},
   "outputs": [
    {
     "name": "stderr",
     "output_type": "stream",
     "text": [
      "  0%|          | 20/4969 [00:00<01:12, 68.25it/s]\n"
     ]
    },
    {
     "name": "stdout",
     "output_type": "stream",
     "text": [
      "Average score: 0.42857142857142855\n",
      "Correct: 9.0 out of 21\n",
      "Accuracy: 0.4286\n",
      "Precision (macro): 0.5667\n",
      "F1 (macro): 0.4719\n"
     ]
    },
    {
     "data": {
      "image/png": "[encoded data removed]",
      "text/plain": [
       "<Figure size 600x500 with 2 Axes>"
      ]
     },
     "metadata": {},
     "output_type": "display_data"
    }
   ],
   "source": [
    "# evaluator(teacher, metric=metric, display_table=5)\n",
    "\n",
    "\n",
    "import matplotlib.pyplot as plt\n",
    "import seaborn as sns\n",
    "from sklearn.metrics import confusion_matrix\n",
    "\n",
    "teacher = dspy.Predict(TeacherFreeText4Way)\n",
    "scores = []\n",
    "y_true = []\n",
    "y_pred = []\n",
    "\n",
    "for example in tqdm(dataset[\"train\"]):\n",
    "    pred = teacher(\n",
    "        question=example[\"question\"],\n",
    "        reference_answer=example[\"reference_answer\"],\n",
    "        student_answer=example[\"student_answer\"],\n",
    "    )\n",
    "    gold_score = example[\"label\"]\n",
    "    pred_score = pred.score\n",
    "    scores.append(float(pred_score == gold_score))\n",
    "    y_true.append(gold_score)\n",
    "    y_pred.append(pred_score)\n",
    "    if len(scores) > 20:\n",
    "        break\n",
    "\n",
    "print(f\"Average score: {sum(scores) / len(scores)}\")\n",
    "print(f\"Correct: {sum(scores)} out of {len(scores)}\")\n",
    "\n",
    "# Calculate and print F1, precision, and accuracy\n",
    "print(f\"Accuracy: {accuracy_score(y_true, y_pred):.4f}\")\n",
    "print(f\"Precision (macro): {precision_score(y_true, y_pred, average='macro'):.4f}\")\n",
    "print(f\"F1 (macro): {f1_score(y_true, y_pred, average='macro'):.4f}\")\n",
    "\n",
    "# Plot confusion matrix\n",
    "labels = dataset[\"train\"].features[\"label\"].names\n",
    "cm = confusion_matrix(y_true, y_pred, labels=range(len(labels)))\n",
    "plt.figure(figsize=(6, 5))\n",
    "sns.heatmap(\n",
    "    cm, annot=True, fmt=\"d\", cmap=\"Blues\", xticklabels=labels, yticklabels=labels\n",
    ")\n",
    "plt.xlabel(\"Predicted label\")\n",
    "plt.ylabel(\"True label\")\n",
    "plt.title(\"Confusion Matrix\")\n",
    "plt.show()"
   ]
  },
  {
   "cell_type": "code",
   "execution_count": null,
   "id": "4a906fee-afe0-48e2-b0e9-8dd233dd4b93",
   "metadata": {},
   "outputs": [
    {
     "data": {
      "text/plain": [
       "{'id': 'ME.79.207.1',\n",
       " 'question': \"Kurt was investigating which objects stick to magnets. He made an entry in his science notebook and drew a picture to help explain what he did. Look what I did! I picked up a paperclip with a magnet. Then that paperclip picked up another one, and then another one. And they weren't hooked together either. All they had to do was touch each other. Explain to Kurt why he was able to pick up all those paperclips, even though the magnet was only touching the first one.\",\n",
       " 'reference_answer': 'When a paperclip sticks to a magnet, the paperclip turns into a temporary magnet, so the paperclip can stick to other paperclips and other things made of iron.',\n",
       " 'student_answer': 'The magnet sends magnet through one paperclip to another.',\n",
       " 'label': 1}"
      ]
     },
     "execution_count": 37,
     "metadata": {},
     "output_type": "execute_result"
    }
   ],
   "source": [
    "from datasets import load_dataset\n",
    "from datasets import ClassLabel\n",
    "import dspy\n",
    "import os\n",
    "from dotenv import load_dotenv\n",
    "from tqdm import tqdm\n",
    "from sklearn.metrics import f1_score, precision_score, accuracy_score\n",
    "\n",
    "load_dotenv()\n",
    "\n",
    "\n",
    "azure_api_key = os.getenv(\"AZURE_API_KEY\")\n",
    "azure_api_base = os.getenv(\"AZURE_API_BASE\")\n",
    "\n",
    "lm = dspy.LM(\n",
    "    \"azure/gpt-4o-mini\",\n",
    "    api_base=azure_api_base,\n",
    "    api_key=azure_api_key,\n",
    "    api_version=\"2024-12-01-preview\",\n",
    ")\n",
    "dspy.configure(lm=lm)\n",
    "\n",
    "dataset = load_dataset(\"nkazi/SciEntsBank\", cache_dir=\"../data\")\n",
    "\n",
    "# convert to 4 way classification\n",
    "dataset = dataset.align_labels_with_mapping(\n",
    "    {\n",
    "        \"correct\": 0,\n",
    "        \"partially_correct_incomplete\": 1,\n",
    "        \"contradictory\": 2,\n",
    "        \"irrelevant\": 3,\n",
    "        \"non_domain\": 3,\n",
    "    },\n",
    "    \"label\",\n",
    ")\n",
    "dataset = dataset.cast_column(\n",
    "    \"label\", ClassLabel(names=[\"correct\", \"contradictory\", \"incorrect\", \"irrelevant\"])\n",
    ")\n",
    "\n",
    "# shuffle ds\n",
    "dataset = dataset.shuffle(seed=42)\n",
    "\n",
    "dataset[\"train\"][0]"
   ]
  },
  {
   "cell_type": "code",
   "execution_count": null,
   "id": "9936911d-43cd-45f3-8eda-9f32a63620be",
   "metadata": {},
   "outputs": [],
   "source": [
    "class TeacherFreeText4Way(dspy.Signature):\n",
    "    \"\"\"You are a teacher for undergraduate students.\n",
    "    Your job is to evaluate the student's answers to a short answer-question.\n",
    "\n",
    "    Students have been asked this question:  {question}\n",
    "\n",
    "    A correct answer to this question is: {reference_answer}\n",
    "\n",
    "    Your task is to decide if the student’s answer is correct, partially correct but incomplete, irrelevant or contradictory.\n",
    "    Answer based on the provided correct answer only.\n",
    "\n",
    "    Correct: The student's answer is correct and includes the key points from the correct answer.\n",
    "    If the student response is correct, you will respond with score = 0\n",
    "\n",
    "    Partially correct but incomplete: The student's answer correct, but does not include the key points from the correct answer.\n",
    "    If the student response is partially correct but incomplete, you will respond with score = 1\n",
    "\n",
    "    Contradictory: The student's answer contradicts the correct answer. It is not related to the question.\n",
    "    If the student response is contradictory, you will respond with score = 2\n",
    "\n",
    "    Irrelevant: The student's answer is irrelevant to the question.\n",
    "    If the student response is irrelevant, you will respond with score = 3\n",
    "    \"\"\"\n",
    "\n",
    "    question: str = dspy.InputField(description=\"The question asked to the student.\")\n",
    "\n",
    "    reference_answer: str = dspy.InputField(\n",
    "        description=\"The correct answer to the question.\"\n",
    "    )\n",
    "\n",
    "    student_answer: str = dspy.InputField(\n",
    "        description=\"The student's answer to the question.\"\n",
    "    )\n",
    "\n",
    "    score: int = dspy.OutputField(\n",
    "        description=\"0 if the content of the student's answer is correct, 1 if it is partially correct but incomplete, 2 if it is contradictory, 3 if it is irrelevant.\"\n",
    "    )"
   ]
  },
  {
   "cell_type": "code",
   "execution_count": null,
   "id": "62fbf6ed-a4c9-4a32-a513-59b710bb99bb",
   "metadata": {},
   "outputs": [],
   "source": [
    "def print_label_dist(dataset):\n",
    "    for split_name in dataset:\n",
    "        print(split_name, \":\")\n",
    "        num_examples = 0\n",
    "        for label in dataset[split_name].features[\"label\"].names:\n",
    "            count = dataset[split_name][\"label\"].count(\n",
    "                dataset[split_name].features[\"label\"].str2int(label)\n",
    "            )\n",
    "            print(\" \", label, \":\", count)\n",
    "            num_examples += count\n",
    "        print(\"  total :\", num_examples)\n",
    "\n",
    "\n",
    "# print_label_dist(dataset)"
   ]
  },
  {
   "cell_type": "code",
   "execution_count": null,
   "id": "c79920d7-0395-4688-a6e4-9d0cec7323e5",
   "metadata": {},
   "outputs": [],
   "source": [
    "def metric(gold, pred, trace=None):\n",
    "    # gold is a DSPy Example with targets, pred is the model output\n",
    "    gold_score = gold.label\n",
    "    pred_score = pred.score\n",
    "\n",
    "    return float(pred_score == gold_score)\n",
    "\n",
    "\n",
    "evaluator = dspy.Evaluate(\n",
    "    devset=dataset[\"train\"][:20], num_threads=8, display_progress=True\n",
    ")"
   ]
  },
  {
   "cell_type": "code",
   "execution_count": null,
   "id": "2e6c69c8-047f-4016-85ed-2c423ea78bcf",
   "metadata": {},
   "outputs": [
    {
     "name": "stderr",
     "output_type": "stream",
     "text": [
      "  0%|          | 20/4969 [00:08<34:37,  2.38it/s] "
     ]
    },
    {
     "name": "stdout",
     "output_type": "stream",
     "text": [
      "Average score: 0.5238095238095238\n",
      "Correct: 11.0 out of 21\n",
      "Accuracy: 0.5238\n",
      "Precision (macro): 0.6375\n",
      "F1 (macro): 0.5482\n"
     ]
    },
    {
     "name": "stderr",
     "output_type": "stream",
     "text": [
      "\n"
     ]
    },
    {
     "data": {
      "image/png": "[encoded data removed]",
      "text/plain": [
       "<Figure size 600x500 with 2 Axes>"
      ]
     },
     "metadata": {},
     "output_type": "display_data"
    }
   ],
   "source": [
    "# evaluator(teacher, metric=metric, display_table=5)\n",
    "\n",
    "\n",
    "import matplotlib.pyplot as plt\n",
    "import seaborn as sns\n",
    "from sklearn.metrics import confusion_matrix\n",
    "\n",
    "teacher = dspy.Predict(TeacherFreeText4Way)\n",
    "scores = []\n",
    "y_true = []\n",
    "y_pred = []\n",
    "\n",
    "for example in tqdm(dataset[\"train\"]):\n",
    "    pred = teacher(\n",
    "        question=example[\"question\"],\n",
    "        reference_answer=example[\"reference_answer\"],\n",
    "        student_answer=example[\"student_answer\"],\n",
    "    )\n",
    "    gold_score = example[\"label\"]\n",
    "    pred_score = pred.score\n",
    "    scores.append(float(pred_score == gold_score))\n",
    "    y_true.append(gold_score)\n",
    "    y_pred.append(pred_score)\n",
    "    if len(scores) > 20:\n",
    "        break\n",
    "\n",
    "print(f\"Average score: {sum(scores) / len(scores)}\")\n",
    "print(f\"Correct: {sum(scores)} out of {len(scores)}\")\n",
    "\n",
    "# Calculate and print F1, precision, and accuracy\n",
    "print(f\"Accuracy: {accuracy_score(y_true, y_pred):.4f}\")\n",
    "print(f\"Precision (macro): {precision_score(y_true, y_pred, average='macro'):.4f}\")\n",
    "print(f\"F1 (macro): {f1_score(y_true, y_pred, average='macro'):.4f}\")\n",
    "\n",
    "# Plot confusion matrix\n",
    "labels = dataset[\"train\"].features[\"label\"].names\n",
    "cm = confusion_matrix(y_true, y_pred, labels=range(len(labels)))\n",
    "plt.figure(figsize=(6, 5))\n",
    "sns.heatmap(\n",
    "    cm, annot=True, fmt=\"d\", cmap=\"Blues\", xticklabels=labels, yticklabels=labels\n",
    ")\n",
    "plt.xlabel(\"Predicted label\")\n",
    "plt.ylabel(\"True label\")\n",
    "plt.title(\"Confusion Matrix\")\n",
    "plt.show()"
   ]
  },
  {
   "cell_type": "code",
   "execution_count": null,
   "id": "51e499c7-a42f-4d6a-bb8f-59a041b1664e",
   "metadata": {},
   "outputs": [
    {
     "data": {
      "text/plain": [
       "{'id': 'ME.79.207.1',\n",
       " 'question': \"Kurt was investigating which objects stick to magnets. He made an entry in his science notebook and drew a picture to help explain what he did. Look what I did! I picked up a paperclip with a magnet. Then that paperclip picked up another one, and then another one. And they weren't hooked together either. All they had to do was touch each other. Explain to Kurt why he was able to pick up all those paperclips, even though the magnet was only touching the first one.\",\n",
       " 'reference_answer': 'When a paperclip sticks to a magnet, the paperclip turns into a temporary magnet, so the paperclip can stick to other paperclips and other things made of iron.',\n",
       " 'student_answer': 'The magnet sends magnet through one paperclip to another.',\n",
       " 'label': 1}"
      ]
     },
     "execution_count": 42,
     "metadata": {},
     "output_type": "execute_result"
    }
   ],
   "source": [
    "from datasets import load_dataset\n",
    "from datasets import ClassLabel\n",
    "import dspy\n",
    "import os\n",
    "from dotenv import load_dotenv\n",
    "from tqdm import tqdm\n",
    "from sklearn.metrics import f1_score, precision_score, accuracy_score, confusion_matrix\n",
    "import matplotlib.pyplot as plt\n",
    "import seaborn as sns\n",
    "\n",
    "\n",
    "load_dotenv()\n",
    "\n",
    "\n",
    "azure_api_key = os.getenv(\"AZURE_API_KEY\")\n",
    "azure_api_base = os.getenv(\"AZURE_API_BASE\")\n",
    "\n",
    "lm = dspy.LM(\n",
    "    \"azure/gpt-4o-mini\",\n",
    "    api_base=azure_api_base,\n",
    "    api_key=azure_api_key,\n",
    "    api_version=\"2024-12-01-preview\",\n",
    ")\n",
    "dspy.configure(lm=lm)\n",
    "\n",
    "dataset = load_dataset(\"nkazi/SciEntsBank\", cache_dir=\"../data\")\n",
    "\n",
    "# convert to 4 way classification\n",
    "dataset = dataset.align_labels_with_mapping(\n",
    "    {\n",
    "        \"correct\": 0,\n",
    "        \"partially_correct_incomplete\": 1,\n",
    "        \"contradictory\": 2,\n",
    "        \"irrelevant\": 3,\n",
    "        \"non_domain\": 3,\n",
    "    },\n",
    "    \"label\",\n",
    ")\n",
    "dataset = dataset.cast_column(\n",
    "    \"label\", ClassLabel(names=[\"correct\", \"contradictory\", \"incorrect\", \"irrelevant\"])\n",
    ")\n",
    "\n",
    "# shuffle ds\n",
    "dataset = dataset.shuffle(seed=42)\n",
    "\n",
    "dataset[\"train\"][0]"
   ]
  },
  {
   "cell_type": "code",
   "execution_count": null,
   "id": "6429cdc6-1584-44da-b342-10c363d52acd",
   "metadata": {},
   "outputs": [
    {
     "name": "stderr",
     "output_type": "stream",
     "text": [
      "  2%|▏         | 99/4969 [00:30<24:52,  3.26it/s]"
     ]
    },
    {
     "name": "stdout",
     "output_type": "stream",
     "text": [
      "Average score: 0.51\n",
      "Correct: 51.0 out of 100\n",
      "Accuracy: 0.5100\n",
      "Precision (macro): 0.6016\n",
      "F1 (macro): 0.5493\n"
     ]
    },
    {
     "name": "stderr",
     "output_type": "stream",
     "text": [
      "\n"
     ]
    },
    {
     "data": {
      "image/png": "[encoded data removed]",
      "text/plain": [
       "<Figure size 600x500 with 2 Axes>"
      ]
     },
     "metadata": {},
     "output_type": "display_data"
    }
   ],
   "source": [
    "teacher = dspy.Predict(TeacherFreeText4Way)\n",
    "scores = []\n",
    "y_true = []\n",
    "y_pred = []\n",
    "\n",
    "number_of_examples = 100\n",
    "\n",
    "for example in tqdm(dataset[\"train\"]):\n",
    "    pred = teacher(\n",
    "        question=example[\"question\"],\n",
    "        reference_answer=example[\"reference_answer\"],\n",
    "        student_answer=example[\"student_answer\"],\n",
    "    )\n",
    "    gold_score = example[\"label\"]\n",
    "    pred_score = pred.score\n",
    "    scores.append(float(pred_score == gold_score))\n",
    "    y_true.append(gold_score)\n",
    "    y_pred.append(pred_score)\n",
    "    if len(scores) >= number_of_examples:\n",
    "        break\n",
    "\n",
    "print(f\"Average score: {sum(scores) / len(scores)}\")\n",
    "print(f\"Correct: {sum(scores)} out of {len(scores)}\")\n",
    "\n",
    "# Calculate and print F1, precision, and accuracy\n",
    "print(f\"Accuracy: {accuracy_score(y_true, y_pred):.4f}\")\n",
    "print(f\"Precision (macro): {precision_score(y_true, y_pred, average='macro'):.4f}\")\n",
    "print(f\"F1 (macro): {f1_score(y_true, y_pred, average='macro'):.4f}\")\n",
    "\n",
    "# Plot confusion matrix\n",
    "labels = dataset[\"train\"].features[\"label\"].names\n",
    "cm = confusion_matrix(y_true, y_pred, labels=range(len(labels)))\n",
    "plt.figure(figsize=(6, 5))\n",
    "sns.heatmap(\n",
    "    cm, annot=True, fmt=\"d\", cmap=\"Blues\", xticklabels=labels, yticklabels=labels\n",
    ")\n",
    "plt.xlabel(\"Predicted label\")\n",
    "plt.ylabel(\"True label\")\n",
    "plt.title(\"Confusion Matrix\")\n",
    "plt.show()"
   ]
  },
  {
   "cell_type": "code",
   "execution_count": null,
   "id": "50e485d6-e166-4cb4-bada-200b5137e1ec",
   "metadata": {},
   "outputs": [
    {
     "name": "stderr",
     "output_type": "stream",
     "text": [
      "  2%|▏         | 99/4969 [01:48<1:29:06,  1.10s/it]"
     ]
    },
    {
     "name": "stdout",
     "output_type": "stream",
     "text": [
      "Average score: 0.42\n",
      "Correct: 42.0 out of 100\n",
      "Accuracy: 0.4200\n",
      "Precision (macro): 0.6618\n",
      "F1 (macro): 0.4563\n"
     ]
    },
    {
     "name": "stderr",
     "output_type": "stream",
     "text": [
      "\n"
     ]
    },
    {
     "data": {
      "image/png": "[encoded data removed]",
      "text/plain": [
       "<Figure size 600x500 with 2 Axes>"
      ]
     },
     "metadata": {},
     "output_type": "display_data"
    }
   ],
   "source": [
    "teacher = dspy.ChainOfThought(TeacherFreeText4Way)\n",
    "scores = []\n",
    "y_true = []\n",
    "y_pred = []\n",
    "\n",
    "number_of_examples = 100\n",
    "\n",
    "for example in tqdm(dataset[\"train\"]):\n",
    "    pred = teacher(\n",
    "        question=example[\"question\"],\n",
    "        reference_answer=example[\"reference_answer\"],\n",
    "        student_answer=example[\"student_answer\"],\n",
    "    )\n",
    "    gold_score = example[\"label\"]\n",
    "    pred_score = pred.score\n",
    "    scores.append(float(pred_score == gold_score))\n",
    "    y_true.append(gold_score)\n",
    "    y_pred.append(pred_score)\n",
    "    if len(scores) >= number_of_examples:\n",
    "        break\n",
    "\n",
    "print(f\"Average score: {sum(scores) / len(scores)}\")\n",
    "print(f\"Correct: {sum(scores)} out of {len(scores)}\")\n",
    "\n",
    "# Calculate and print F1, precision, and accuracy\n",
    "print(f\"Accuracy: {accuracy_score(y_true, y_pred):.4f}\")\n",
    "print(f\"Precision (macro): {precision_score(y_true, y_pred, average='macro'):.4f}\")\n",
    "print(f\"F1 (macro): {f1_score(y_true, y_pred, average='macro'):.4f}\")\n",
    "\n",
    "# Plot confusion matrix\n",
    "labels = dataset[\"train\"].features[\"label\"].names\n",
    "cm = confusion_matrix(y_true, y_pred, labels=range(len(labels)))\n",
    "plt.figure(figsize=(6, 5))\n",
    "sns.heatmap(\n",
    "    cm, annot=True, fmt=\"d\", cmap=\"Blues\", xticklabels=labels, yticklabels=labels\n",
    ")\n",
    "plt.xlabel(\"Predicted label\")\n",
    "plt.ylabel(\"True label\")\n",
    "plt.title(\"Confusion Matrix\")\n",
    "plt.show()"
   ]
  },
  {
   "cell_type": "code",
   "execution_count": null,
   "id": "91e4c6d1-7e1f-4e9b-8d39-0438c34bcfeb",
   "metadata": {},
   "outputs": [
    {
     "name": "stderr",
     "output_type": "stream",
     "text": [
      "Aligning the labels: 100%|██████████| 4969/4969 [00:00<00:00, 270013.04 examples/s]\n",
      "Aligning the labels: 100%|██████████| 540/540 [00:00<00:00, 180328.36 examples/s]\n",
      "Aligning the labels: 100%|██████████| 733/733 [00:00<00:00, 251178.50 examples/s]\n",
      "Aligning the labels: 100%|██████████| 4562/4562 [00:00<00:00, 535363.16 examples/s]\n",
      "Casting the dataset: 100%|██████████| 4969/4969 [00:00<00:00, 1035499.41 examples/s]\n",
      "Casting the dataset: 100%|██████████| 540/540 [00:00<00:00, 249303.71 examples/s]\n",
      "Casting the dataset: 100%|██████████| 733/733 [00:00<00:00, 316983.69 examples/s]\n",
      "Casting the dataset: 100%|██████████| 4562/4562 [00:00<00:00, 1015681.03 examples/s]\n"
     ]
    },
    {
     "data": {
      "text/plain": [
       "{'id': 'ME.79.207.1',\n",
       " 'question': \"Kurt was investigating which objects stick to magnets. He made an entry in his science notebook and drew a picture to help explain what he did. Look what I did! I picked up a paperclip with a magnet. Then that paperclip picked up another one, and then another one. And they weren't hooked together either. All they had to do was touch each other. Explain to Kurt why he was able to pick up all those paperclips, even though the magnet was only touching the first one.\",\n",
       " 'reference_answer': 'When a paperclip sticks to a magnet, the paperclip turns into a temporary magnet, so the paperclip can stick to other paperclips and other things made of iron.',\n",
       " 'student_answer': 'The magnet sends magnet through one paperclip to another.',\n",
       " 'label': 2}"
      ]
     },
     "execution_count": 45,
     "metadata": {},
     "output_type": "execute_result"
    }
   ],
   "source": [
    "from datasets import load_dataset\n",
    "from datasets import ClassLabel\n",
    "import dspy\n",
    "import os\n",
    "from dotenv import load_dotenv\n",
    "from tqdm import tqdm\n",
    "from sklearn.metrics import f1_score, precision_score, accuracy_score, confusion_matrix\n",
    "import matplotlib.pyplot as plt\n",
    "import seaborn as sns\n",
    "\n",
    "\n",
    "load_dotenv()\n",
    "\n",
    "\n",
    "azure_api_key = os.getenv(\"AZURE_API_KEY\")\n",
    "azure_api_base = os.getenv(\"AZURE_API_BASE\")\n",
    "\n",
    "lm = dspy.LM(\n",
    "    \"azure/gpt-4o-mini\",\n",
    "    api_base=azure_api_base,\n",
    "    api_key=azure_api_key,\n",
    "    api_version=\"2024-12-01-preview\",\n",
    ")\n",
    "dspy.configure(lm=lm)\n",
    "\n",
    "dataset = load_dataset(\"nkazi/SciEntsBank\", cache_dir=\"../data\")\n",
    "\n",
    "# convert to 4 way classification\n",
    "dataset = dataset.align_labels_with_mapping(\n",
    "    {\n",
    "        \"correct\": 3,\n",
    "        \"partially_correct_incomplete\": 2,\n",
    "        \"contradictory\": 0,\n",
    "        \"irrelevant\": 1,\n",
    "        \"non_domain\": 1,\n",
    "    },\n",
    "    \"label\",\n",
    ")\n",
    "dataset = dataset.cast_column(\n",
    "    \"label\",\n",
    "    ClassLabel(\n",
    "        names=[\"correct\", \"partially_correct_incomplete\", \"contradictory\", \"irrelevant\"]\n",
    "    ),\n",
    ")\n",
    "\n",
    "# shuffle ds\n",
    "dataset = dataset.shuffle(seed=42)\n",
    "\n",
    "dataset[\"train\"][0]"
   ]
  },
  {
   "cell_type": "code",
   "execution_count": null,
   "id": "ae363fc3-7561-42f8-9577-efb6048b96a6",
   "metadata": {},
   "outputs": [],
   "source": [
    "class TeacherFreeText4Way(dspy.Signature):\n",
    "    \"\"\"You are a teacher for undergraduate students.\n",
    "    Your job is to evaluate the student's answers to a short answer-question.\n",
    "\n",
    "    Students have been asked this question:  {question}\n",
    "\n",
    "    A correct answer to this question is: {reference_answer}\n",
    "\n",
    "    Your task is to decide if the student’s answer is correct, partially correct but incomplete, irrelevant or contradictory.\n",
    "    Answer based on the provided correct answer only.\n",
    "\n",
    "    Correct: The student's answer is correct and includes the key points from the correct answer.\n",
    "    If the student response is correct, you will respond with score = 3\n",
    "\n",
    "    Partially correct but incomplete: The student's answer correct, but does not include the key points from the correct answer.\n",
    "    If the student response is partially correct but incomplete, you will respond with score = 2\n",
    "\n",
    "    Contradictory: The student's answer contradicts the correct answer. It is not related to the question.\n",
    "    If the student response is contradictory, you will respond with score = 0\n",
    "\n",
    "    Irrelevant: The student's answer is irrelevant to the question.\n",
    "    If the student response is irrelevant, you will respond with score = 1\n",
    "    \"\"\"\n",
    "\n",
    "    question: str = dspy.InputField(description=\"The question asked to the student.\")\n",
    "\n",
    "    reference_answer: str = dspy.InputField(\n",
    "        description=\"The correct answer to the question.\"\n",
    "    )\n",
    "\n",
    "    student_answer: str = dspy.InputField(\n",
    "        description=\"The student's answer to the question.\"\n",
    "    )\n",
    "\n",
    "    score: int = dspy.OutputField(\n",
    "        description=\"3 if the content of the student's answer is correct, 2 if it is partially correct but incomplete, 0 if it is contradictory, 1 if it is irrelevant.\"\n",
    "    )"
   ]
  },
  {
   "cell_type": "code",
   "execution_count": null,
   "id": "d348eb33-c885-4ed3-9d28-2e5f224e820f",
   "metadata": {},
   "outputs": [
    {
     "name": "stderr",
     "output_type": "stream",
     "text": [
      "  2%|▏         | 99/4969 [00:40<33:31,  2.42it/s]  "
     ]
    },
    {
     "name": "stdout",
     "output_type": "stream",
     "text": [
      "Average score: 0.47\n",
      "Correct: 47.0 out of 100\n",
      "Accuracy: 0.4700\n",
      "Precision (macro): 0.5067\n",
      "F1 (macro): 0.4814\n"
     ]
    },
    {
     "name": "stderr",
     "output_type": "stream",
     "text": [
      "\n"
     ]
    },
    {
     "data": {
      "image/png": "[encoded data removed]",
      "text/plain": [
       "<Figure size 600x500 with 2 Axes>"
      ]
     },
     "metadata": {},
     "output_type": "display_data"
    }
   ],
   "source": [
    "teacher = dspy.Predict(TeacherFreeText4Way)\n",
    "scores = []\n",
    "y_true = []\n",
    "y_pred = []\n",
    "\n",
    "number_of_examples = 100\n",
    "\n",
    "for example in tqdm(dataset[\"train\"]):\n",
    "    pred = teacher(\n",
    "        question=example[\"question\"],\n",
    "        reference_answer=example[\"reference_answer\"],\n",
    "        student_answer=example[\"student_answer\"],\n",
    "    )\n",
    "    gold_score = example[\"label\"]\n",
    "    pred_score = pred.score\n",
    "    scores.append(float(pred_score == gold_score))\n",
    "    y_true.append(gold_score)\n",
    "    y_pred.append(pred_score)\n",
    "    if len(scores) >= number_of_examples:\n",
    "        break\n",
    "\n",
    "print(f\"Average score: {sum(scores) / len(scores)}\")\n",
    "print(f\"Correct: {sum(scores)} out of {len(scores)}\")\n",
    "\n",
    "# Calculate and print F1, precision, and accuracy\n",
    "print(f\"Accuracy: {accuracy_score(y_true, y_pred):.4f}\")\n",
    "print(f\"Precision (macro): {precision_score(y_true, y_pred, average='macro'):.4f}\")\n",
    "print(f\"F1 (macro): {f1_score(y_true, y_pred, average='macro'):.4f}\")\n",
    "\n",
    "# Plot confusion matrix\n",
    "labels = dataset[\"train\"].features[\"label\"].names\n",
    "cm = confusion_matrix(y_true, y_pred, labels=range(len(labels)))\n",
    "plt.figure(figsize=(6, 5))\n",
    "sns.heatmap(\n",
    "    cm, annot=True, fmt=\"d\", cmap=\"Blues\", xticklabels=labels, yticklabels=labels\n",
    ")\n",
    "plt.xlabel(\"Predicted label\")\n",
    "plt.ylabel(\"True label\")\n",
    "plt.title(\"Confusion Matrix\")\n",
    "plt.show()"
   ]
  },
  {
   "cell_type": "code",
   "execution_count": null,
   "id": "e2139443-08d8-4df0-99ff-94beab91722f",
   "metadata": {},
   "outputs": [
    {
     "name": "stderr",
     "output_type": "stream",
     "text": [
      "Aligning the labels: 100%|██████████| 4969/4969 [00:00<00:00, 239062.82 examples/s]\n",
      "Aligning the labels: 100%|██████████| 540/540 [00:00<00:00, 144345.43 examples/s]\n",
      "Aligning the labels: 100%|██████████| 733/733 [00:00<00:00, 171410.84 examples/s]\n",
      "Aligning the labels: 100%|██████████| 4562/4562 [00:00<00:00, 415135.27 examples/s]\n",
      "Casting the dataset: 100%|██████████| 4969/4969 [00:00<00:00, 939356.23 examples/s]\n",
      "Casting the dataset: 100%|██████████| 540/540 [00:00<00:00, 209037.76 examples/s]\n",
      "Casting the dataset: 100%|██████████| 733/733 [00:00<00:00, 328113.64 examples/s]\n",
      "Casting the dataset: 100%|██████████| 4562/4562 [00:00<00:00, 1030172.01 examples/s]\n"
     ]
    },
    {
     "data": {
      "text/plain": [
       "{'id': 'ME.79.207.1',\n",
       " 'question': \"Kurt was investigating which objects stick to magnets. He made an entry in his science notebook and drew a picture to help explain what he did. Look what I did! I picked up a paperclip with a magnet. Then that paperclip picked up another one, and then another one. And they weren't hooked together either. All they had to do was touch each other. Explain to Kurt why he was able to pick up all those paperclips, even though the magnet was only touching the first one.\",\n",
       " 'reference_answer': 'When a paperclip sticks to a magnet, the paperclip turns into a temporary magnet, so the paperclip can stick to other paperclips and other things made of iron.',\n",
       " 'student_answer': 'The magnet sends magnet through one paperclip to another.',\n",
       " 'label': 2}"
      ]
     },
     "execution_count": 48,
     "metadata": {},
     "output_type": "execute_result"
    }
   ],
   "source": [
    "from datasets import load_dataset\n",
    "from datasets import ClassLabel\n",
    "import dspy\n",
    "import os\n",
    "from dotenv import load_dotenv\n",
    "from tqdm import tqdm\n",
    "from sklearn.metrics import f1_score, precision_score, accuracy_score, confusion_matrix\n",
    "import matplotlib.pyplot as plt\n",
    "import seaborn as sns\n",
    "\n",
    "\n",
    "load_dotenv()\n",
    "\n",
    "\n",
    "azure_api_key = os.getenv(\"AZURE_API_KEY\")\n",
    "azure_api_base = os.getenv(\"AZURE_API_BASE\")\n",
    "\n",
    "lm = dspy.LM(\n",
    "    \"azure/gpt-4o-mini\",\n",
    "    api_base=azure_api_base,\n",
    "    api_key=azure_api_key,\n",
    "    api_version=\"2024-12-01-preview\",\n",
    ")\n",
    "dspy.configure(lm=lm)\n",
    "\n",
    "dataset = load_dataset(\"nkazi/SciEntsBank\", cache_dir=\"../data\")\n",
    "\n",
    "# convert to 4 way classification\n",
    "dataset = dataset.align_labels_with_mapping(\n",
    "    {\n",
    "        \"correct\": 0,\n",
    "        \"contradictory\": 1,\n",
    "        \"partially_correct_incomplete\": 2,\n",
    "        \"irrelevant\": 2,\n",
    "        \"non_domain\": 2,\n",
    "    },\n",
    "    \"label\",\n",
    ")\n",
    "dataset = dataset.cast_column(\n",
    "    \"label\", ClassLabel(names=[\"correct\", \"contradictory\", \"incorrect\"])\n",
    ")\n",
    "\n",
    "# shuffle ds\n",
    "dataset = dataset.shuffle(seed=42)\n",
    "\n",
    "dataset[\"train\"][0]"
   ]
  },
  {
   "cell_type": "code",
   "execution_count": null,
   "id": "9f6d6939-dadf-4d93-bc60-b875d07c84a7",
   "metadata": {},
   "outputs": [],
   "source": [
    "class TeacherFreeText4Way(dspy.Signature):\n",
    "    \"\"\"You are a teacher for undergraduate students.\n",
    "    Your job is to evaluate the student's answers to a short answer-question.\n",
    "\n",
    "    Your task is to decide if the student’s answer is correct, partially correct but incomplete, irrelevant or contradictory.\n",
    "    Answer based on the provided correct answer only.\n",
    "\n",
    "    Correct: The student's answer is correct and includes the key points from the correct answer.\n",
    "    If the student response is correct, you will respond with score = 0\n",
    "\n",
    "    Contradictory: The student's answer contradicts the correct answer. It is not related to the question.\n",
    "    If the student response is contradictory, you will respond with score = 1\n",
    "\n",
    "    Partially correct but incomplete: The student's answer correct, but does not include the key points from the correct answer.\n",
    "    Or if the student's answer is irrelevant to the question.\n",
    "    If the student response is partially correct but incomplete, you will respond with score = 2\n",
    "    \"\"\"\n",
    "\n",
    "    # Irrelevant: The student's answer is irrelevant to the question.\n",
    "    # If the student response is irrelevant, you will respond with score = 3\n",
    "\n",
    "    question: str = dspy.InputField(description=\"The question asked to the student.\")\n",
    "\n",
    "    reference_answer: str = dspy.InputField(\n",
    "        description=\"The correct answer to the question.\"\n",
    "    )\n",
    "\n",
    "    student_answer: str = dspy.InputField(\n",
    "        description=\"The student's answer to the question.\"\n",
    "    )\n",
    "\n",
    "    score: int = dspy.OutputField(\n",
    "        description=\"0 if the content of the student's answer is correct, 1 if it is contradictory, 2 if it is partially correct but incomplete or irrelevant.\"\n",
    "    )\n",
    "\n",
    "    # score: int = dspy.OutputField(\n",
    "    #     description=\"3 if the content of the student's answer is correct, 2 if it is partially correct but incomplete, 0 if it is contradictory, 1 if it is irrelevant.\"\n",
    "    # )"
   ]
  },
  {
   "cell_type": "code",
   "execution_count": null,
   "id": "c62e0d4c-87fb-4c5f-9382-802c5f169734",
   "metadata": {},
   "outputs": [
    {
     "name": "stderr",
     "output_type": "stream",
     "text": [
      "  2%|▏         | 99/4969 [00:41<34:19,  2.36it/s]"
     ]
    },
    {
     "name": "stdout",
     "output_type": "stream",
     "text": [
      "Average score: 0.57\n",
      "Correct: 57.0 out of 100\n",
      "Accuracy: 0.5700\n",
      "Precision (macro): 0.5675\n",
      "F1 (macro): 0.5388\n"
     ]
    },
    {
     "name": "stderr",
     "output_type": "stream",
     "text": [
      "\n"
     ]
    },
    {
     "data": {
      "image/png": "[encoded data removed]",
      "text/plain": [
       "<Figure size 600x500 with 2 Axes>"
      ]
     },
     "metadata": {},
     "output_type": "display_data"
    }
   ],
   "source": [
    "teacher = dspy.Predict(TeacherFreeText4Way)\n",
    "scores = []\n",
    "y_true = []\n",
    "y_pred = []\n",
    "\n",
    "number_of_examples = 100\n",
    "\n",
    "for example in tqdm(dataset[\"train\"]):\n",
    "    pred = teacher(\n",
    "        question=example[\"question\"],\n",
    "        reference_answer=example[\"reference_answer\"],\n",
    "        student_answer=example[\"student_answer\"],\n",
    "    )\n",
    "    gold_score = example[\"label\"]\n",
    "    pred_score = pred.score\n",
    "    scores.append(float(pred_score == gold_score))\n",
    "    y_true.append(gold_score)\n",
    "    y_pred.append(pred_score)\n",
    "    if len(scores) >= number_of_examples:\n",
    "        break\n",
    "\n",
    "print(f\"Average score: {sum(scores) / len(scores)}\")\n",
    "print(f\"Correct: {sum(scores)} out of {len(scores)}\")\n",
    "\n",
    "# Calculate and print F1, precision, and accuracy\n",
    "print(f\"Accuracy: {accuracy_score(y_true, y_pred):.4f}\")\n",
    "print(f\"Precision (macro): {precision_score(y_true, y_pred, average='macro'):.4f}\")\n",
    "print(f\"F1 (macro): {f1_score(y_true, y_pred, average='macro'):.4f}\")\n",
    "\n",
    "# Plot confusion matrix\n",
    "labels = dataset[\"train\"].features[\"label\"].names\n",
    "cm = confusion_matrix(y_true, y_pred, labels=range(len(labels)))\n",
    "plt.figure(figsize=(6, 5))\n",
    "sns.heatmap(\n",
    "    cm, annot=True, fmt=\"d\", cmap=\"Blues\", xticklabels=labels, yticklabels=labels\n",
    ")\n",
    "plt.xlabel(\"Predicted label\")\n",
    "plt.ylabel(\"True label\")\n",
    "plt.title(\"Confusion Matrix\")\n",
    "plt.show()"
   ]
  },
  {
   "cell_type": "code",
   "execution_count": null,
   "id": "e7c16d75-f61a-4f61-94d8-651d915f88dc",
   "metadata": {},
   "outputs": [],
   "source": [
    "class TeacherFreeText4Way(dspy.Signature):\n",
    "    \"\"\"You are a teacher for undergraduate students.\n",
    "    Your job is to evaluate the student's answers to a short answer-question.\n",
    "\n",
    "    Your task is to decide if the student’s answer is correct, partially correct but incomplete, irrelevant or contradictory.\n",
    "    Answer based on the provided correct answer only.\n",
    "\n",
    "    Correct: The student's answer is correct and includes the key points from the correct answer.\n",
    "    If the student response is correct, you will respond with score = 0\n",
    "\n",
    "    Contradictory: The student's answer directly contradicts the correct answer.\n",
    "    If the student response is contradictory, you will respond with score = 1\n",
    "\n",
    "    Incorrect: The student's answer is incorrect, for example it is not related to the question or it is not correct, but does not contradict the correct answer.\n",
    "    If the student response is incorrect, you will respond with score = 2\n",
    "    \"\"\"\n",
    "\n",
    "    # Irrelevant: The student's answer is irrelevant to the question.\n",
    "    # If the student response is irrelevant, you will respond with score = 3\n",
    "\n",
    "    question: str = dspy.InputField(description=\"The question asked to the student.\")\n",
    "\n",
    "    reference_answer: str = dspy.InputField(\n",
    "        description=\"The correct answer to the question.\"\n",
    "    )\n",
    "\n",
    "    student_answer: str = dspy.InputField(\n",
    "        description=\"The student's answer to the question.\"\n",
    "    )\n",
    "\n",
    "    score: int = dspy.OutputField(\n",
    "        description=\"0 if the content of the student's answer is correct, 1 if it is contradictory, 2 if it is incorrect.\"\n",
    "    )\n",
    "\n",
    "    # score: int = dspy.OutputField(\n",
    "    #     description=\"3 if the content of the student's answer is correct, 2 if it is partially correct but incomplete, 0 if it is contradictory, 1 if it is irrelevant.\"\n",
    "    # )"
   ]
  },
  {
   "cell_type": "code",
   "execution_count": null,
   "id": "cc42cc72-3dd0-4058-8f51-a94fa0c32d16",
   "metadata": {},
   "outputs": [
    {
     "name": "stderr",
     "output_type": "stream",
     "text": [
      "  2%|▏         | 99/4969 [00:41<34:15,  2.37it/s]"
     ]
    },
    {
     "name": "stdout",
     "output_type": "stream",
     "text": [
      "Average score: 0.7\n",
      "Correct: 70.0 out of 100\n",
      "Accuracy: 0.7000\n",
      "Precision (macro): 0.6997\n",
      "F1 (macro): 0.6874\n"
     ]
    },
    {
     "name": "stderr",
     "output_type": "stream",
     "text": [
      "\n"
     ]
    },
    {
     "data": {
      "image/png": "[encoded data removed]",
      "text/plain": [
       "<Figure size 600x500 with 2 Axes>"
      ]
     },
     "metadata": {},
     "output_type": "display_data"
    }
   ],
   "source": [
    "teacher = dspy.Predict(TeacherFreeText4Way)\n",
    "scores = []\n",
    "y_true = []\n",
    "y_pred = []\n",
    "\n",
    "number_of_examples = 100\n",
    "\n",
    "for example in tqdm(dataset[\"train\"]):\n",
    "    pred = teacher(\n",
    "        question=example[\"question\"],\n",
    "        reference_answer=example[\"reference_answer\"],\n",
    "        student_answer=example[\"student_answer\"],\n",
    "    )\n",
    "    gold_score = example[\"label\"]\n",
    "    pred_score = pred.score\n",
    "    scores.append(float(pred_score == gold_score))\n",
    "    y_true.append(gold_score)\n",
    "    y_pred.append(pred_score)\n",
    "    if len(scores) >= number_of_examples:\n",
    "        break\n",
    "\n",
    "print(f\"Average score: {sum(scores) / len(scores)}\")\n",
    "print(f\"Correct: {sum(scores)} out of {len(scores)}\")\n",
    "\n",
    "# Calculate and print F1, precision, and accuracy\n",
    "print(f\"Accuracy: {accuracy_score(y_true, y_pred):.4f}\")\n",
    "print(f\"Precision (macro): {precision_score(y_true, y_pred, average='macro'):.4f}\")\n",
    "print(f\"F1 (macro): {f1_score(y_true, y_pred, average='macro'):.4f}\")\n",
    "\n",
    "# Plot confusion matrix\n",
    "labels = dataset[\"train\"].features[\"label\"].names\n",
    "cm = confusion_matrix(y_true, y_pred, labels=range(len(labels)))\n",
    "plt.figure(figsize=(6, 5))\n",
    "sns.heatmap(\n",
    "    cm, annot=True, fmt=\"d\", cmap=\"Blues\", xticklabels=labels, yticklabels=labels\n",
    ")\n",
    "plt.xlabel(\"Predicted label\")\n",
    "plt.ylabel(\"True label\")\n",
    "plt.title(\"Confusion Matrix\")\n",
    "plt.show()"
   ]
  },
  {
   "cell_type": "code",
   "execution_count": null,
   "id": "20f49898-89d2-45e3-9d3d-cefd43c58666",
   "metadata": {},
   "outputs": [
    {
     "name": "stderr",
     "output_type": "stream",
     "text": [
      "Aligning the labels: 100%|██████████| 4969/4969 [00:00<00:00, 250450.59 examples/s]\n",
      "Aligning the labels: 100%|██████████| 540/540 [00:00<00:00, 135243.58 examples/s]\n",
      "Aligning the labels: 100%|██████████| 733/733 [00:00<00:00, 188765.57 examples/s]\n",
      "Aligning the labels: 100%|██████████| 4562/4562 [00:00<00:00, 402262.38 examples/s]\n",
      "Casting the dataset: 100%|██████████| 4969/4969 [00:00<00:00, 685282.50 examples/s]\n",
      "Casting the dataset: 100%|██████████| 540/540 [00:00<00:00, 122289.52 examples/s]\n",
      "Casting the dataset: 100%|██████████| 733/733 [00:00<00:00, 218416.09 examples/s]\n",
      "Casting the dataset: 100%|██████████| 4562/4562 [00:00<00:00, 785678.53 examples/s]\n"
     ]
    },
    {
     "data": {
      "text/plain": [
       "{'id': 'ME.79.207.1',\n",
       " 'question': \"Kurt was investigating which objects stick to magnets. He made an entry in his science notebook and drew a picture to help explain what he did. Look what I did! I picked up a paperclip with a magnet. Then that paperclip picked up another one, and then another one. And they weren't hooked together either. All they had to do was touch each other. Explain to Kurt why he was able to pick up all those paperclips, even though the magnet was only touching the first one.\",\n",
       " 'reference_answer': 'When a paperclip sticks to a magnet, the paperclip turns into a temporary magnet, so the paperclip can stick to other paperclips and other things made of iron.',\n",
       " 'student_answer': 'The magnet sends magnet through one paperclip to another.',\n",
       " 'label': 1}"
      ]
     },
     "execution_count": 53,
     "metadata": {},
     "output_type": "execute_result"
    }
   ],
   "source": [
    "from datasets import load_dataset\n",
    "from datasets import ClassLabel\n",
    "import dspy\n",
    "import os\n",
    "from dotenv import load_dotenv\n",
    "from tqdm import tqdm\n",
    "from sklearn.metrics import f1_score, precision_score, accuracy_score, confusion_matrix\n",
    "import matplotlib.pyplot as plt\n",
    "import seaborn as sns\n",
    "\n",
    "\n",
    "load_dotenv()\n",
    "\n",
    "\n",
    "azure_api_key = os.getenv(\"AZURE_API_KEY\")\n",
    "azure_api_base = os.getenv(\"AZURE_API_BASE\")\n",
    "\n",
    "lm = dspy.LM(\n",
    "    \"azure/gpt-4o-mini\",\n",
    "    api_base=azure_api_base,\n",
    "    api_key=azure_api_key,\n",
    "    api_version=\"2024-12-01-preview\",\n",
    ")\n",
    "dspy.configure(lm=lm)\n",
    "\n",
    "dataset = load_dataset(\"nkazi/SciEntsBank\", cache_dir=\"../data\")\n",
    "\n",
    "# convert to 4 way classification\n",
    "dataset = dataset.align_labels_with_mapping(\n",
    "    {\n",
    "        \"correct\": 0,\n",
    "        \"contradictory\": 1,\n",
    "        \"partially_correct_incomplete\": 1,\n",
    "        \"irrelevant\": 1,\n",
    "        \"non_domain\": 1,\n",
    "    },\n",
    "    \"label\",\n",
    ")\n",
    "dataset = dataset.cast_column(\"label\", ClassLabel(names=[\"correct\", \"incorrect\"]))\n",
    "\n",
    "# shuffle ds\n",
    "dataset = dataset.shuffle(seed=42)\n",
    "\n",
    "dataset[\"train\"][0]"
   ]
  },
  {
   "cell_type": "code",
   "execution_count": null,
   "id": "538e4fa1-ad9a-4276-82e7-95965de5cacb",
   "metadata": {},
   "outputs": [],
   "source": [
    "class TeacherFreeText3Way(dspy.Signature):\n",
    "    \"\"\"You are a teacher for undergraduate students.\n",
    "    Your job is to evaluate the student's answers to a short answer-question.\n",
    "\n",
    "    Your task is to decide if the student’s answer is correct, partially correct but incomplete, irrelevant or contradictory.\n",
    "    Answer based on the provided correct answer only.\n",
    "\n",
    "    Correct: The student's answer is correct and includes the key points from the correct answer.\n",
    "    If the student response is correct, you will respond with score = 0\n",
    "\n",
    "    Contradictory: The student's answer directly contradicts the correct answer.\n",
    "    If the student response is contradictory, you will respond with score = 1\n",
    "\n",
    "    Incorrect: The student's answer is incorrect, for example it is not related to the question or it is not correct, but does not contradict the correct answer.\n",
    "    If the student response is incorrect, you will respond with score = 2\n",
    "    \"\"\"\n",
    "\n",
    "    # Irrelevant: The student's answer is irrelevant to the question.\n",
    "    # If the student response is irrelevant, you will respond with score = 3\n",
    "\n",
    "    question: str = dspy.InputField(description=\"The question asked to the student.\")\n",
    "\n",
    "    reference_answer: str = dspy.InputField(\n",
    "        description=\"The correct answer to the question.\"\n",
    "    )\n",
    "\n",
    "    student_answer: str = dspy.InputField(\n",
    "        description=\"The student's answer to the question.\"\n",
    "    )\n",
    "\n",
    "    score: int = dspy.OutputField(\n",
    "        description=\"0 if the content of the student's answer is correct, 1 if it is contradictory, 2 if it is incorrect.\"\n",
    "    )\n",
    "\n",
    "    # score: int = dspy.OutputField(\n",
    "    #     description=\"3 if the content of the student's answer is correct, 2 if it is partially correct but incomplete, 0 if it is contradictory, 1 if it is irrelevant.\"\n",
    "    # )\n",
    "\n",
    "\n",
    "class TeacherFreeText2Way(dspy.Signature):\n",
    "    \"\"\"You are a teacher for undergraduate students.\n",
    "    Your job is to evaluate the student's answers to a short answer-question.\n",
    "\n",
    "    Your task is to decide if the student’s answer is correct or incorrect.\n",
    "    Answer based on the provided correct answer.\n",
    "\n",
    "    Correct: The student's answer is correct and matches the correct answer.\n",
    "    If the student response is correct, you will respond with score = 0\n",
    "\n",
    "    Incorrect: The student's answer is incorrect, for example it is not related to the question or it is not correct,\n",
    "    or if it contradict the correct answer.\n",
    "    If the student response is incorrect, you will respond with score = 1\n",
    "    \"\"\"\n",
    "\n",
    "    question: str = dspy.InputField(description=\"The question asked to the student.\")\n",
    "\n",
    "    reference_answer: str = dspy.InputField(\n",
    "        description=\"The correct answer to the question.\"\n",
    "    )\n",
    "\n",
    "    student_answer: str = dspy.InputField(\n",
    "        description=\"The student's answer to the question.\"\n",
    "    )\n",
    "\n",
    "    score: int = dspy.OutputField(\n",
    "        description=\"0 if the content of the student's answer is correct, 1 if it is incorrect.\"\n",
    "    )"
   ]
  },
  {
   "cell_type": "code",
   "execution_count": null,
   "id": "5dd5176c-12e3-4afa-9b60-5862c7e7c3a7",
   "metadata": {},
   "outputs": [
    {
     "name": "stderr",
     "output_type": "stream",
     "text": [
      "  2%|▏         | 99/4969 [01:35<1:18:09,  1.04it/s]"
     ]
    },
    {
     "name": "stdout",
     "output_type": "stream",
     "text": [
      "Average score: 0.69\n",
      "Correct: 69.0 out of 100\n",
      "Accuracy: 0.6900\n",
      "Precision (macro): 0.7177\n",
      "F1 (macro): 0.6656\n"
     ]
    },
    {
     "name": "stderr",
     "output_type": "stream",
     "text": [
      "\n"
     ]
    },
    {
     "data": {
      "image/png": "[encoded data removed]",
      "text/plain": [
       "<Figure size 600x500 with 2 Axes>"
      ]
     },
     "metadata": {},
     "output_type": "display_data"
    }
   ],
   "source": [
    "teacher = dspy.Predict(TeacherFreeText2Way)\n",
    "scores = []\n",
    "y_true = []\n",
    "y_pred = []\n",
    "\n",
    "number_of_examples = 100\n",
    "\n",
    "for example in tqdm(dataset[\"train\"]):\n",
    "    pred = teacher(\n",
    "        question=example[\"question\"],\n",
    "        reference_answer=example[\"reference_answer\"],\n",
    "        student_answer=example[\"student_answer\"],\n",
    "    )\n",
    "    gold_score = example[\"label\"]\n",
    "    pred_score = pred.score\n",
    "    scores.append(float(pred_score == gold_score))\n",
    "    y_true.append(gold_score)\n",
    "    y_pred.append(pred_score)\n",
    "    if len(scores) >= number_of_examples:\n",
    "        break\n",
    "\n",
    "print(f\"Average score: {sum(scores) / len(scores)}\")\n",
    "print(f\"Correct: {sum(scores)} out of {len(scores)}\")\n",
    "\n",
    "# Calculate and print F1, precision, and accuracy\n",
    "print(f\"Accuracy: {accuracy_score(y_true, y_pred):.4f}\")\n",
    "print(f\"Precision (macro): {precision_score(y_true, y_pred, average='macro'):.4f}\")\n",
    "print(f\"F1 (macro): {f1_score(y_true, y_pred, average='macro'):.4f}\")\n",
    "\n",
    "# Plot confusion matrix\n",
    "labels = dataset[\"train\"].features[\"label\"].names\n",
    "cm = confusion_matrix(y_true, y_pred, labels=range(len(labels)))\n",
    "plt.figure(figsize=(6, 5))\n",
    "sns.heatmap(\n",
    "    cm, annot=True, fmt=\"d\", cmap=\"Blues\", xticklabels=labels, yticklabels=labels\n",
    ")\n",
    "plt.xlabel(\"Predicted label\")\n",
    "plt.ylabel(\"True label\")\n",
    "plt.title(\"Confusion Matrix\")\n",
    "plt.show()"
   ]
  },
  {
   "cell_type": "code",
   "execution_count": null,
   "id": "9a1b4caf-b0ce-475a-98a5-64d3d8569ae4",
   "metadata": {},
   "outputs": [
    {
     "data": {
      "text/plain": [
       "{'id': 'ME.79.207.1',\n",
       " 'question': \"Kurt was investigating which objects stick to magnets. He made an entry in his science notebook and drew a picture to help explain what he did. Look what I did! I picked up a paperclip with a magnet. Then that paperclip picked up another one, and then another one. And they weren't hooked together either. All they had to do was touch each other. Explain to Kurt why he was able to pick up all those paperclips, even though the magnet was only touching the first one.\",\n",
       " 'reference_answer': 'When a paperclip sticks to a magnet, the paperclip turns into a temporary magnet, so the paperclip can stick to other paperclips and other things made of iron.',\n",
       " 'student_answer': 'The magnet sends magnet through one paperclip to another.',\n",
       " 'label': 1}"
      ]
     },
     "execution_count": 56,
     "metadata": {},
     "output_type": "execute_result"
    }
   ],
   "source": [
    "from datasets import load_dataset\n",
    "from datasets import ClassLabel\n",
    "import dspy\n",
    "import os\n",
    "from dotenv import load_dotenv\n",
    "from tqdm import tqdm\n",
    "from sklearn.metrics import f1_score, precision_score, accuracy_score, confusion_matrix\n",
    "import matplotlib.pyplot as plt\n",
    "import seaborn as sns\n",
    "\n",
    "\n",
    "load_dotenv()\n",
    "\n",
    "\n",
    "azure_api_key = os.getenv(\"AZURE_API_KEY\")\n",
    "azure_api_base = os.getenv(\"AZURE_API_BASE\")\n",
    "\n",
    "lm = dspy.LM(\n",
    "    \"azure/gpt-4o\",\n",
    "    api_base=azure_api_base,\n",
    "    api_key=azure_api_key,\n",
    "    api_version=\"2024-12-01-preview\",\n",
    ")\n",
    "dspy.configure(lm=lm)\n",
    "\n",
    "dataset = load_dataset(\"nkazi/SciEntsBank\", cache_dir=\"../data\")\n",
    "\n",
    "# convert to 4 way classification\n",
    "dataset = dataset.align_labels_with_mapping(\n",
    "    {\n",
    "        \"correct\": 0,\n",
    "        \"contradictory\": 1,\n",
    "        \"partially_correct_incomplete\": 1,\n",
    "        \"irrelevant\": 1,\n",
    "        \"non_domain\": 1,\n",
    "    },\n",
    "    \"label\",\n",
    ")\n",
    "dataset = dataset.cast_column(\"label\", ClassLabel(names=[\"correct\", \"incorrect\"]))\n",
    "\n",
    "# shuffle ds\n",
    "dataset = dataset.shuffle(seed=42)\n",
    "\n",
    "dataset[\"train\"][0]"
   ]
  },
  {
   "cell_type": "code",
   "execution_count": null,
   "id": "583a233a-70aa-4bcd-8f43-2c37821577be",
   "metadata": {},
   "outputs": [
    {
     "name": "stderr",
     "output_type": "stream",
     "text": [
      "  2%|▏         | 99/4969 [00:33<27:10,  2.99it/s]"
     ]
    },
    {
     "name": "stdout",
     "output_type": "stream",
     "text": [
      "Average score: 0.74\n",
      "Correct: 74.0 out of 100\n",
      "Accuracy: 0.7400\n",
      "Precision (macro): 0.7386\n",
      "F1 (macro): 0.7374\n"
     ]
    },
    {
     "name": "stderr",
     "output_type": "stream",
     "text": [
      "\n"
     ]
    },
    {
     "data": {
      "image/png": "[encoded data removed]",
      "text/plain": [
       "<Figure size 600x500 with 2 Axes>"
      ]
     },
     "metadata": {},
     "output_type": "display_data"
    }
   ],
   "source": [
    "teacher = dspy.Predict(TeacherFreeText2Way)\n",
    "scores = []\n",
    "y_true = []\n",
    "y_pred = []\n",
    "\n",
    "number_of_examples = 100\n",
    "\n",
    "for example in tqdm(dataset[\"train\"]):\n",
    "    pred = teacher(\n",
    "        question=example[\"question\"],\n",
    "        reference_answer=example[\"reference_answer\"],\n",
    "        student_answer=example[\"student_answer\"],\n",
    "    )\n",
    "    gold_score = example[\"label\"]\n",
    "    pred_score = pred.score\n",
    "    scores.append(float(pred_score == gold_score))\n",
    "    y_true.append(gold_score)\n",
    "    y_pred.append(pred_score)\n",
    "    if len(scores) >= number_of_examples:\n",
    "        break\n",
    "\n",
    "print(f\"Average score: {sum(scores) / len(scores)}\")\n",
    "print(f\"Correct: {sum(scores)} out of {len(scores)}\")\n",
    "\n",
    "# Calculate and print F1, precision, and accuracy\n",
    "print(f\"Accuracy: {accuracy_score(y_true, y_pred):.4f}\")\n",
    "print(f\"Precision (macro): {precision_score(y_true, y_pred, average='macro'):.4f}\")\n",
    "print(f\"F1 (macro): {f1_score(y_true, y_pred, average='macro'):.4f}\")\n",
    "\n",
    "# Plot confusion matrix\n",
    "labels = dataset[\"train\"].features[\"label\"].names\n",
    "cm = confusion_matrix(y_true, y_pred, labels=range(len(labels)))\n",
    "plt.figure(figsize=(6, 5))\n",
    "sns.heatmap(\n",
    "    cm, annot=True, fmt=\"d\", cmap=\"Blues\", xticklabels=labels, yticklabels=labels\n",
    ")\n",
    "plt.xlabel(\"Predicted label\")\n",
    "plt.ylabel(\"True label\")\n",
    "plt.title(\"Confusion Matrix\")\n",
    "plt.show()"
   ]
  }
 ],
 "metadata": {
  "kernelspec": {
   "display_name": ".venv",
   "language": "python",
   "name": "python3"
  },
  "language_info": {
   "name": "python",
   "version": "3.12.9"
  }
 },
 "nbformat": 4,
 "nbformat_minor": 5
}
